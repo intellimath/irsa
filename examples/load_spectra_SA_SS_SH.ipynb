{
 "cells": [
  {
   "cell_type": "code",
   "execution_count": 1,
   "id": "898fd428-1d6f-4a87-9236-92339a17b458",
   "metadata": {
    "execution": {
     "iopub.execute_input": "2025-04-01T11:15:36.703891Z",
     "iopub.status.busy": "2025-04-01T11:15:36.703395Z",
     "iopub.status.idle": "2025-04-01T11:15:38.603648Z",
     "shell.execute_reply": "2025-04-01T11:15:38.602892Z",
     "shell.execute_reply.started": "2025-04-01T11:15:36.703846Z"
    }
   },
   "outputs": [
    {
     "name": "stdout",
     "output_type": "stream",
     "text": [
      "3.13.2 (main, Mar 13 2025, 14:29:07) [GCC 14.2.0]\n"
     ]
    },
    {
     "data": {
      "text/plain": [
       "<contextlib.ExitStack at 0x7fac1dbe1f90>"
      ]
     },
     "execution_count": 1,
     "metadata": {},
     "output_type": "execute_result"
    }
   ],
   "source": [
    "import numpy as np\n",
    "import matplotlib.pyplot as plt\n",
    "import scipy.stats as stats\n",
    "\n",
    "from pprint import pprint\n",
    "\n",
    "from functools import partial\n",
    "\n",
    "import numpy as np\n",
    "from sklearn.preprocessing import scale\n",
    "import sklearn.metrics as metrics\n",
    "\n",
    "import matplotlib.pyplot as plt\n",
    "import matplotlib.animation as ani\n",
    "\n",
    "import mlgrad.models as models\n",
    "import mlgrad.regr as regr\n",
    "import mlgrad.cls as cls\n",
    "import mlgrad.pca as pca\n",
    "import mlgrad.plots as plots\n",
    "import mlgrad.funcs as funcs\n",
    "import mlgrad.funcs2 as funcs2\n",
    "import mlgrad.loss as loss\n",
    "import mlgrad.gd as gd\n",
    "import mlgrad.smooth as smooth\n",
    "import mlgrad.inventory as inventory\n",
    "from mlgrad.af import averaging_function\n",
    "import mlgrad.avragg as avragg\n",
    "\n",
    "import rampy\n",
    "import pybaselines\n",
    "import random\n",
    "\n",
    "from irsa import io\n",
    "from irsa.preprocess import despike, utils\n",
    "import irsa.widgets as widgets\n",
    "import irsa.spectra as spectra\n",
    "import irsa.io as io\n",
    "\n",
    "import scipy.special as special\n",
    "\n",
    "import copy\n",
    "\n",
    "import ipywidgets\n",
    "from IPython.display import display\n",
    "\n",
    "import sys\n",
    "print(sys.version)\n",
    "\n",
    "%matplotlib widget\n",
    "plt.ioff()"
   ]
  },
  {
   "cell_type": "code",
   "execution_count": 2,
   "id": "8c060415-7c41-4d50-aad6-b09e9b4f3b25",
   "metadata": {
    "execution": {
     "iopub.execute_input": "2025-04-01T11:15:38.605192Z",
     "iopub.status.busy": "2025-04-01T11:15:38.604847Z",
     "iopub.status.idle": "2025-04-01T11:15:38.608202Z",
     "shell.execute_reply": "2025-04-01T11:15:38.607530Z",
     "shell.execute_reply.started": "2025-04-01T11:15:38.605172Z"
    }
   },
   "outputs": [],
   "source": [
    "# path = f\"/home/intellimath/repos/spectra/bacteria1024\"\n",
    "# path = f\"/home/intellimath/repos/spectra/bacteria25_7\"\n",
    "# path = f\"/home/intellimath/repos/spectra/mechanical_lysis\"\n",
    "# path = f\"/home/intellimath/repos/spectra/thermal_lysis\"\n",
    "path = f\"/home/intellimath/repos/spectra/7_4\"\n",
    "options = {}\n",
    "dd = {}\n",
    "# widgets.load_spectras(path, dd, options)"
   ]
  },
  {
   "cell_type": "code",
   "execution_count": 3,
   "id": "363ff852-b298-4225-8bfd-5b4820b65562",
   "metadata": {
    "execution": {
     "iopub.execute_input": "2025-04-01T11:15:38.609074Z",
     "iopub.status.busy": "2025-04-01T11:15:38.608832Z",
     "iopub.status.idle": "2025-04-01T11:15:39.359970Z",
     "shell.execute_reply": "2025-04-01T11:15:39.359289Z",
     "shell.execute_reply.started": "2025-04-01T11:15:38.609047Z"
    }
   },
   "outputs": [
    {
     "name": "stdout",
     "output_type": "stream",
     "text": [
      "/home/intellimath/repos/spectra/7_4/sources/7_4_SA_95_R_more100_3_H2O(HPLC)\n",
      "7_4_SA_95_R_more100_3_H2O(HPLC) (1024,) (15, 1024) {'вид_бактерий': 'SA', 'отсечки_по_молекулярной_массе': 'more100'}\n",
      "/home/intellimath/repos/spectra/7_4/sources/7_4_SH_15_more100_3_H2O(HPLC)\n",
      "7_4_SH_15_more100_3_H2O(HPLC) (1024,) (15, 1024) {'вид_бактерий': 'SH', 'отсечки_по_молекулярной_массе': 'more100'}\n",
      "/home/intellimath/repos/spectra/7_4/sources/7_4_SS_17_more100_3_H2O(HPLC)\n",
      "7_4_SS_17_more100_3_H2O(HPLC) (1024,) (15, 1024) {'вид_бактерий': 'SS', 'отсечки_по_молекулярной_массе': 'more100'}\n"
     ]
    }
   ],
   "source": [
    "# dd = io.load_spectras(path, {\"вид_бактерий\":\"STR\", \"отсечки_по_молекулярной_массе\":\"less30more10\"})\n",
    "dd = io.load_spectra(path, {\"вид_бактерий\":[\"SA\", \"SS\", \"SH\"], \n",
    "                            \"отсечки_по_молекулярной_массе\": [\"more100\"],})\n",
    "# dd = io.load_spectras(path, {\"штамм_бактерий\":[\"36\", \"95\"], #\"A\", \"B\", \"C\", \"D\"], \n",
    "#                              \"отсечки_по_молекулярной_массе\": \"less100\",\n",
    "#                              \"тип_измерения_спектров\":\"SE\"})\n",
    "# dd = io.load_spectras(path, {})\n",
    "# print(list(dd.keys()))\n",
    "\n",
    "d_keys = list(sorted(dd.keys()))\n",
    "sel_i = 0\n",
    "sel = ipywidgets.Dropdown(options=d_keys,  description=\"Experiment:\", rows=len(dd)+1)\n",
    "sel.layout.width=\"50%\""
   ]
  },
  {
   "cell_type": "code",
   "execution_count": 4,
   "id": "5a3b149c-79bf-478d-aa5c-0881ad9a28b3",
   "metadata": {
    "execution": {
     "iopub.execute_input": "2025-04-01T11:15:39.360956Z",
     "iopub.status.busy": "2025-04-01T11:15:39.360666Z",
     "iopub.status.idle": "2025-04-01T11:15:39.366801Z",
     "shell.execute_reply": "2025-04-01T11:15:39.365593Z",
     "shell.execute_reply.started": "2025-04-01T11:15:39.360923Z"
    }
   },
   "outputs": [
    {
     "name": "stdout",
     "output_type": "stream",
     "text": [
      "dict_keys(['20250328_SA_95_R_more100_7_4_1_SE_no_date_', '20250328_SH_15_no_date_more100_7_4_1_SE_no_date_', '20250328_SS_17_no_date_more100_7_4_1_SE_no_date_'])\n"
     ]
    }
   ],
   "source": [
    "print(dd.keys())"
   ]
  },
  {
   "cell_type": "code",
   "execution_count": 5,
   "id": "173c07b1-1adf-4da3-a5a0-6d20c6e195ef",
   "metadata": {
    "execution": {
     "iopub.execute_input": "2025-04-01T11:15:39.372926Z",
     "iopub.status.busy": "2025-04-01T11:15:39.369871Z",
     "iopub.status.idle": "2025-04-01T11:15:39.414267Z",
     "shell.execute_reply": "2025-04-01T11:15:39.413488Z",
     "shell.execute_reply.started": "2025-04-01T11:15:39.372788Z"
    }
   },
   "outputs": [],
   "source": [
    "for i, key in enumerate(dd):\n",
    "    entry1 = dd[key]\n",
    "    entry1.allign_bottom()\n",
    "    # entry1.scale_by_max(scale=10.0)\n",
    "    entry1.crop(100)"
   ]
  },
  {
   "cell_type": "code",
   "execution_count": 6,
   "id": "806a9af9-fc26-4bc0-b025-252074de5236",
   "metadata": {
    "execution": {
     "iopub.execute_input": "2025-04-01T11:15:39.415811Z",
     "iopub.status.busy": "2025-04-01T11:15:39.415388Z",
     "iopub.status.idle": "2025-04-01T11:15:40.249783Z",
     "shell.execute_reply": "2025-04-01T11:15:40.245494Z",
     "shell.execute_reply.started": "2025-04-01T11:15:39.415766Z"
    }
   },
   "outputs": [
    {
     "data": {
      "application/vnd.jupyter.widget-view+json": {
       "model_id": "d42f34ac8b434a628f3eb25321f356f7",
       "version_major": 2,
       "version_minor": 0
      },
      "text/plain": [
       "interactive(children=(Dropdown(description='Experiment:', layout=Layout(width='50%'), options=('20250328_SA_95…"
      ]
     },
     "metadata": {},
     "output_type": "display_data"
    }
   ],
   "source": [
    "@ipywidgets.interact(key=sel)\n",
    "def plot_spectra_for_key(key):\n",
    "    entry = dd[key]\n",
    "    entry.plot_spectra()"
   ]
  },
  {
   "cell_type": "code",
   "execution_count": 7,
   "id": "97d2ffc2-fa98-4a35-a213-f28c255452a5",
   "metadata": {
    "execution": {
     "iopub.execute_input": "2025-04-01T11:15:40.252955Z",
     "iopub.status.busy": "2025-04-01T11:15:40.252593Z",
     "iopub.status.idle": "2025-04-01T11:15:40.262714Z",
     "shell.execute_reply": "2025-04-01T11:15:40.261667Z",
     "shell.execute_reply.started": "2025-04-01T11:15:40.252925Z"
    }
   },
   "outputs": [],
   "source": [
    "# @ipywidgets.interact(key=sel)\n",
    "# def plot_sigma_mu_for_key(key):\n",
    "#     entry = dd[key]\n",
    "#     entry.plot_sigma_mu()"
   ]
  },
  {
   "cell_type": "markdown",
   "id": "998907ab-d4ff-45b4-82b4-bcf3d702348c",
   "metadata": {},
   "source": [
    "$$\n",
    "\\mu = \\text{median}(X)\n",
    "$$\n",
    "$$\n",
    "\\sigma = \\text{median}(|X-\\mu|)\n",
    "$$\n",
    "$$\n",
    "\\text{modified-zscore}(X) = 0.6748 \\frac{X - \\mu}{\\sigma}\n",
    "$$"
   ]
  },
  {
   "cell_type": "code",
   "execution_count": 8,
   "id": "fe7c36aa-6967-42db-ba40-a5a72ece9f12",
   "metadata": {
    "execution": {
     "iopub.execute_input": "2025-04-01T11:15:40.263969Z",
     "iopub.status.busy": "2025-04-01T11:15:40.263606Z",
     "iopub.status.idle": "2025-04-01T11:15:40.272352Z",
     "shell.execute_reply": "2025-04-01T11:15:40.271482Z",
     "shell.execute_reply.started": "2025-04-01T11:15:40.263932Z"
    }
   },
   "outputs": [],
   "source": [
    "# @ipywidgets.interact(key=sel)\n",
    "# def plots_zscore_for_key(key):\n",
    "#     entry = dd[key]\n",
    "#     entry.plot_zscore(kind=\"m-zscore\")"
   ]
  },
  {
   "cell_type": "code",
   "execution_count": 9,
   "id": "58f6918d-e720-4610-b968-b1212b65cceb",
   "metadata": {
    "execution": {
     "iopub.execute_input": "2025-04-01T11:15:40.273508Z",
     "iopub.status.busy": "2025-04-01T11:15:40.273121Z",
     "iopub.status.idle": "2025-04-01T11:15:40.278053Z",
     "shell.execute_reply": "2025-04-01T11:15:40.277264Z",
     "shell.execute_reply.started": "2025-04-01T11:15:40.273470Z"
    }
   },
   "outputs": [],
   "source": [
    "# @ipywidgets.interact(key=sel)\n",
    "# def plots_zscore_hist_for_key(key):\n",
    "#     entry = dd[key]\n",
    "#     entry.plot_zscore_hist()"
   ]
  },
  {
   "cell_type": "code",
   "execution_count": 10,
   "id": "9da9c507-fd5b-4111-b9f0-cbac7e780525",
   "metadata": {
    "execution": {
     "iopub.execute_input": "2025-04-01T11:15:40.473274Z",
     "iopub.status.busy": "2025-04-01T11:15:40.472988Z",
     "iopub.status.idle": "2025-04-01T11:15:41.250428Z",
     "shell.execute_reply": "2025-04-01T11:15:41.249418Z",
     "shell.execute_reply.started": "2025-04-01T11:15:40.473250Z"
    }
   },
   "outputs": [
    {
     "data": {
      "application/vnd.jupyter.widget-view+json": {
       "model_id": "a84ae1fe524c4ca1b53597cd463c536b",
       "version_major": 2,
       "version_minor": 0
      },
      "text/plain": [
       "interactive(children=(Dropdown(description='Experiment:', layout=Layout(width='50%'), options=('20250328_SA_95…"
      ]
     },
     "metadata": {},
     "output_type": "display_data"
    }
   ],
   "source": [
    "@ipywidgets.interact(key=sel)\n",
    "def check_spectra_for_key(key):\n",
    "    entry = dd[key]\n",
    "    entry.check_spectra()"
   ]
  },
  {
   "cell_type": "code",
   "execution_count": 11,
   "id": "f6d46e30-5f12-4cfd-ad57-274105dac958",
   "metadata": {
    "execution": {
     "iopub.execute_input": "2025-04-01T11:15:54.764143Z",
     "iopub.status.busy": "2025-04-01T11:15:54.763552Z",
     "iopub.status.idle": "2025-04-01T11:15:54.768086Z",
     "shell.execute_reply": "2025-04-01T11:15:54.767272Z",
     "shell.execute_reply.started": "2025-04-01T11:15:54.764109Z"
    }
   },
   "outputs": [],
   "source": [
    "for i, key in enumerate(dd):\n",
    "    entry = dd[key]\n",
    "    entry.exclude_checked()    "
   ]
  },
  {
   "cell_type": "code",
   "execution_count": 12,
   "id": "c0431741-72a2-412c-b49a-c7ca03b0357d",
   "metadata": {
    "execution": {
     "iopub.execute_input": "2025-04-01T11:11:01.663249Z",
     "iopub.status.busy": "2025-04-01T11:11:01.662930Z",
     "iopub.status.idle": "2025-04-01T11:11:01.667048Z",
     "shell.execute_reply": "2025-04-01T11:11:01.666418Z",
     "shell.execute_reply.started": "2025-04-01T11:11:01.663217Z"
    }
   },
   "outputs": [],
   "source": [
    "# @ipywidgets.interact(key=sel)\n",
    "# def plot_spectra_for_key(key):\n",
    "#     entry = dd[key]\n",
    "#     entry.plot_spectra()"
   ]
  },
  {
   "cell_type": "code",
   "execution_count": 12,
   "id": "62d67ee2-6bfb-448d-ae49-3ac0e77e7bf4",
   "metadata": {
    "execution": {
     "iopub.execute_input": "2025-04-01T11:15:58.423299Z",
     "iopub.status.busy": "2025-04-01T11:15:58.422359Z",
     "iopub.status.idle": "2025-04-01T11:15:58.497541Z",
     "shell.execute_reply": "2025-04-01T11:15:58.496158Z",
     "shell.execute_reply.started": "2025-04-01T11:15:58.423253Z"
    }
   },
   "outputs": [],
   "source": [
    "d2 = spectra.SpectraCollection()\n",
    "for i, key in enumerate(dd):\n",
    "    entry2 = dd[key]\n",
    "    d2[key] = entry2.robust_averaging(tau=3.5)"
   ]
  },
  {
   "cell_type": "code",
   "execution_count": 13,
   "id": "4877a41c-1dd0-490d-b939-1935937220eb",
   "metadata": {
    "execution": {
     "iopub.execute_input": "2025-04-01T11:15:59.171825Z",
     "iopub.status.busy": "2025-04-01T11:15:59.170744Z",
     "iopub.status.idle": "2025-04-01T11:15:59.182097Z",
     "shell.execute_reply": "2025-04-01T11:15:59.179949Z",
     "shell.execute_reply.started": "2025-04-01T11:15:59.171736Z"
    }
   },
   "outputs": [],
   "source": [
    "for key in d2:\n",
    "    entry = d2[key]\n",
    "    entry.allign_bottom()\n",
    "    entry.scale_by_max(scale=1000.0)\n",
    "    # entry.apply_func(y_func=np.log, x_func=np.log, b=1)\n"
   ]
  },
  {
   "cell_type": "code",
   "execution_count": 14,
   "id": "e9f2ae9f-a8f4-4aa7-870d-2e6af41a170e",
   "metadata": {
    "execution": {
     "iopub.execute_input": "2025-04-01T11:17:39.089555Z",
     "iopub.status.busy": "2025-04-01T11:17:39.088952Z",
     "iopub.status.idle": "2025-04-01T11:17:39.149580Z",
     "shell.execute_reply": "2025-04-01T11:17:39.148843Z",
     "shell.execute_reply.started": "2025-04-01T11:17:39.089515Z"
    }
   },
   "outputs": [],
   "source": [
    "d2.save(\"/home/intellimath/work/spectra/spectra_SA_SS_SH\", \"series-average\")"
   ]
  },
  {
   "cell_type": "code",
   "execution_count": 17,
   "id": "59810839-dd44-4879-b409-fd3b69c60603",
   "metadata": {
    "execution": {
     "iopub.execute_input": "2025-04-01T11:11:20.317375Z",
     "iopub.status.busy": "2025-04-01T11:11:20.317017Z",
     "iopub.status.idle": "2025-04-01T11:11:20.852212Z",
     "shell.execute_reply": "2025-04-01T11:11:20.851491Z",
     "shell.execute_reply.started": "2025-04-01T11:11:20.317352Z"
    }
   },
   "outputs": [
    {
     "data": {
      "application/vnd.jupyter.widget-view+json": {
       "model_id": "5df8c9934c1d4ceda56ec6618d64ee99",
       "version_major": 2,
       "version_minor": 0
      },
      "text/plain": [
       "interactive(children=(Dropdown(description='Experiment:', layout=Layout(width='50%'), options=('20250328_SA_95…"
      ]
     },
     "metadata": {},
     "output_type": "display_data"
    }
   ],
   "source": [
    "# @ipywidgets.interact(key=sel)\n",
    "# def plot_spectra_robust_smoothing(key):\n",
    "#     entry = d2[key]\n",
    "#     entry.plot_spectra_with_robust_smoothing(tau=1.0, alpha=0.99)"
   ]
  },
  {
   "cell_type": "code",
   "execution_count": null,
   "id": "823098f3-1fe2-4c55-b17f-5a71eb6e8df1",
   "metadata": {},
   "outputs": [],
   "source": []
  }
 ],
 "metadata": {
  "kernelspec": {
   "display_name": "Python 3 (ipykernel)",
   "language": "python",
   "name": "python3"
  },
  "language_info": {
   "codemirror_mode": {
    "name": "ipython",
    "version": 3
   },
   "file_extension": ".py",
   "mimetype": "text/x-python",
   "name": "python",
   "nbconvert_exporter": "python",
   "pygments_lexer": "ipython3",
   "version": "3.13.2"
  }
 },
 "nbformat": 4,
 "nbformat_minor": 5
}
