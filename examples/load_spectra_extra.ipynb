{
 "cells": [
  {
   "cell_type": "code",
   "execution_count": 1,
   "id": "898fd428-1d6f-4a87-9236-92339a17b458",
   "metadata": {
    "execution": {
     "iopub.execute_input": "2024-12-28T11:35:04.875538Z",
     "iopub.status.busy": "2024-12-28T11:35:04.875188Z",
     "iopub.status.idle": "2024-12-28T11:35:07.246292Z",
     "shell.execute_reply": "2024-12-28T11:35:07.245636Z",
     "shell.execute_reply.started": "2024-12-28T11:35:04.875506Z"
    }
   },
   "outputs": [],
   "source": [
    "import numpy as np\n",
    "import matplotlib.pyplot as plt\n",
    "\n",
    "from pprint import pprint\n",
    "\n",
    "import numpy as np\n",
    "from sklearn.preprocessing import scale\n",
    "import sklearn.metrics as metrics\n",
    "\n",
    "import matplotlib.pyplot as plt\n",
    "import matplotlib.animation as ani\n",
    "\n",
    "import mlgrad.models as models\n",
    "import mlgrad.regr as regr\n",
    "import mlgrad.cls as cls\n",
    "import mlgrad.pca as pca\n",
    "import mlgrad.plots as plots\n",
    "import mlgrad.funcs as funcs\n",
    "import mlgrad.funcs2 as funcs2\n",
    "import mlgrad.loss as loss\n",
    "import mlgrad.gd as gd\n",
    "import mlgrad.smooth as smooth\n",
    "import mlgrad.array_transform as at\n",
    "from mlgrad.af import averaging_function\n",
    "import mlgrad.avragg as avragg\n",
    "\n",
    "import rampy\n",
    "import pybaselines\n",
    "import random\n",
    "\n",
    "from irsa import io\n",
    "from irsa.preprocess import despike, utils\n",
    "import irsa.widgets as widgets\n",
    "\n",
    "import scipy.special as special\n",
    "\n",
    "import copy\n",
    "\n",
    "import ipywidgets\n",
    "from IPython.display import display\n",
    "\n",
    "%matplotlib widget"
   ]
  },
  {
   "cell_type": "code",
   "execution_count": 2,
   "id": "13b62f4d-efe5-46ea-9657-d94b26f8948b",
   "metadata": {
    "execution": {
     "iopub.execute_input": "2024-12-28T09:13:11.734076Z",
     "iopub.status.busy": "2024-12-28T09:13:11.733801Z",
     "iopub.status.idle": "2024-12-28T09:13:11.739129Z",
     "shell.execute_reply": "2024-12-28T09:13:11.738249Z",
     "shell.execute_reply.started": "2024-12-28T09:13:11.734056Z"
    }
   },
   "outputs": [],
   "source": [
    "def plot_zscore_series(key, i, zval):\n",
    "    plt.figure(figsize=(12,2))\n",
    "    # plt.title(f\"Modified z-score: {key}: {i}\")\n",
    "    entry = d[key]\n",
    "    x = entry.x[i]\n",
    "    ys = entry.y[i]\n",
    "    zs = utils.modified_zscore2(ys)\n",
    "    abs_zs = abs(zs)\n",
    "    for z in abs_zs:\n",
    "        plt.plot(x, z, linewidth=0.5, alpha=0.5)\n",
    "    plt.plot(x, utils.robust_mean2(abs_zs, tau=zval), linewidth=2.0, color='k')\n",
    "    plt.hlines(0, 0, max(x), colors='k', linestyles='--')\n",
    "    plt.hlines(zval, 0, max(x), colors='k', linewidth=1.0)\n",
    "    plt.xlim(-10, max(x)+50)\n",
    "        \n",
    "    plt.minorticks_on()\n",
    "    plt.tight_layout()\n",
    "    plt.legend([\"Modified z-score\"])\n",
    "    plt.xticks([])\n",
    "    plt.show()"
   ]
  },
  {
   "cell_type": "code",
   "execution_count": 3,
   "id": "664476d7-8491-4503-baca-d2d19f57b7b5",
   "metadata": {
    "execution": {
     "iopub.execute_input": "2024-12-28T09:13:11.740368Z",
     "iopub.status.busy": "2024-12-28T09:13:11.740054Z",
     "iopub.status.idle": "2024-12-28T09:13:11.768086Z",
     "shell.execute_reply": "2024-12-28T09:13:11.762181Z",
     "shell.execute_reply.started": "2024-12-28T09:13:11.740339Z"
    }
   },
   "outputs": [],
   "source": [
    "def spectra_scale(X, n_iter=1000, tol=1.0e-8):\n",
    "    m, n = X.shape\n",
    "    Y = X.mean(axis=0)\n",
    "    Y /= np.sqrt(Y @ Y)\n",
    "\n",
    "    T = X @ Y\n",
    "    V = (np.outer(Y, T) - X.T)\n",
    "    U = V @ T\n",
    "    qval = np.sqrt((V * V).sum())\n",
    "    qvals = [qval]\n",
    "\n",
    "    for K in range(n_iter):\n",
    "        qval_prev = qval\n",
    "        Y = U / (U @ Y)\n",
    "        Y /= np.sqrt(Y @ Y)\n",
    "        T =  X @ Y\n",
    "\n",
    "        V = (np.outer(Y, T) - X.T)\n",
    "        U = V @ T\n",
    "        qval = np.sqrt((V * V).sum())\n",
    "        qvals.append(qval)\n",
    "        if abs(qval - qval_prev) < tol: \n",
    "            break\n",
    "    print(K+1, )\n",
    "    return Y, T, qvals\n",
    "        "
   ]
  },
  {
   "cell_type": "code",
   "execution_count": 4,
   "id": "8c060415-7c41-4d50-aad6-b09e9b4f3b25",
   "metadata": {
    "execution": {
     "iopub.execute_input": "2024-12-28T09:13:11.771547Z",
     "iopub.status.busy": "2024-12-28T09:13:11.769613Z",
     "iopub.status.idle": "2024-12-28T09:13:11.886035Z",
     "shell.execute_reply": "2024-12-28T09:13:11.885107Z",
     "shell.execute_reply.started": "2024-12-28T09:13:11.771353Z"
    }
   },
   "outputs": [
    {
     "data": {
      "application/vnd.jupyter.widget-view+json": {
       "model_id": "55a8a492a20d4c42b41afc21c9d92e33",
       "version_major": 2,
       "version_minor": 0
      },
      "text/plain": [
       "Box(children=(VBox(children=(Label(value='дата:', style=LabelStyle(font_size='8pt', font_weight='bold')), Sele…"
      ]
     },
     "metadata": {},
     "output_type": "display_data"
    },
    {
     "data": {
      "application/vnd.jupyter.widget-view+json": {
       "model_id": "271f26abbcbc438a856780463754f6c4",
       "version_major": 2,
       "version_minor": 0
      },
      "text/plain": [
       "Button(description='Select', style=ButtonStyle())"
      ]
     },
     "metadata": {},
     "output_type": "display_data"
    },
    {
     "data": {
      "application/vnd.jupyter.widget-view+json": {
       "model_id": "b0f26204873c401aba8e5001938ff67a",
       "version_major": 2,
       "version_minor": 0
      },
      "text/plain": [
       "Output()"
      ]
     },
     "metadata": {},
     "output_type": "display_data"
    },
    {
     "data": {
      "text/plain": [
       "{}"
      ]
     },
     "execution_count": 4,
     "metadata": {},
     "output_type": "execute_result"
    }
   ],
   "source": [
    "path = f\"/home/intellimath/repos/spectras/bacteria1024\"\n",
    "options = {}\n",
    "dd = {}\n",
    "widgets.load_spectras(path, dd, options)"
   ]
  },
  {
   "cell_type": "code",
   "execution_count": 5,
   "id": "363ff852-b298-4225-8bfd-5b4820b65562",
   "metadata": {
    "execution": {
     "iopub.execute_input": "2024-12-28T09:13:18.557881Z",
     "iopub.status.busy": "2024-12-28T09:13:18.556819Z",
     "iopub.status.idle": "2024-12-28T09:13:18.563374Z",
     "shell.execute_reply": "2024-12-28T09:13:18.562500Z",
     "shell.execute_reply.started": "2024-12-28T09:13:18.557826Z"
    }
   },
   "outputs": [
    {
     "name": "stdout",
     "output_type": "stream",
     "text": [
      "['SA_100_S_less100more50_6_16_1_20241021_H2O(HPLC)', 'SA_100_S_less100_6_12_1_20241017_H2O(HPLC)', 'SA_100_S_less100_6_13_1_20241017_H2O(HPLC)', 'SA_100_S_less30_6_20_1_20241024_H2O(HPLC)', 'SA_100_S_less50_6_19_1_20241022_H2O(HPLC)', 'SA_100_S_less50_6_18_1_20241022_H2O(HPLC)', 'SA_100_S_less30more10_6_15_1_20241018_H2O(HPLC)', 'SA_100_S_less50more30_6_21_1_20241024_H2O(HPLC)', 'SA_100_S_less100more50_6_17_1_20241021_H2O(HPLC)', 'SA_100_S_less50more30_6_22_1_20241024_H2O(HPLC)']\n"
     ]
    }
   ],
   "source": [
    "print(list(dd.keys()))"
   ]
  },
  {
   "cell_type": "code",
   "execution_count": 6,
   "id": "775eccbc-67f2-4b29-b27f-863411136ac5",
   "metadata": {
    "execution": {
     "iopub.execute_input": "2024-12-28T09:13:19.809550Z",
     "iopub.status.busy": "2024-12-28T09:13:19.809061Z",
     "iopub.status.idle": "2024-12-28T09:13:19.816470Z",
     "shell.execute_reply": "2024-12-28T09:13:19.815753Z",
     "shell.execute_reply.started": "2024-12-28T09:13:19.809502Z"
    }
   },
   "outputs": [],
   "source": [
    "d_keys = list(sorted(dd.keys()))\n",
    "sel_i = 0\n",
    "sel = ipywidgets.Select(options=d_keys,  description=\"Experiment:\", rows=len(dd)+1)\n",
    "sel.layout.width=\"50%\"\n",
    "\n",
    "# def sel_on_value_change(change):\n",
    "#     i_slider.value = 0\n",
    "#     i_slider.max = len(dd[sel.value].y)-1\n",
    "\n",
    "# def i_on_value_change(change):\n",
    "#     plot_spectra_series(sel.value, i_slider.value, f_slider.value)\n",
    "\n",
    "# def f_on_value_change(change):\n",
    "#     plot_spectra_series(sel.value, i_slider.value, f_slider.value)\n",
    "\n",
    "# def tau_on_value_change(change):\n",
    "#     plot_spectra_series(sel.value, i_slider.value, f_slider.value, tau_slider.value)\n",
    "\n",
    "# sel.on_trait_change(sel_on_value_change, name=\"value\")\n",
    "# i_slider.on_trait_change(i_on_value_change, name=\"value\")\n",
    "# f_slider.on_trait_change(f_on_value_change, name=\"value\")\n",
    "# tau_slider.on_trait_change(tau_on_value_change, name=\"value\")\n",
    "\n",
    "# ipywidgets.VBox([sel, i_slider, out])"
   ]
  },
  {
   "cell_type": "code",
   "execution_count": 7,
   "id": "173c07b1-1adf-4da3-a5a0-6d20c6e195ef",
   "metadata": {
    "execution": {
     "iopub.execute_input": "2024-12-28T09:13:21.684278Z",
     "iopub.status.busy": "2024-12-28T09:13:21.683157Z",
     "iopub.status.idle": "2024-12-28T09:13:21.728429Z",
     "shell.execute_reply": "2024-12-28T09:13:21.727574Z",
     "shell.execute_reply.started": "2024-12-28T09:13:21.684208Z"
    }
   },
   "outputs": [],
   "source": [
    "for i, key in enumerate(dd):\n",
    "    entry1 = dd[key]\n",
    "    entry1.crop(50)\n",
    "    # entry1.scale_min()\n",
    "    entry1.allign_bottom()\n"
   ]
  },
  {
   "cell_type": "code",
   "execution_count": null,
   "id": "7939d1cc-36df-4b4d-a691-1c75af17bc8a",
   "metadata": {},
   "outputs": [],
   "source": [
    "# for i, key in enumerate(dd):\n",
    "#     entry1 = dd[key]\n",
    "#     xs, ys = entry1.x, entry1.y\n",
    "#     plt.figure(figsize=(12,4))\n",
    "#     plt.title(key)\n",
    "#     for x, y in zip(xs,ys):\n",
    "#         mu = np.median(y, axis=0)\n",
    "#         std = np.median(abs(y-mu), axis=0)\n",
    "#         plt.plot(x, 100*std/mu)\n",
    "#         plt.minorticks_on()\n",
    "#         plt.grid(1)\n",
    "#     plt.hlines(5,min(x),max(x))\n",
    "#     plt.show()"
   ]
  },
  {
   "cell_type": "code",
   "execution_count": null,
   "id": "c0431741-72a2-412c-b49a-c7ca03b0357d",
   "metadata": {},
   "outputs": [],
   "source": [
    "@ipywidgets.interact(key=sel)\n",
    "def plot_spectra_for_key(key):\n",
    "    entry = dd[key]\n",
    "    entry.plot_spectras()"
   ]
  },
  {
   "cell_type": "code",
   "execution_count": null,
   "id": "01ad13cb-4a81-448d-8e26-235e3dfbfb2c",
   "metadata": {},
   "outputs": [],
   "source": [
    "# for i, key in enumerate(dd):\n",
    "#     entry1 = dd[key]\n",
    "\n",
    "    # entry1.remove_overflow_spectras(y_max=2000.0, y_max_count=30)\n",
    "    # entry1.remove_outlier_spectras(delta=0.10, tau=3.5)\n",
    "    # entry1.remove_by_zscore_spectras(tau=3.5, max_count=50)\n",
    "    # print(len(entry1.y))"
   ]
  },
  {
   "cell_type": "code",
   "execution_count": 8,
   "id": "62d67ee2-6bfb-448d-ae49-3ac0e77e7bf4",
   "metadata": {
    "execution": {
     "iopub.execute_input": "2024-12-28T09:13:25.021470Z",
     "iopub.status.busy": "2024-12-28T09:13:25.020527Z",
     "iopub.status.idle": "2024-12-28T09:13:25.371080Z",
     "shell.execute_reply": "2024-12-28T09:13:25.370458Z",
     "shell.execute_reply.started": "2024-12-28T09:13:25.021402Z"
    }
   },
   "outputs": [],
   "source": [
    "d2 = {}\n",
    "for i, key in enumerate(dd):\n",
    "    entry2 = dd[key]\n",
    "    d2[key] = entry2.robust_averaging(tau=3.0)\n",
    "    # entry2.smooth(tau=10.0)\n"
   ]
  },
  {
   "cell_type": "code",
   "execution_count": 9,
   "id": "4877a41c-1dd0-490d-b939-1935937220eb",
   "metadata": {
    "execution": {
     "iopub.execute_input": "2024-12-28T09:13:25.561224Z",
     "iopub.status.busy": "2024-12-28T09:13:25.560322Z",
     "iopub.status.idle": "2024-12-28T09:13:25.661091Z",
     "shell.execute_reply": "2024-12-28T09:13:25.659228Z",
     "shell.execute_reply.started": "2024-12-28T09:13:25.561157Z"
    }
   },
   "outputs": [],
   "source": [
    "for key in d2:\n",
    "    entry = d2[key]\n",
    "    entry.scale(scale=100.0)\n",
    "    entry.allign_bottom()\n",
    "    # entry.apply_func(y_func=np.log, x_func=np.log, b=1)\n",
    "    "
   ]
  },
  {
   "cell_type": "code",
   "execution_count": null,
   "id": "bb28eef6-1042-4a6d-a1d7-daf745346954",
   "metadata": {},
   "outputs": [],
   "source": [
    "@ipywidgets.interact(key=sel)\n",
    "def plot_spectra_for_key(key, tau=2.0, ):\n",
    "    entry = d2[key]\n",
    "    entry.plot_spectras(tau=tau, ss=20)"
   ]
  },
  {
   "cell_type": "code",
   "execution_count": null,
   "id": "f5a719df-fd60-470e-9dcd-875e3da9ce95",
   "metadata": {},
   "outputs": [],
   "source": [
    "# X = list(d2.values())[0].y\n",
    "# Y, T, qvals = spectra_scale(X)\n",
    "\n",
    "# plt.plot(qvals)\n",
    "# plt.show()\n",
    "# plt.figure(figsize=(15,5))\n",
    "# for y in X:\n",
    "#     plt.plot(y)\n",
    "# plt.plot(70*Y, color='k', linewidth=2.0)\n",
    "# plt.show()\n",
    "# plt.plot(sorted(T), marker='o')\n",
    "# plt.show()"
   ]
  },
  {
   "cell_type": "code",
   "execution_count": null,
   "id": "3b45db0b-32dd-4ce0-8d41-60e0271ec416",
   "metadata": {},
   "outputs": [],
   "source": [
    "# for key in sorted(d2.keys()):\n",
    "#     entry = d2[key]\n",
    "#     xs = entry.x\n",
    "#     ys = entry.y\n",
    "#     plt.figure(figsize=(15,4))\n",
    "#     plt.title(key)\n",
    "#     for x,y in zip(xs, ys):\n",
    "#         plt.plot(x, y, color='k', linewidth=0.4)\n",
    "#         # plt.plot(x, np.exp(at.array_modified_zscore(np.log(y+1.0)))-1.0, color='k', linewidth=0.4)\n",
    "#     plt.minorticks_on()\n",
    "#     plt.show()"
   ]
  },
  {
   "cell_type": "code",
   "execution_count": null,
   "id": "af4e1d0b-fcd3-4575-97a4-85282844e23f",
   "metadata": {},
   "outputs": [],
   "source": [
    "# plt.figure(figsize=(12,10))\n",
    "# for key in sorted(d2.keys()):\n",
    "#     entry = d2[key]\n",
    "#     xs = entry.x\n",
    "#     ys = entry.y\n",
    "#     plt.title(key)\n",
    "#     _,Ls,_ = pca.find_pc_smoothed_all(ys, 10, tau=1.0)\n",
    "#     plt.plot(np.log(Ls), linewidth=2.0, marker='o', markersize=4, label=key)\n",
    "# plt.minorticks_on()\n",
    "# plt.legend()\n",
    "# plt.show()"
   ]
  },
  {
   "cell_type": "code",
   "execution_count": null,
   "id": "9297bd8c-7e10-4ae5-93c1-8ad528d00ac9",
   "metadata": {},
   "outputs": [],
   "source": [
    "keys = list(d2.keys())\n",
    "dkeys = {}\n",
    "for key in keys:\n",
    "    kk = '_'.join(key.split('_')[:4])\n",
    "    ll = dkeys.setdefault(kk, [])\n",
    "    ll.append(key)\n",
    "# print(dkeys)\n",
    "# print(list(dkeys.keys()))\n",
    "\n",
    "for ks in dkeys:\n",
    "    plt.figure(figsize=(12,4))\n",
    "    for kk in dkeys[ks]:\n",
    "        # print(kk)\n",
    "        entry = d2[kk]\n",
    "        xs = entry.x\n",
    "        ys = entry.y\n",
    "        plt.title(ks)\n",
    "        N = 25\n",
    "        As,Ls,Us = pca.find_pc_smoothed_all(ys - np.mean(ys, axis=0), N, tau=10.0)\n",
    "        D = np.prod(Ls) ** (1./30)\n",
    "        print(D)\n",
    "        entry.y /= np.sqrt(D)\n",
    "        plt.plot(np.log10(Ls/D), linewidth=1.0, marker='o', markersize=4, label=kk)\n",
    "        plt.minorticks_on()\n",
    "        plt.legend()\n",
    "    plt.show()"
   ]
  },
  {
   "cell_type": "code",
   "execution_count": null,
   "id": "f6a09429-8c18-4790-acef-d7bd63b50a3e",
   "metadata": {},
   "outputs": [],
   "source": [
    "for ks in dkeys:\n",
    "    m = len(list(dkeys[ks]))\n",
    "    plt.figure(figsize=(10,4))\n",
    "    for kk in dkeys[ks]:\n",
    "        # print(kk)\n",
    "        entry = d2[kk]\n",
    "        xs = entry.x\n",
    "        ys = entry.y\n",
    "        plt.title(ks)\n",
    "        N = 25\n",
    "        As,Ls,Us = pca.find_pc_smoothed_all(ys - np.mean(ys, axis=0), 2, tau=40.0)\n",
    "        plt.scatter(Us[0], Us[1], label=kk)\n",
    "        plt.minorticks_on()\n",
    "        plt.legend()\n",
    "    plt.show()"
   ]
  },
  {
   "cell_type": "code",
   "execution_count": null,
   "id": "617e37a1-ed72-4bad-a54c-e63440d24416",
   "metadata": {},
   "outputs": [],
   "source": [
    "keys = list(d2.keys())\n",
    "dkeys = {}\n",
    "for key in keys:\n",
    "    kk = '_'.join(key.split('_')[:4])\n",
    "    ll = dkeys.setdefault(kk, [])\n",
    "    ll.append(key)\n",
    "print(dkeys)\n",
    "print(list(dkeys.keys()))\n",
    "\n",
    "for ks in dkeys:\n",
    "    plt.figure(figsize=(12,4))\n",
    "    for kk in dkeys[ks]:\n",
    "        print(kk)\n",
    "        entry = d2[kk]\n",
    "        xs = entry.x\n",
    "        ys = entry.y\n",
    "        plt.title(ks)\n",
    "        # plt.plot(xs[0], utils.robust_mean2(ys, 3.0)/100, linewidth=1.0, label=kk)\n",
    "        As,Ls,_ = pca.find_pc_smoothed_all(ys - np.mean(ys, axis=0), 2, tau=1.0)        \n",
    "        plt.plot(xs[0], As[0], linewidth=1.0, label=kk+\" / 0\")\n",
    "        plt.plot(xs[0], As[1], linewidth=1.0, label=kk+\" / 1\")\n",
    "        # plt.plot(xs[0], np.median(at.array_modified_zscore2(ys), axis=0), linewidth=1.0, label=kk)\n",
    "        plt.minorticks_on()\n",
    "        plt.legend()\n",
    "    plt.show()"
   ]
  },
  {
   "cell_type": "code",
   "execution_count": null,
   "id": "2b6bff42-1e10-4c42-8bd5-1436873eb637",
   "metadata": {},
   "outputs": [],
   "source": [
    "keys = list(d2.keys())\n",
    "dkeys = {}\n",
    "for key in keys:\n",
    "    kk = '_'.join(key.split('_')[:4])\n",
    "    ll = dkeys.setdefault(kk, [])\n",
    "    ll.append(key)\n",
    "# print(dkeys)\n",
    "# print(list(dkeys.keys()))\n",
    "\n",
    "wma = averaging_function(\"WMZ\")\n",
    "\n",
    "for ks in dkeys:\n",
    "    plt.figure(figsize=(12,4))\n",
    "    for kk in dkeys[ks]:\n",
    "        # print(kk)\n",
    "        entry = d2[kk]\n",
    "        xs = entry.x\n",
    "        ys = entry.y\n",
    "        plt.title(ks)\n",
    "        _,Ls,_ = pca.find_robust_pc_all(ys, wma, 10)\n",
    "        plt.plot(np.log(Ls), linewidth=1.0, marker='o', markersize=4, label=kk)\n",
    "        plt.minorticks_on()\n",
    "        plt.legend()\n",
    "    plt.show()"
   ]
  },
  {
   "cell_type": "code",
   "execution_count": 10,
   "id": "2bbc9ef9-6334-4e2e-b1f3-89f2543ef001",
   "metadata": {
    "execution": {
     "iopub.execute_input": "2024-12-28T09:13:31.336504Z",
     "iopub.status.busy": "2024-12-28T09:13:31.335768Z",
     "iopub.status.idle": "2024-12-28T09:13:32.152660Z",
     "shell.execute_reply": "2024-12-28T09:13:32.151902Z",
     "shell.execute_reply.started": "2024-12-28T09:13:31.336467Z"
    }
   },
   "outputs": [
    {
     "data": {
      "application/vnd.jupyter.widget-view+json": {
       "model_id": "173abdc50f5740a6902e14b15213bccc",
       "version_major": 2,
       "version_minor": 0
      },
      "text/plain": [
       "interactive(children=(Select(description='Experiment:', layout=Layout(width='50%'), options=('SA_100_S_less100…"
      ]
     },
     "metadata": {},
     "output_type": "display_data"
    }
   ],
   "source": [
    "def func1(E):\n",
    "    # return (1 - E / np.sqrt(1 + E*E)) / 2\n",
    "    return special.expit(-10*(E-4))\n",
    "\n",
    "# def func2(E,D):    \n",
    "#     return (1 + E / np.sqrt(1 + E*E))\n",
    "#     E = abs(E)\n",
    "#     return E / E.max() \n",
    "\n",
    "@ipywidgets.interact(key=sel)\n",
    "def plot_spectra_for_key(key):\n",
    "    entry = d2[key]\n",
    "    entry.select_baselines(tau2=1.0e4, tau1=0.0, bs_scale=3.0, solver=\"fast\", d=2, func2_mode=\"d\",\n",
    "                           func=funcs.Expit(-10.0, -2.0).evaluate_array,\n",
    "                           func1=None, #funcs.().evaluate,\n",
    "                           func2=None, #funcs.Expit(10.0, 0.5),\n",
    "                          )"
   ]
  },
  {
   "cell_type": "code",
   "execution_count": null,
   "id": "db5c2e2a-733b-4774-b204-d84f41da652e",
   "metadata": {},
   "outputs": [],
   "source": [
    "for i, key in enumerate(d2):\n",
    "    entry3 = d2[key]\n",
    "    # entry3.smooth(method=\"irsa\", tau=1.)\n",
    "    # entry3.allign_bottom()\n",
    "    # entry3.normalize_area_under_curve()\n",
    "    # entry3.remove_by_zscore_spectras(tau=3.5, max_count=40)\n",
    "    entry3.subtract_baseline(\"irsa\", lam=100.0)\n",
    "    # entry3.replace_small_values(0.01)\n",
    "    # entry3.normalize_area_under_curve()\n",
    "    # print(entry3.x.shape, entry3.y.shape)\n",
    "    # entry3.y = entry3.remove_outlier_spectras(tau=3.5)\n",
    "    # Is = [i for i,ys in enumerate(entry3.y) if np.any(np.isnan(ys))]\n",
    "    # print(Is)            \n"
   ]
  },
  {
   "cell_type": "code",
   "execution_count": null,
   "id": "46505c89-c4a3-4c91-8c31-2f7493d6e0e1",
   "metadata": {},
   "outputs": [],
   "source": [
    "for i, key in enumerate(d2):\n",
    "    entry = d2[key]\n",
    "    Xs, Ys = entry.x, entry.y\n",
    "\n",
    "    plt.figure(figsize=(12,4))\n",
    "    plt.title(key)\n",
    "    for xs, ys in zip(Xs, Ys):\n",
    "        plt.plot(xs, ys, linewidth=0.5)\n",
    "    plt.hlines(0, min(xs), max(xs), colors='k', linestyles='--')\n",
    "    plt.xlim(min(xs)-20, max(xs))\n",
    "        \n",
    "    plt.minorticks_on()\n",
    "    plt.tight_layout()\n",
    "    # plt.legend()\n",
    "    plt.show()\n",
    "    \n",
    "    # plt.figure(figsize=(12,3))\n",
    "    # Zs = utils.modified_zscore2(Ys)\n",
    "    # for xs,zs in zip(Xs,Zs):\n",
    "    #     plt.plot(xs,abs(zs), linewidth=0.5, marker='s', markersize=1)\n",
    "    # plt.hlines(3.5, 0, max(xs), colors='k', linestyle='--')\n",
    "    # plt.minorticks_on()\n",
    "    # plt.tight_layout()\n",
    "    # plt.show()\n",
    "    "
   ]
  },
  {
   "cell_type": "code",
   "execution_count": null,
   "id": "69258dbb-9677-4452-8548-8c4ff696b504",
   "metadata": {},
   "outputs": [],
   "source": [
    "from sklearn.decomposition import PCA\n",
    "from numpy.linalg import det, inv\n",
    "\n",
    "plt.figure(figsize=(10,6))\n",
    "for i, key in enumerate(d2):\n",
    "    entry = d2[key]\n",
    "    Xs, Ys = entry.x, entry.y\n",
    "\n",
    "    pca = PCA(5)\n",
    "    pca.fit(Ys)\n",
    "    Us = pca.transform(Ys)\n",
    "\n",
    "    S = Us.T @ Us\n",
    "    S /= np.sqrt(det(S))\n",
    "    S = inv(S)\n",
    "    # print(S)\n",
    "\n",
    "\n",
    "    sc = plt.scatter(Us[:,0], Us[:,1], label=key)\n",
    "    c = sc.get_facecolor()\n",
    "\n",
    "    # x_min, x_max = min(Us[:,0]), max(Us[:,0])\n",
    "    # y_min, y_max = min(Us[:,1]), max(Us[:,1])\n",
    "\n",
    "    # xr = np.linspace(x_min, x_max, 50)\n",
    "    # yr = np.linspace(y_min, y_max, 50)\n",
    "    # xx, yy = np.meshgrid(xr, yr)\n",
    "    # xy = np.c_[xx.ravel(), yy.ravel()]\n",
    "    # dd = np.sqrt([0.5*((t @ S) @ t) for t in xy])\n",
    "    # dd = dd.reshape(xx.shape)\n",
    "    # plt.contour(dd, levels=[4.0], colors=c)\n",
    "    \n",
    "\n",
    "plt.minorticks_on()\n",
    "plt.tight_layout()\n",
    "plt.legend()\n",
    "plt.show()"
   ]
  },
  {
   "cell_type": "code",
   "execution_count": null,
   "id": "683e5bae-1103-4abf-839d-c6cd40a44df4",
   "metadata": {},
   "outputs": [],
   "source": [
    "from mlgrad.pca import location, find_pc_all, find_pc_l1_all\n",
    "\n",
    "plt.figure(figsize=(10,6))\n",
    "for i, key in enumerate(d2):\n",
    "    entry = d2[key]\n",
    "    Xs, Ys = entry.x, entry.y\n",
    "\n",
    "    C = location(Ys)\n",
    "    As, Ls, Us = find_pc_all(Ys - C, 2)\n",
    "    plt.plot(Ls, marker='o', label=key)\n",
    "    # plt.scatter(Us[0], Us[1], label=key)\n",
    "\n",
    "plt.tight_layout()\n",
    "plt.legend()\n",
    "plt.show()"
   ]
  },
  {
   "cell_type": "code",
   "execution_count": null,
   "id": "75ae5b51-6796-40e6-9865-2fd22debac86",
   "metadata": {},
   "outputs": [],
   "source": [
    "plt.figure(figsize=(12,6))\n",
    "for i, key in enumerate(d2):\n",
    "    entry = d2[key]\n",
    "    Xs, Ys = entry.x, entry.y\n",
    "\n",
    "    # if \"_R_\" in key:\n",
    "    #     if \"95\" in key:\n",
    "    #         color='r'\n",
    "    #     elif \"96\" in key:\n",
    "    #         color='Brown'\n",
    "    # elif \"_S_\" in key:\n",
    "    #     if \"92\" in key:\n",
    "    #         color='m'\n",
    "    #     elif \"93\" in key:\n",
    "    #         color='b'\n",
    "    #     else:\n",
    "    #         color='b'\n",
    "\n",
    "    if \"_R_\" in key:\n",
    "        color='r'\n",
    "    elif \"_S_\" in key:\n",
    "        color='b'\n",
    "    else:\n",
    "        color='m'\n",
    "        \n",
    "    # plt.plot(np.mean(Xs, axis=0), np.mean(Ys, axis=0), linewidth=1.0, color=color, label=key)\n",
    "    plt.plot(np.mean(Ys, axis=0), linewidth=1.0, label=key)\n",
    "    \n",
    "# plt.hlines(0, 0, len(Ys[0]), colors='k')\n",
    "# plt.xlim(-10,1000)\n",
    "        \n",
    "plt.minorticks_on()\n",
    "plt.tight_layout()\n",
    "plt.legend()\n",
    "plt.show()"
   ]
  },
  {
   "cell_type": "code",
   "execution_count": 2,
   "id": "f76ddf49-794b-4bbb-887e-e7edfd0c925c",
   "metadata": {
    "execution": {
     "iopub.execute_input": "2024-12-28T11:35:12.480138Z",
     "iopub.status.busy": "2024-12-28T11:35:12.478945Z",
     "iopub.status.idle": "2024-12-28T11:35:13.211303Z",
     "shell.execute_reply": "2024-12-28T11:35:13.210638Z",
     "shell.execute_reply.started": "2024-12-28T11:35:12.480064Z"
    }
   },
   "outputs": [],
   "source": [
    "import sympy\n",
    "from sympy import MatrixSymbol, Identity, latex"
   ]
  },
  {
   "cell_type": "code",
   "execution_count": 3,
   "id": "0d19b43a-2f49-4038-8e69-c21baff8cd3f",
   "metadata": {
    "execution": {
     "iopub.execute_input": "2024-12-28T11:35:13.538895Z",
     "iopub.status.busy": "2024-12-28T11:35:13.538025Z",
     "iopub.status.idle": "2024-12-28T11:35:13.544280Z",
     "shell.execute_reply": "2024-12-28T11:35:13.542569Z",
     "shell.execute_reply.started": "2024-12-28T11:35:13.538863Z"
    }
   },
   "outputs": [],
   "source": [
    "#D = MatrixSymbol('D', 10, 10)\n",
    "# W = sympy.DiagonalMatrix(MatrixSymbol('w', 8, 8))\n",
    "w = sympy.symarray(\"w\", (8,), )\n",
    "W = np.diag(w[1:-1])"
   ]
  },
  {
   "cell_type": "code",
   "execution_count": 4,
   "id": "2ad29945-4d83-414f-8540-ccf251aedf1a",
   "metadata": {
    "execution": {
     "iopub.execute_input": "2024-12-28T11:35:14.937572Z",
     "iopub.status.busy": "2024-12-28T11:35:14.936736Z",
     "iopub.status.idle": "2024-12-28T11:35:14.958383Z",
     "shell.execute_reply": "2024-12-28T11:35:14.955937Z",
     "shell.execute_reply.started": "2024-12-28T11:35:14.937501Z"
    }
   },
   "outputs": [
    {
     "name": "stdout",
     "output_type": "stream",
     "text": [
      "[[ 1 -2  1  0  0  0  0  0]\n",
      " [ 0  1 -2  1  0  0  0  0]\n",
      " [ 0  0  1 -2  1  0  0  0]\n",
      " [ 0  0  0  1 -2  1  0  0]\n",
      " [ 0  0  0  0  1 -2  1  0]\n",
      " [ 0  0  0  0  0  1 -2  1]]\n",
      "[[ 1 -2  1  0  0  0  0  0]\n",
      " [-2  5 -4  1  0  0  0  0]\n",
      " [ 1 -4  6 -4  1  0  0  0]\n",
      " [ 0  1 -4  6 -4  1  0  0]\n",
      " [ 0  0  1 -4  6 -4  1  0]\n",
      " [ 0  0  0  1 -4  6 -4  1]\n",
      " [ 0  0  0  0  1 -4  5 -2]\n",
      " [ 0  0  0  0  0  1 -2  1]]\n"
     ]
    }
   ],
   "source": [
    "E = np.eye(8, dtype=\"i\")\n",
    "D2 = np.diff(E, 2, axis=0)\n",
    "print(D2)\n",
    "print(D2.T @ D2)"
   ]
  },
  {
   "cell_type": "code",
   "execution_count": 5,
   "id": "6909f7f9-b2cb-4772-beb9-58f5264d9f66",
   "metadata": {
    "execution": {
     "iopub.execute_input": "2024-12-28T11:35:16.400115Z",
     "iopub.status.busy": "2024-12-28T11:35:16.399163Z",
     "iopub.status.idle": "2024-12-28T11:35:16.486674Z",
     "shell.execute_reply": "2024-12-28T11:35:16.485566Z",
     "shell.execute_reply.started": "2024-12-28T11:35:16.400030Z"
    }
   },
   "outputs": [],
   "source": [
    "DD2 = np.dot(np.dot(D2.T, W), D2)"
   ]
  },
  {
   "cell_type": "code",
   "execution_count": 6,
   "id": "80370102-12b0-47f6-a7a0-a2355bff197b",
   "metadata": {
    "execution": {
     "iopub.execute_input": "2024-12-28T11:35:18.363075Z",
     "iopub.status.busy": "2024-12-28T11:35:18.362769Z",
     "iopub.status.idle": "2024-12-28T11:35:18.367335Z",
     "shell.execute_reply": "2024-12-28T11:35:18.366536Z",
     "shell.execute_reply.started": "2024-12-28T11:35:18.363050Z"
    }
   },
   "outputs": [],
   "source": [
    "from IPython.display import display, Latex"
   ]
  },
  {
   "cell_type": "code",
   "execution_count": 7,
   "id": "9ae749f0-3426-4875-b0ef-7c815e296ad9",
   "metadata": {
    "execution": {
     "iopub.execute_input": "2024-12-28T11:35:19.267960Z",
     "iopub.status.busy": "2024-12-28T11:35:19.265859Z",
     "iopub.status.idle": "2024-12-28T11:35:19.307283Z",
     "shell.execute_reply": "2024-12-28T11:35:19.306042Z",
     "shell.execute_reply.started": "2024-12-28T11:35:19.267847Z"
    }
   },
   "outputs": [
    {
     "data": {
      "text/latex": [
       "$$\\left(\\begin{array}{llllllll}w_{1}&- 2 w_{1}&w_{1}&0&0&0&0&0\\\\- 2 w_{1}&4 w_{1} + w_{2}&- 2 w_{1} - 2 w_{2}&w_{2}&0&0&0&0\\\\w_{1}&- 2 w_{1} - 2 w_{2}&w_{1} + 4 w_{2} + w_{3}&- 2 w_{2} - 2 w_{3}&w_{3}&0&0&0\\\\0&w_{2}&- 2 w_{2} - 2 w_{3}&w_{2} + 4 w_{3} + w_{4}&- 2 w_{3} - 2 w_{4}&w_{4}&0&0\\\\0&0&w_{3}&- 2 w_{3} - 2 w_{4}&w_{3} + 4 w_{4} + w_{5}&- 2 w_{4} - 2 w_{5}&w_{5}&0\\\\0&0&0&w_{4}&- 2 w_{4} - 2 w_{5}&w_{4} + 4 w_{5} + w_{6}&- 2 w_{5} - 2 w_{6}&w_{6}\\\\0&0&0&0&w_{5}&- 2 w_{5} - 2 w_{6}&w_{5} + 4 w_{6}&- 2 w_{6}\\\\0&0&0&0&0&w_{6}&- 2 w_{6}&w_{6}\\\\\\end{array}\\right)$$"
      ],
      "text/plain": [
       "<IPython.core.display.Latex object>"
      ]
     },
     "metadata": {},
     "output_type": "display_data"
    }
   ],
   "source": [
    "s = r\"$$\\left(\\begin{array}{llllllll}\"\n",
    "for i in range(8):\n",
    "    for j in range(8):\n",
    "        s += latex(DD2[i,j])\n",
    "        if j < 7:\n",
    "            s += r\"&\"\n",
    "        else:\n",
    "            s += r\"\\\\\"\n",
    "s += r\"\\end{array}\\right)$$\"\n",
    "# print(s)\n",
    "display(Latex(s))"
   ]
  },
  {
   "cell_type": "code",
   "execution_count": 8,
   "id": "1556fee2-8677-4885-9c91-d3598ce637e3",
   "metadata": {
    "execution": {
     "iopub.execute_input": "2024-12-28T11:35:23.499146Z",
     "iopub.status.busy": "2024-12-28T11:35:23.498624Z",
     "iopub.status.idle": "2024-12-28T11:35:23.514226Z",
     "shell.execute_reply": "2024-12-28T11:35:23.513338Z",
     "shell.execute_reply.started": "2024-12-28T11:35:23.499103Z"
    }
   },
   "outputs": [
    {
     "name": "stdout",
     "output_type": "stream",
     "text": [
      "[[-1.  1.  0.  0.  0.  0.  0.  0.]\n",
      " [ 0. -1.  1.  0.  0.  0.  0.  0.]\n",
      " [ 0.  0. -1.  1.  0.  0.  0.  0.]\n",
      " [ 0.  0.  0. -1.  1.  0.  0.  0.]\n",
      " [ 0.  0.  0.  0. -1.  1.  0.  0.]\n",
      " [ 0.  0.  0.  0.  0. -1.  1.  0.]\n",
      " [ 0.  0.  0.  0.  0.  0. -1.  1.]]\n",
      "[[ 1. -1.  0.  0.  0.  0.  0.  0.]\n",
      " [-1.  2. -1.  0.  0.  0.  0.  0.]\n",
      " [ 0. -1.  2. -1.  0.  0.  0.  0.]\n",
      " [ 0.  0. -1.  2. -1.  0.  0.  0.]\n",
      " [ 0.  0.  0. -1.  2. -1.  0.  0.]\n",
      " [ 0.  0.  0.  0. -1.  2. -1.  0.]\n",
      " [ 0.  0.  0.  0.  0. -1.  2. -1.]\n",
      " [ 0.  0.  0.  0.  0.  0. -1.  1.]]\n"
     ]
    }
   ],
   "source": [
    "D1 = np.diff(np.eye(8), 1, axis=0, )\n",
    "print(D1)\n",
    "print(D1.T @ D1)"
   ]
  },
  {
   "cell_type": "code",
   "execution_count": 9,
   "id": "78021d80-1216-4446-a3c6-a51fe88ef326",
   "metadata": {
    "execution": {
     "iopub.execute_input": "2024-12-28T11:35:24.839170Z",
     "iopub.status.busy": "2024-12-28T11:35:24.837764Z",
     "iopub.status.idle": "2024-12-28T11:35:24.891973Z",
     "shell.execute_reply": "2024-12-28T11:35:24.891270Z",
     "shell.execute_reply.started": "2024-12-28T11:35:24.839040Z"
    }
   },
   "outputs": [],
   "source": [
    "w = sympy.symarray(\"w\", (7,))\n",
    "W = np.diag(w)\n",
    "DD1 = np.dot(np.dot(D1.T, W), D1)"
   ]
  },
  {
   "cell_type": "code",
   "execution_count": 10,
   "id": "28249846-d2aa-4527-bd5e-320441c7425d",
   "metadata": {
    "execution": {
     "iopub.execute_input": "2024-12-28T11:35:26.064847Z",
     "iopub.status.busy": "2024-12-28T11:35:26.064537Z",
     "iopub.status.idle": "2024-12-28T11:35:26.078538Z",
     "shell.execute_reply": "2024-12-28T11:35:26.077892Z",
     "shell.execute_reply.started": "2024-12-28T11:35:26.064826Z"
    }
   },
   "outputs": [
    {
     "data": {
      "text/latex": [
       "$$\\left(\\begin{array}{llllllll}1.0 w_{0}&- 1.0 w_{0}&0&0&0&0&0&0\\\\- 1.0 w_{0}&1.0 w_{0} + 1.0 w_{1}&- 1.0 w_{1}&0&0&0&0&0\\\\0&- 1.0 w_{1}&1.0 w_{1} + 1.0 w_{2}&- 1.0 w_{2}&0&0&0&0\\\\0&0&- 1.0 w_{2}&1.0 w_{2} + 1.0 w_{3}&- 1.0 w_{3}&0&0&0\\\\0&0&0&- 1.0 w_{3}&1.0 w_{3} + 1.0 w_{4}&- 1.0 w_{4}&0&0\\\\0&0&0&0&- 1.0 w_{4}&1.0 w_{4} + 1.0 w_{5}&- 1.0 w_{5}&0\\\\0&0&0&0&0&- 1.0 w_{5}&1.0 w_{5} + 1.0 w_{6}&- 1.0 w_{6}\\\\0&0&0&0&0&0&- 1.0 w_{6}&1.0 w_{6}\\\\\\end{array}\\right)$$"
      ],
      "text/plain": [
       "<IPython.core.display.Latex object>"
      ]
     },
     "metadata": {},
     "output_type": "display_data"
    }
   ],
   "source": [
    "s = r\"$$\\left(\\begin{array}{llllllll}\"\n",
    "for i in range(8):\n",
    "    for j in range(8):\n",
    "        s += latex(DD1[i,j])\n",
    "        if j < 7:\n",
    "            s += r\"&\"\n",
    "        else:\n",
    "            s += r\"\\\\\"\n",
    "s += r\"\\end{array}\\right)$$\"\n",
    "# print(s)\n",
    "display(Latex(s))"
   ]
  },
  {
   "cell_type": "code",
   "execution_count": null,
   "id": "04e5ae9d-dbb4-4e05-b48e-969508653d37",
   "metadata": {},
   "outputs": [],
   "source": [
    "D3 = np.diff(np.eye(9), 3, axis=0, )\n",
    "print(D3)\n",
    "print(D3.T @ D3)"
   ]
  },
  {
   "cell_type": "code",
   "execution_count": null,
   "id": "7c96c689-fe7d-4099-b94b-35be401129ca",
   "metadata": {},
   "outputs": [],
   "source": []
  },
  {
   "cell_type": "code",
   "execution_count": null,
   "id": "a6f3b7b7-cf6c-4ffc-a0b3-1bcf7cc08a7b",
   "metadata": {},
   "outputs": [],
   "source": [
    "import ipywidgets as widgets"
   ]
  },
  {
   "cell_type": "code",
   "execution_count": null,
   "id": "79b6c29a-4e36-4c3a-a007-4eb791e7ba27",
   "metadata": {},
   "outputs": [],
   "source": [
    "buttons = []\n",
    "for i in range(10):\n",
    "    buttons.append(widgets.Button(description=f\"  The button {i}  \"))\n",
    "box = ipywidgets.Box(buttons)\n",
    "box.layout = widgets.Layout(flex_flow=\"row wrap\")\n",
    "box"
   ]
  },
  {
   "cell_type": "code",
   "execution_count": null,
   "id": "e3d265b2-0646-4091-ac20-0226ea42721f",
   "metadata": {},
   "outputs": [],
   "source": [
    "plt.fill_between()"
   ]
  }
 ],
 "metadata": {
  "kernelspec": {
   "display_name": "Python 3 (ipykernel)",
   "language": "python",
   "name": "python3"
  },
  "language_info": {
   "codemirror_mode": {
    "name": "ipython",
    "version": 3
   },
   "file_extension": ".py",
   "mimetype": "text/x-python",
   "name": "python",
   "nbconvert_exporter": "python",
   "pygments_lexer": "ipython3",
   "version": "3.13.1"
  }
 },
 "nbformat": 4,
 "nbformat_minor": 5
}
