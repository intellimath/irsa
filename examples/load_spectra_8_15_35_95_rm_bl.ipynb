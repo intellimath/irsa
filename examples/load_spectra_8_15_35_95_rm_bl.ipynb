{
 "cells": [
  {
   "cell_type": "code",
   "execution_count": 1,
   "id": "7a931777-4b9f-48a6-988e-43829381c011",
   "metadata": {},
   "outputs": [
    {
     "name": "stdout",
     "output_type": "stream",
     "text": [
      "3.13.3 (main, Apr 10 2025, 21:38:51) [GCC 14.2.0]\n"
     ]
    }
   ],
   "source": [
    "import numpy as np\n",
    "import matplotlib.pyplot as plt\n",
    "import scipy.stats as stats\n",
    "\n",
    "from pprint import pprint\n",
    "\n",
    "from functools import partial\n",
    "\n",
    "import numpy as np\n",
    "from sklearn.preprocessing import scale\n",
    "import sklearn.metrics as metrics\n",
    "\n",
    "import matplotlib.pyplot as plt\n",
    "import matplotlib.animation as ani\n",
    "\n",
    "import mlgrad.models as models\n",
    "import mlgrad.regr as regr\n",
    "import mlgrad.cls as cls\n",
    "import mlgrad.pca as pca\n",
    "import mlgrad.plots as plots\n",
    "import mlgrad.funcs as funcs\n",
    "import mlgrad.funcs2 as funcs2\n",
    "import mlgrad.loss as loss\n",
    "import mlgrad.gd as gd\n",
    "import mlgrad.smooth as smooth\n",
    "import mlgrad.inventory as inventory\n",
    "from mlgrad.af import averaging_function\n",
    "import mlgrad.avragg as avragg\n",
    "\n",
    "import rampy\n",
    "import pybaselines\n",
    "import random\n",
    "\n",
    "from irsa import io\n",
    "from irsa.preprocess import despike, utils\n",
    "import irsa.widgets as widgets\n",
    "import irsa.spectra as spectra\n",
    "import irsa.io as io\n",
    "\n",
    "import scipy.special as special\n",
    "\n",
    "import copy\n",
    "\n",
    "import ipywidgets\n",
    "from IPython.display import display\n",
    "\n",
    "import sys\n",
    "print(sys.version)\n",
    "\n",
    "%matplotlib widget"
   ]
  },
  {
   "cell_type": "code",
   "execution_count": 2,
   "id": "c1dd86aa-d203-438d-99ad-4b6c2c1afcce",
   "metadata": {},
   "outputs": [],
   "source": [
    "d3_36 = spectra.SpectraCollection()\n",
    "d3_36.load(\"/home/intellimath/work/spectra/spectra_8_15_36\", \"origin\")"
   ]
  },
  {
   "cell_type": "code",
   "execution_count": 3,
   "id": "1f0ab1eb-72d6-4564-8a01-cfac62127c31",
   "metadata": {},
   "outputs": [],
   "source": [
    "d3_95 = spectra.SpectraCollection()\n",
    "d3_95.load(\"/home/intellimath/work/spectra/spectra_8_15_95\", \"origin\")"
   ]
  },
  {
   "cell_type": "code",
   "execution_count": null,
   "id": "bde4ca85-a3b8-48e4-80d8-c93dd8b1debe",
   "metadata": {},
   "outputs": [],
   "source": [
    "# d3_36.select_for_exclusion()"
   ]
  },
  {
   "cell_type": "code",
   "execution_count": null,
   "id": "c5eb0a75-5028-4eda-9dad-29df81828b53",
   "metadata": {},
   "outputs": [],
   "source": [
    "# d3_36.exclude_selected()"
   ]
  },
  {
   "cell_type": "code",
   "execution_count": null,
   "id": "432f36f5-2781-4e68-980b-699588be3a4d",
   "metadata": {},
   "outputs": [],
   "source": [
    "# d3_36.plot_spectra_with_smoothing(tau2=100.0)"
   ]
  },
  {
   "cell_type": "code",
   "execution_count": 4,
   "id": "3dd42bef-e858-44df-a4fb-ff2db54ad8a8",
   "metadata": {},
   "outputs": [
    {
     "data": {
      "application/vnd.jupyter.widget-view+json": {
       "model_id": "51d0fee608b64819bf6675a315f0cb8f",
       "version_major": 2,
       "version_minor": 0
      },
      "text/plain": [
       "interactive(children=(Dropdown(description='Experiment:', layout=Layout(width='60%'), options=('20250423_SA_36…"
      ]
     },
     "metadata": {},
     "output_type": "display_data"
    }
   ],
   "source": [
    "d3_36.plot_spectra(tau2_smooth=10)"
   ]
  },
  {
   "cell_type": "code",
   "execution_count": 7,
   "id": "f86bdf80-aecf-4970-bf9f-b820496ec61c",
   "metadata": {},
   "outputs": [
    {
     "data": {
      "application/vnd.jupyter.widget-view+json": {
       "model_id": "3de145efa2d54645829333a75a972ad0",
       "version_major": 2,
       "version_minor": 0
      },
      "text/plain": [
       "Dropdown(description='Experiment:', index=1, layout=Layout(width='60%'), options=('20250423_SA_36_S__8_15_1_SE…"
      ]
     },
     "metadata": {},
     "output_type": "display_data"
    },
    {
     "data": {
      "application/vnd.jupyter.widget-view+json": {
       "model_id": "8d447fd00ecb42f78a77a5630c2bd398",
       "version_major": 2,
       "version_minor": 0
      },
      "text/plain": [
       "interactive(children=(IntSlider(value=0, description='i', layout=Layout(width='50%'), max=21), FloatSlider(val…"
      ]
     },
     "metadata": {},
     "output_type": "display_data"
    }
   ],
   "source": [
    "d3_36.select_baselines()"
   ]
  },
  {
   "cell_type": "code",
   "execution_count": null,
   "id": "343f0b82-514b-425e-996e-18eea6c98c8d",
   "metadata": {},
   "outputs": [],
   "source": [
    "# d3_36.plot_pca_eigenvals(15)"
   ]
  },
  {
   "cell_type": "code",
   "execution_count": 5,
   "id": "2a8d0b2a-4e39-4604-adbb-cae504e6d598",
   "metadata": {},
   "outputs": [
    {
     "data": {
      "application/vnd.jupyter.widget-view+json": {
       "model_id": "ddbb4f1f98b041c1a243a0cae8075ef1",
       "version_major": 2,
       "version_minor": 0
      },
      "text/plain": [
       "interactive(children=(Dropdown(description='Experiment:', layout=Layout(width='60%'), options=('20250423_SA_36…"
      ]
     },
     "metadata": {},
     "output_type": "display_data"
    }
   ],
   "source": [
    "d3_36.plot_pca_spectra_2d(kind=\"AM\", alpha=0.9, verbose=False)"
   ]
  },
  {
   "cell_type": "code",
   "execution_count": null,
   "id": "be8f4c31-901e-4398-be64-344bae1dc1b6",
   "metadata": {},
   "outputs": [],
   "source": [
    "dd36 = d3_36.union()"
   ]
  },
  {
   "cell_type": "code",
   "execution_count": null,
   "id": "b3db60de-a44f-4915-a1f7-5c6886c51939",
   "metadata": {},
   "outputs": [],
   "source": [
    "dd36.plot_pca_spectra_2d(kind=\"AM\", alpha=0.9, verbose=False)"
   ]
  },
  {
   "cell_type": "code",
   "execution_count": 6,
   "id": "b1eae5e5-715b-42cd-a67d-e573d0ab5ccb",
   "metadata": {},
   "outputs": [],
   "source": [
    "dd95 = d3_95.union()"
   ]
  },
  {
   "cell_type": "code",
   "execution_count": 7,
   "id": "07e138c0-0c05-43ed-ac6a-12e3968a3e88",
   "metadata": {},
   "outputs": [
    {
     "data": {
      "application/vnd.jupyter.widget-view+json": {
       "model_id": "43d45be8a01746828db99fc9e29a31bf",
       "version_major": 2,
       "version_minor": 0
      },
      "text/plain": [
       "interactive(children=(FloatSlider(value=0.9, description='alpha', layout=Layout(width='50%'), max=1.0, step=0.…"
      ]
     },
     "metadata": {},
     "output_type": "display_data"
    }
   ],
   "source": [
    "dd95.plot_pca_spectra_2d(kind=\"AM\", alpha=0.9, verbose=False)"
   ]
  },
  {
   "cell_type": "code",
   "execution_count": null,
   "id": "048b4445-0d8d-4bef-8851-c0e2da68243a",
   "metadata": {},
   "outputs": [],
   "source": [
    "# c = pca.location(dd36.y)\n",
    "# As, Ls = pca.find_pc_smoothed_all(dd36.y, 10, d=4)\n",
    "# print(As)"
   ]
  },
  {
   "cell_type": "code",
   "execution_count": null,
   "id": "10a66d37-f334-4a3d-a18e-d9d2a60d4ed8",
   "metadata": {},
   "outputs": [],
   "source": [
    "# Us = (dd36.y - c) @ As.T"
   ]
  },
  {
   "cell_type": "code",
   "execution_count": null,
   "id": "1fcbb3cf-6798-461e-a21c-e04e9f512363",
   "metadata": {},
   "outputs": [],
   "source": [
    "# plt.figure(figsize=(10,4))\n",
    "# for i,a in enumerate(As):\n",
    "#     plt.plot(a, label=str(i))\n",
    "# plt.legend()\n",
    "# plt.minorticks_on()\n",
    "# plt.show()"
   ]
  },
  {
   "cell_type": "code",
   "execution_count": null,
   "id": "45cf42e4-3e70-4913-8e10-dc4dc6c00564",
   "metadata": {},
   "outputs": [],
   "source": [
    "plt.figure()\n",
    "plt.scatter(Us[:,0], Us[:,1])\n",
    "plt.show()"
   ]
  },
  {
   "cell_type": "code",
   "execution_count": null,
   "id": "ca7e1986-bed7-4e63-99bb-aecf5db30e1f",
   "metadata": {},
   "outputs": [],
   "source": [
    "# # c, As, Ls = pca.find_loc_and_pc(dd36.y, 15)\n",
    "# print(Ls/Ls.sum())\n",
    "# plt.figure(figsize=(10,4))\n",
    "# plt.plot(Ls/Ls.sum(), marker='o', markersize=5)\n",
    "# plt.show()"
   ]
  },
  {
   "cell_type": "code",
   "execution_count": null,
   "id": "5052b623-c24c-44ed-90e9-1af352f28117",
   "metadata": {},
   "outputs": [],
   "source": [
    "# dd95 = d3_95.union()"
   ]
  },
  {
   "cell_type": "code",
   "execution_count": null,
   "id": "2f602207-953e-42ba-8f8c-01f4f704c84e",
   "metadata": {},
   "outputs": [],
   "source": [
    "# c = pca.location(dd95.y)\n",
    "# As, Ls = pca.find_pc_smoothed_all(dd95.y, 10)\n",
    "# print(As)"
   ]
  },
  {
   "cell_type": "code",
   "execution_count": null,
   "id": "04d94d7c-626d-42d1-8352-141d8f8a6819",
   "metadata": {},
   "outputs": [],
   "source": [
    "# Us = (dd95.y - c) @ As.T"
   ]
  },
  {
   "cell_type": "code",
   "execution_count": null,
   "id": "d593be12-f4d4-485f-8ae3-f2faa8b37261",
   "metadata": {},
   "outputs": [],
   "source": [
    "# plt.figure(figsize=(10,4))\n",
    "# for i,a in enumerate(As):\n",
    "#     plt.plot(a, label=str(i))\n",
    "# plt.legend()\n",
    "# plt.minorticks_on()\n",
    "# plt.show()"
   ]
  },
  {
   "cell_type": "code",
   "execution_count": null,
   "id": "d2da80e8-8f01-4614-8959-b0d52d77cf21",
   "metadata": {},
   "outputs": [],
   "source": [
    "# plt.figure()\n",
    "# plt.scatter(Us[:,0], Us[:,1])\n",
    "# plt.show()"
   ]
  },
  {
   "cell_type": "code",
   "execution_count": null,
   "id": "c72df546-2fd3-47b3-ba3c-a94a5befd399",
   "metadata": {},
   "outputs": [],
   "source": [
    "print(Ls/Ls.sum())\n",
    "plt.figure(figsize=(10,4))\n",
    "plt.plot(Ls/Ls.sum(), marker='o', markersize=2)\n",
    "plt.show()"
   ]
  },
  {
   "cell_type": "code",
   "execution_count": null,
   "id": "6c961c85-fd8f-42d3-9a1c-b30c349ca488",
   "metadata": {},
   "outputs": [],
   "source": [
    "# d3_36.select_baselines(\n",
    "#         tau2=1.0e4, func2_mode=\"e\",\n",
    "#         tau2_smooth=1.0,\n",
    "#         func=funcs.Logistic(-1.0),\n",
    "#         func2=inventory.relative_abs_max,\n",
    "#         override_tau2=True\n",
    "#         )"
   ]
  },
  {
   "cell_type": "code",
   "execution_count": null,
   "id": "90b51f46-7c29-4055-ae5c-f165e3155010",
   "metadata": {},
   "outputs": [],
   "source": [
    "# d3_36.replace_spectra_with_corrected()"
   ]
  },
  {
   "cell_type": "code",
   "execution_count": null,
   "id": "eab47778-1a5a-47c0-b653-da827e15459b",
   "metadata": {},
   "outputs": [],
   "source": [
    "d3_36.plot_spectra()"
   ]
  },
  {
   "cell_type": "code",
   "execution_count": null,
   "id": "30a9f78c-4f75-43d4-9fa7-348a450f555f",
   "metadata": {},
   "outputs": [],
   "source": [
    "dd36 = d3_36.union(d3_36.keys())"
   ]
  },
  {
   "cell_type": "code",
   "execution_count": null,
   "id": "64744081-9bd5-4487-928d-e67ed655e3a1",
   "metadata": {},
   "outputs": [],
   "source": [
    "dd36.plot_pca_spectra(15, kind=\"WM\", alpha=0.95)"
   ]
  },
  {
   "cell_type": "code",
   "execution_count": null,
   "id": "57d18070-9cd0-4cf6-a031-6d87a0e49b1e",
   "metadata": {},
   "outputs": [],
   "source": [
    "dd95 = d3_95.union(d3_95.keys())"
   ]
  },
  {
   "cell_type": "code",
   "execution_count": null,
   "id": "7fea9ba9-b4ab-4070-901e-20214ebd2f05",
   "metadata": {},
   "outputs": [],
   "source": [
    "dd95.plot_spectra()"
   ]
  },
  {
   "cell_type": "code",
   "execution_count": null,
   "id": "f268a302-3114-419c-a50d-4f926553fbc6",
   "metadata": {},
   "outputs": [],
   "source": [
    "dd95.plot_pca_spectra(15, kind=\"WM\", alpha=0.95)"
   ]
  },
  {
   "cell_type": "code",
   "execution_count": null,
   "id": "1c1f87da-1cd6-48df-abeb-b8a1b94dc147",
   "metadata": {},
   "outputs": [],
   "source": [
    "d3_36.save(\"/home/intellimath/work/spectra/spectra_8_15_36\", \"rm_bl\")"
   ]
  },
  {
   "cell_type": "code",
   "execution_count": null,
   "id": "25fe16db-7b67-444a-9528-fe6fec2d9f39",
   "metadata": {},
   "outputs": [],
   "source": [
    "d3_95.selector_key()"
   ]
  },
  {
   "cell_type": "code",
   "execution_count": null,
   "id": "08688f85-0926-4d45-909c-4ee893df0b7f",
   "metadata": {},
   "outputs": [],
   "source": [
    "d3_95.select_for_exclusion()"
   ]
  },
  {
   "cell_type": "code",
   "execution_count": null,
   "id": "f3b89ad5-3e4d-412d-9712-3bc1013868d9",
   "metadata": {},
   "outputs": [],
   "source": [
    "d3_95.exclude_selected()"
   ]
  },
  {
   "cell_type": "code",
   "execution_count": 11,
   "id": "921ad68a-e9f6-4433-bea6-6220cd4f8fa1",
   "metadata": {},
   "outputs": [
    {
     "data": {
      "application/vnd.jupyter.widget-view+json": {
       "model_id": "a1d723faa75443e3933d8cd9fdf8e40b",
       "version_major": 2,
       "version_minor": 0
      },
      "text/plain": [
       "Dropdown(description='Experiment:', layout=Layout(width='60%'), options=('20250423_SA_95_R__8_15_1_SE__1_H2O(H…"
      ]
     },
     "metadata": {},
     "output_type": "display_data"
    },
    {
     "data": {
      "application/vnd.jupyter.widget-view+json": {
       "model_id": "858f5b16a88d4ea0b5c398e2cd857ac7",
       "version_major": 2,
       "version_minor": 0
      },
      "text/plain": [
       "interactive(children=(IntSlider(value=0, description='i', layout=Layout(width='50%'), max=19), FloatSlider(val…"
      ]
     },
     "metadata": {},
     "output_type": "display_data"
    }
   ],
   "source": [
    "d3_95.select_baselines(kind=\"irsa\",\n",
    "        tau2=1.0e3, func2_mode=\"e\",\n",
    "        tau2_smooth=1.0,\n",
    "        func=funcs.Logistic(-1.0),\n",
    "        # func2=inventory.relative_abs_max,\n",
    "        override_tau2=True\n",
    "        )"
   ]
  },
  {
   "cell_type": "code",
   "execution_count": 30,
   "id": "b5225a9d-05e6-42d8-ac0d-e9744efdf30f",
   "metadata": {},
   "outputs": [],
   "source": [
    "d3_95.replace_spectra_with_corrected()"
   ]
  },
  {
   "cell_type": "code",
   "execution_count": null,
   "id": "ecbeb2ca-4e79-4a90-afec-a0883a522d6c",
   "metadata": {},
   "outputs": [],
   "source": [
    "d3_95.save(\"/home/intellimath/work/spectra/spectra_8_15_95\", \"rm_bl\")"
   ]
  },
  {
   "cell_type": "code",
   "execution_count": null,
   "id": "3cc68c8b-96cf-44df-a6aa-3e1e95186c28",
   "metadata": {},
   "outputs": [],
   "source": [
    "d3_95.plot_spectra()"
   ]
  },
  {
   "cell_type": "code",
   "execution_count": 12,
   "id": "15527273-194d-47b5-8ada-ae2828b167e1",
   "metadata": {},
   "outputs": [],
   "source": [
    "dd3_36 = spectra.SpectraCollection()\n",
    "dd3_36.load(\"/home/intellimath/work/spectra/spectra_8_15_36\", \"rm_bl\")"
   ]
  },
  {
   "cell_type": "code",
   "execution_count": 13,
   "id": "4b6b1628-ef60-4138-a5bf-d0ff89b09573",
   "metadata": {},
   "outputs": [],
   "source": [
    "dd3_95 = spectra.SpectraCollection()\n",
    "dd3_95.load(\"/home/intellimath/work/spectra/spectra_8_15_95\", \"rm_bl\")"
   ]
  },
  {
   "cell_type": "code",
   "execution_count": 14,
   "id": "83da7604-d2bb-4a60-bb86-ed816b5486a0",
   "metadata": {},
   "outputs": [],
   "source": [
    "dd95 = dd3_95.union(dd3_95.keys())"
   ]
  },
  {
   "cell_type": "code",
   "execution_count": 15,
   "id": "20f82420-d202-40ed-ad13-1211b51f5350",
   "metadata": {},
   "outputs": [
    {
     "data": {
      "application/vnd.jupyter.widget-view+json": {
       "model_id": "2bd47e93f519481da0e2183c4bb32cb3",
       "version_major": 2,
       "version_minor": 0
      },
      "text/plain": [
       "interactive(children=(IntSlider(value=0, description='i', layout=Layout(width='50%'), max=57), FloatRangeSlide…"
      ]
     },
     "metadata": {},
     "output_type": "display_data"
    }
   ],
   "source": [
    "dd95.plot_spectra()"
   ]
  },
  {
   "cell_type": "code",
   "execution_count": null,
   "id": "30ae9a3f-dae8-4223-8faf-9784b0ba5bb8",
   "metadata": {},
   "outputs": [],
   "source": [
    "c, As, Ls = pca.find_pc_smoothed_all(dd95.y, 2)\n",
    "print(As)"
   ]
  },
  {
   "cell_type": "code",
   "execution_count": null,
   "id": "6bf2b073-0a16-4102-a3f8-9519e970e900",
   "metadata": {},
   "outputs": [],
   "source": [
    "Us = (Ys - c) @ As.T"
   ]
  },
  {
   "cell_type": "code",
   "execution_count": null,
   "id": "b76ab4c7-2869-415e-a3b1-c42c8cefa2ab",
   "metadata": {},
   "outputs": [],
   "source": [
    "plt.figure()\n",
    "plt.scatter(Us[:,0], Us[:,1])\n",
    "plt.show()"
   ]
  },
  {
   "cell_type": "code",
   "execution_count": null,
   "id": "165fe82d-a20b-4dd3-96d9-9afeeee210c6",
   "metadata": {},
   "outputs": [],
   "source": [
    "c, As, Ls = pca.find_loc_and_pc(Ys,30)\n",
    "print(Ls/Ls.sum())\n",
    "plt.figure(figsize=(10,4))\n",
    "plt.plot(Ls/Ls.sum(), marker='o', markersize=2)\n",
    "plt.show()"
   ]
  },
  {
   "cell_type": "code",
   "execution_count": null,
   "id": "bc97e237-d9ea-44af-bab2-4dde3188d4a8",
   "metadata": {},
   "outputs": [],
   "source": []
  }
 ],
 "metadata": {
  "kernelspec": {
   "display_name": "Python 3 (ipykernel)",
   "language": "python",
   "name": "python3"
  },
  "language_info": {
   "codemirror_mode": {
    "name": "ipython",
    "version": 3
   },
   "file_extension": ".py",
   "mimetype": "text/x-python",
   "name": "python",
   "nbconvert_exporter": "python",
   "pygments_lexer": "ipython3",
   "version": "3.13.3"
  }
 },
 "nbformat": 4,
 "nbformat_minor": 5
}
