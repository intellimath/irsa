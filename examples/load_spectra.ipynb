{
 "cells": [
  {
   "cell_type": "code",
   "execution_count": 1,
   "id": "898fd428-1d6f-4a87-9236-92339a17b458",
   "metadata": {
    "execution": {
     "iopub.execute_input": "2024-08-13T09:08:57.119503Z",
     "iopub.status.busy": "2024-08-13T09:08:57.118721Z",
     "iopub.status.idle": "2024-08-13T09:08:58.866339Z",
     "shell.execute_reply": "2024-08-13T09:08:58.865593Z",
     "shell.execute_reply.started": "2024-08-13T09:08:57.119445Z"
    }
   },
   "outputs": [],
   "source": [
    "import numpy as np\n",
    "import matplotlib.pyplot as plt\n",
    "\n",
    "from pprint import pprint\n",
    "\n",
    "# from sklearn.linear_model import LinearRegression\n",
    "# from sklearn.preprocessing import scale as std_scale, robust_scale\n",
    "\n",
    "# from scipy.signal import find_peaks, find_peaks_cwt, peak_widths\n",
    "\n",
    "import numpy as np\n",
    "# from sklearn.datasets import load_digits\n",
    "from sklearn.preprocessing import scale\n",
    "import sklearn.metrics as metrics\n",
    "\n",
    "import matplotlib.pyplot as plt\n",
    "import matplotlib.animation as ani\n",
    "\n",
    "import mlgrad.models as models\n",
    "import mlgrad.regr as regr\n",
    "import mlgrad.cls as cls\n",
    "import mlgrad.plots as plots\n",
    "import mlgrad.funcs as funcs\n",
    "import mlgrad.funcs2 as funcs2\n",
    "import mlgrad.loss as loss\n",
    "import mlgrad.gd as gd\n",
    "import mlgrad.smooth as smooth\n",
    "\n",
    "import rampy\n",
    "import pybaselines\n",
    "import random\n",
    "\n",
    "from irsa import io\n",
    "from irsa.preprocess import despike, utils\n",
    "\n",
    "\n",
    "# import xarray as xr\n",
    "\n",
    "import ipywidgets\n",
    "from IPython.display import display\n",
    "\n",
    "%matplotlib widget"
   ]
  },
  {
   "cell_type": "code",
   "execution_count": 2,
   "id": "91f10700-5b68-41b4-896d-a8edd0215d24",
   "metadata": {
    "execution": {
     "iopub.execute_input": "2024-08-13T09:08:58.867404Z",
     "iopub.status.busy": "2024-08-13T09:08:58.867123Z",
     "iopub.status.idle": "2024-08-13T09:08:58.875478Z",
     "shell.execute_reply": "2024-08-13T09:08:58.874421Z",
     "shell.execute_reply.started": "2024-08-13T09:08:58.867383Z"
    }
   },
   "outputs": [
    {
     "name": "stdout",
     "output_type": "stream",
     "text": [
      "{'вид_бактерий': ['SA'],\n",
      " 'время_накопления': ['0.5', '1'],\n",
      " 'дата': ['20231030', '20240701', '20240704', '20240708', '20240709'],\n",
      " 'дата_подложки': ['231030', '240301', '240625'],\n",
      " 'количество_спектров_в_серии': ['15', '30'],\n",
      " 'комментарий': ['0', '24hr_after_drying'],\n",
      " 'лазер': ['532'],\n",
      " 'мощность_лазера': ['4.08'],\n",
      " 'начальная_концентрация_клеток_в_пробе': ['3', '6'],\n",
      " 'номер_отбора_из_чашки_петри': ['1'],\n",
      " 'номер_повтора': ['1', '5'],\n",
      " 'номер_цикла': ['3'],\n",
      " 'номер_эксперимента_в_цикле': ['1', '3', '5', '6'],\n",
      " 'отсечки_по_молекулярной_массе': ['less10', 'less30', 'more30'],\n",
      " 'резистентность': ['R', 'S'],\n",
      " 'тип_измерения_спектров': ['SE'],\n",
      " 'тип_подложки': ['Ag#G_Af'],\n",
      " 'штамм_бактерий': ['191', '606', '92', '93', '95', '96']}\n"
     ]
    }
   ],
   "source": [
    "attrs = io.collect_attr_values(f\"/home/intellimath/repos/spectras\")\n",
    "pprint(attrs)"
   ]
  },
  {
   "cell_type": "code",
   "execution_count": 3,
   "id": "377d8fd5-1980-4e0f-ad44-b6c0e4ec0af2",
   "metadata": {
    "execution": {
     "iopub.execute_input": "2024-08-13T09:08:58.877307Z",
     "iopub.status.busy": "2024-08-13T09:08:58.876719Z",
     "iopub.status.idle": "2024-08-13T09:08:58.937606Z",
     "shell.execute_reply": "2024-08-13T09:08:58.936121Z",
     "shell.execute_reply.started": "2024-08-13T09:08:58.877285Z"
    }
   },
   "outputs": [
    {
     "data": {
      "application/vnd.jupyter.widget-view+json": {
       "model_id": "2c311ad491454a4fa1a3cfc14c7695b6",
       "version_major": 2,
       "version_minor": 0
      },
      "text/plain": [
       "SelectMultiple(description='штамм_бактерий', options=('191', '606', '92', '93', '95', '96'), value=())"
      ]
     },
     "metadata": {},
     "output_type": "display_data"
    },
    {
     "data": {
      "application/vnd.jupyter.widget-view+json": {
       "model_id": "0fa1ddd969624855bff6169be4c961e0",
       "version_major": 2,
       "version_minor": 0
      },
      "text/plain": [
       "SelectMultiple(description='резистентность', options=('R', 'S'), value=())"
      ]
     },
     "metadata": {},
     "output_type": "display_data"
    },
    {
     "data": {
      "application/vnd.jupyter.widget-view+json": {
       "model_id": "ec3340938b40466aa20c276eac118a45",
       "version_major": 2,
       "version_minor": 0
      },
      "text/plain": [
       "SelectMultiple(description='начальная_концентрация_клеток_в_пробе', options=('3', '6'), value=())"
      ]
     },
     "metadata": {},
     "output_type": "display_data"
    },
    {
     "data": {
      "application/vnd.jupyter.widget-view+json": {
       "model_id": "14966472d8d24dd5837eea5305db61be",
       "version_major": 2,
       "version_minor": 0
      },
      "text/plain": [
       "SelectMultiple(description='отсечки_по_молекулярной_массе', options=('less10', 'less30', 'more30'), value=())"
      ]
     },
     "metadata": {},
     "output_type": "display_data"
    },
    {
     "data": {
      "application/vnd.jupyter.widget-view+json": {
       "model_id": "2628bed727d54b1bbc89caf4099467ac",
       "version_major": 2,
       "version_minor": 0
      },
      "text/plain": [
       "SelectMultiple(description='номер_эксперимента_в_цикле', options=('1', '3', '5', '6'), value=())"
      ]
     },
     "metadata": {},
     "output_type": "display_data"
    },
    {
     "data": {
      "application/vnd.jupyter.widget-view+json": {
       "model_id": "b4ee67fb99d1466f8029d44e44b397e1",
       "version_major": 2,
       "version_minor": 0
      },
      "text/plain": [
       "SelectMultiple(description='дата', options=('20231030', '20240701', '20240704', '20240708', '20240709'), value…"
      ]
     },
     "metadata": {},
     "output_type": "display_data"
    },
    {
     "data": {
      "application/vnd.jupyter.widget-view+json": {
       "model_id": "94993cc7386c4fdb938b9b6de9bd2184",
       "version_major": 2,
       "version_minor": 0
      },
      "text/plain": [
       "Button(description='Select', style=ButtonStyle())"
      ]
     },
     "metadata": {},
     "output_type": "display_data"
    },
    {
     "data": {
      "application/vnd.jupyter.widget-view+json": {
       "model_id": "d5f9e15e84784597b5d534bfe27a8a2b",
       "version_major": 2,
       "version_minor": 0
      },
      "text/plain": [
       "Output()"
      ]
     },
     "metadata": {},
     "output_type": "display_data"
    }
   ],
   "source": [
    "keys = ['штамм_бактерий', 'резистентность', 'начальная_концентрация_клеток_в_пробе', \n",
    "        'отсечки_по_молекулярной_массе', 'номер_эксперимента_в_цикле', 'дата']\n",
    "\n",
    "selectors = {}\n",
    "for key in keys:\n",
    "    vals = attrs[key]\n",
    "    selectors[key] = ipywidgets.SelectMultiple(options=vals, description=key)\n",
    "options_button = ipywidgets.Button(description=\"Select\")\n",
    "output = ipywidgets.Output()\n",
    "\n",
    "options = {}\n",
    "def onclick_options_button(b):\n",
    "    for key,sel in selectors.items():\n",
    "        if sel.value:\n",
    "            options[key] = sel.value\n",
    "    with output:\n",
    "        print(options)\n",
    "\n",
    "options_button.on_click(onclick_options_button)\n",
    "\n",
    "options_widgets = list(selectors.values())+[options_button, output]\n",
    "display(*options_widgets)"
   ]
  },
  {
   "cell_type": "code",
   "execution_count": 4,
   "id": "8c060415-7c41-4d50-aad6-b09e9b4f3b25",
   "metadata": {
    "execution": {
     "iopub.execute_input": "2024-08-13T09:08:58.940472Z",
     "iopub.status.busy": "2024-08-13T09:08:58.939980Z",
     "iopub.status.idle": "2024-08-13T09:08:59.579236Z",
     "shell.execute_reply": "2024-08-13T09:08:59.578322Z",
     "shell.execute_reply.started": "2024-08-13T09:08:58.940435Z"
    }
   },
   "outputs": [
    {
     "name": "stdout",
     "output_type": "stream",
     "text": [
      "file: 3_3_SA_95_R_3_1_less30_1_0\n",
      "file: 3_3_SA_96_R_3_1_less30_1_0\n",
      "file: 3_1_SA_96_R_6_1_less30_1_0\n",
      "file: 3_2_SA_96_R_6_1_less30_1_!24hours after drying!\n",
      "60\n",
      "61\n",
      "61\n",
      "34\n"
     ]
    }
   ],
   "source": [
    "options = {'резистентность': ('R',), 'отсечки_по_молекулярной_массе': ('less30',)}\n",
    "d = io.load_spectras(f\"/home/intellimath/repos/spectras\", options)\n",
    "\n",
    "for i, key in enumerate(d):\n",
    "    entry1 = d[key]\n",
    "    entry1.crop(40)\n",
    "    # entry1.use_range(end_index=15)\n",
    "    # entry1.smooth(tau=4.0)\n",
    "    entry1.allign_bottom()\n",
    "    # entry1.remove_overflow_spectras(y_max=2000.0, y_max_count=30)\n",
    "    # entry1.remove_outlier_spectras(delta=0.10, tau=3.5)\n",
    "    # entry1.remove_by_zscore_spectras(tau=3.5, max_count=50)\n",
    "    print(len(entry1.y))\n",
    "    "
   ]
  },
  {
   "cell_type": "code",
   "execution_count": 5,
   "id": "775eccbc-67f2-4b29-b27f-863411136ac5",
   "metadata": {
    "execution": {
     "iopub.execute_input": "2024-08-13T09:08:59.582379Z",
     "iopub.status.busy": "2024-08-13T09:08:59.580847Z",
     "iopub.status.idle": "2024-08-13T09:08:59.606293Z",
     "shell.execute_reply": "2024-08-13T09:08:59.604675Z",
     "shell.execute_reply.started": "2024-08-13T09:08:59.582286Z"
    }
   },
   "outputs": [],
   "source": [
    "d_keys = list(d.keys())\n",
    "sel_i = 0\n",
    "sel = ipywidgets.Select(options=d_keys,  description=\"Key:\", rows=len(d)+1)\n",
    "sel.layout.width=\"50%\"\n",
    "\n",
    "i_slider = ipywidgets.IntSlider(min=0, max=len(d[d_keys[0]].y)-1)\n",
    "i_slider.layout.width=\"50%\"\n",
    "\n",
    "f_slider = ipywidgets.FloatSlider(value=3.5, min=1.0, max=10.0)\n",
    "f_slider.layout.width=\"50%\"\n",
    "\n",
    "def sel_on_value_change(change):\n",
    "    i_slider.value = 0\n",
    "    i_slider.max = len(d[sel.value].y)-1\n",
    "\n",
    "# def i_on_value_change(change):\n",
    "#     plot_spectra_series(sel.value, i_slider.value, f_slider.value)\n",
    "\n",
    "# def f_on_value_change(change):\n",
    "#     plot_spectra_series(sel.value, i_slider.value, f_slider.value)\n",
    "\n",
    "sel.on_trait_change(sel_on_value_change, name=\"value\")\n",
    "# i_slider.on_trait_change(i_on_value_change, name=\"value\")\n",
    "# f_slider.on_trait_change(f_on_value_change, name=\"value\")\n",
    "\n",
    "# ipywidgets.VBox([sel, i_slider, out])"
   ]
  },
  {
   "cell_type": "code",
   "execution_count": 6,
   "id": "13b62f4d-efe5-46ea-9657-d94b26f8948b",
   "metadata": {
    "execution": {
     "iopub.execute_input": "2024-08-13T09:08:59.612820Z",
     "iopub.status.busy": "2024-08-13T09:08:59.612272Z",
     "iopub.status.idle": "2024-08-13T09:09:00.227397Z",
     "shell.execute_reply": "2024-08-13T09:09:00.226111Z",
     "shell.execute_reply.started": "2024-08-13T09:08:59.612770Z"
    }
   },
   "outputs": [
    {
     "data": {
      "application/vnd.jupyter.widget-view+json": {
       "model_id": "1dedd05a6918420988b4e66e3e91040b",
       "version_major": 2,
       "version_minor": 0
      },
      "text/plain": [
       "interactive(children=(Select(description='Key:', layout=Layout(width='50%'), options=('SA_95_R_less30_3_3_1_20…"
      ]
     },
     "metadata": {},
     "output_type": "display_data"
    }
   ],
   "source": [
    "def plot_spectra_series(key, i, zval):\n",
    "    plt.figure(figsize=(12,4))\n",
    "    entry = d[key]\n",
    "    x = entry.x[i]\n",
    "    ys = entry.y[i]\n",
    "    plt.title(f\"{key} [{len(entry.y)}] [{len(ys)}]\")\n",
    "    for j, y in enumerate(ys):\n",
    "        plt.plot(x, y, linewidth=0.5, label=str(j), alpha=0.5)\n",
    "    ys_m = utils.robust_mean2(ys, tau=zval)\n",
    "    ys_m_smooth, qvals = smooth.whittaker(ys_m, tau=1.0, h=0.001, n_iter=1000)\n",
    "    # print(f\"qvals: {qvals}\")\n",
    "    plt.plot(x, ys_m, linewidth=2.0, color='r')\n",
    "    plt.plot(x, ys_m_smooth, linewidth=2.0, color='k')\n",
    "\n",
    "    ys_max = max(ys_m_smooth) / 2\n",
    "    bs, _ = pybaselines.whittaker.aspls(ys_m_smooth/ys_max, x_data=x, lam=1.0e5, diff_order=2)\n",
    "    # def arpls_func(E):\n",
    "    #     E1 = np.ascontiguousarray(E[E < 0])\n",
    "    #     if len(E1) == 0:\n",
    "    #         return np.ones_like(E, \"d\")\n",
    "    #     e_m = np.mean(E1)\n",
    "    #     s_m = np.mean(abs(E1 - e_m))\n",
    "    #     EE = (E - e_m) / s_m\n",
    "    #     W = 1/(1 + np.exp(-2*EE))\n",
    "    #     # print(W)\n",
    "    #     return W\n",
    "    # bs, _ = smooth.whittaker(ys_m_smooth/ys_max, tau=1.0e5, weight_func=arpls_func, h=0.001, n_iter=1000)\n",
    "    bs *= ys_max\n",
    "    plt.plot(x, bs, linewidth=2.0, color='m')\n",
    "\n",
    "    dys_m = abs(ys - ys_m_smooth) / (ys_m_smooth + 0.001)\n",
    "    ds4 = np.nanmedian(abs(ys_m - ys_m_smooth) / (ys_m + 0.001))\n",
    "    dy_m = np.nanmedian(dys_m, axis=0)\n",
    "    ds = np.nanmedian(dy_m) \n",
    "    ds2 = np.nanpercentile(dy_m, 75)\n",
    "    \n",
    "    plt.hlines(0, 0, max(x), colors='k', linestyles='--')\n",
    "    plt.xlim(-10, max(x)+10)\n",
    "    plt.ylim(-10, max(ys[0,42:])+100)\n",
    "        \n",
    "    plt.minorticks_on()\n",
    "    plt.tight_layout()\n",
    "    plt.legend([str(i), f\"{ds:.2f} / {ds2:.2f} ... {ds4:.4f}\", \"baseline\"])\n",
    "    plt.show()\n",
    "    plt.figure()\n",
    "    plt.plot(qvals)\n",
    "    plt.show()\n",
    "\n",
    "def plot_zscore_series(key, i, zval):\n",
    "    plt.figure(figsize=(12,2))\n",
    "    # plt.title(f\"Modified z-score: {key}: {i}\")\n",
    "    entry = d[key]\n",
    "    x = entry.x[i]\n",
    "    ys = entry.y[i]\n",
    "    zs = utils.modified_zscore2(ys)\n",
    "    abs_zs = abs(zs)\n",
    "    for z in abs_zs:\n",
    "        plt.plot(x, z, linewidth=0.5, alpha=0.5)\n",
    "    plt.plot(x, utils.robust_mean2(abs_zs, tau=zval), linewidth=2.0, color='k')\n",
    "    plt.hlines(0, 0, max(x), colors='k', linestyles='--')\n",
    "    plt.hlines(zval, 0, max(x), colors='k', linewidth=1.0)\n",
    "    plt.xlim(-10, max(x)+10)\n",
    "        \n",
    "    plt.minorticks_on()\n",
    "    plt.tight_layout()\n",
    "    plt.legend([\"Modified z-score\"])\n",
    "    plt.xticks([])\n",
    "    plt.show()\n",
    "\n",
    "@ipywidgets.interact(key=sel, i=i_slider, f=f_slider, zscore=False)\n",
    "def plot_spectra_zscore(key, i, f, zscore):\n",
    "    if i > len(d[key].y)-1:\n",
    "        i = 0\n",
    "        i_slider.value=i\n",
    "        i_slider.max = len(d[key].y)-1\n",
    "\n",
    "    plot_spectra_series(key, i, f)\n",
    "    if zscore:\n",
    "        plot_zscore_series(key, i, f)\n"
   ]
  },
  {
   "cell_type": "code",
   "execution_count": null,
   "id": "62d67ee2-6bfb-448d-ae49-3ac0e77e7bf4",
   "metadata": {},
   "outputs": [],
   "source": [
    "d2 = {}\n",
    "for i, key in enumerate(d):\n",
    "    entry2 = d[key]\n",
    "    d2[key] = entry2.robust_averaging(tau=3.0)\n"
   ]
  },
  {
   "cell_type": "code",
   "execution_count": null,
   "id": "db5c2e2a-733b-4774-b204-d84f41da652e",
   "metadata": {},
   "outputs": [],
   "source": [
    "for i, key in enumerate(d):\n",
    "    entry3 = d2[key]\n",
    "    entry3.smooth(methos=\"irsa\", tau=0.01)\n",
    "    entry3.allign_bottom()\n",
    "    entry3.normalize_area_under_curve()\n",
    "    entry3.remove_by_zscore_spectras(tau=3.5, max_count=40)\n",
    "    entry3.normalize_area_under_curve()\n",
    "    entry3.subtract_baseline(\"aspls\", pad=10, lam=1.0e5)\n",
    "    # print(entry3.x.shape, entry3.y.shape)\n",
    "    # entry3.y = entry3.remove_outlier_spectras(tau=3.5)\n",
    "    # Is = [i for i,ys in enumerate(entry3.y) if np.any(np.isnan(ys))]\n",
    "    # print(Is)            \n",
    "\n",
    "    # # entry3.subtract_baseline(\"mor\", max_half_window=5, min_half_window=1)\n"
   ]
  },
  {
   "cell_type": "code",
   "execution_count": null,
   "id": "46505c89-c4a3-4c91-8c31-2f7493d6e0e1",
   "metadata": {},
   "outputs": [],
   "source": [
    "for i, key in enumerate(d):\n",
    "    entry = d2[key]\n",
    "    Xs, Ys = entry.x, entry.y\n",
    "\n",
    "    plt.figure(figsize=(12,4))\n",
    "    plt.title(key)\n",
    "    for xs, ys in zip(Xs, Ys):\n",
    "        plt.plot(xs, ys, linewidth=0.5)\n",
    "    plt.hlines(0, 0, max(xs), colors='k', linestyles='--')\n",
    "    plt.xlim(-10, max(xs))\n",
    "        \n",
    "    plt.minorticks_on()\n",
    "    plt.tight_layout()\n",
    "    # plt.legend()\n",
    "    plt.show()\n",
    "    \n",
    "    # plt.figure(figsize=(12,3))\n",
    "    # Zs = utils.modified_zscore2(Ys)\n",
    "    # for xs,zs in zip(Xs,Zs):\n",
    "    #     plt.plot(xs,abs(zs), linewidth=0.5, marker='s', markersize=1)\n",
    "    # plt.hlines(3.5, 0, max(xs), colors='k', linestyle='--')\n",
    "    # plt.minorticks_on()\n",
    "    # plt.tight_layout()\n",
    "    # plt.show()\n",
    "    "
   ]
  },
  {
   "cell_type": "code",
   "execution_count": null,
   "id": "69258dbb-9677-4452-8548-8c4ff696b504",
   "metadata": {},
   "outputs": [],
   "source": [
    "from sklearn.decomposition import PCA\n",
    "\n",
    "plt.figure(figsize=(12,6))\n",
    "for i, key in enumerate(d):\n",
    "    entry = d2[key]\n",
    "    Xs, Ys = entry.x, entry.y\n",
    "\n",
    "    pca = PCA(3)\n",
    "    pca.fit(Ys)\n",
    "    Us = pca.transform(Ys)\n",
    "\n",
    "    plt.scatter(Us[:,1], Us[:,2], label=key)\n",
    "\n",
    "plt.minorticks_on()\n",
    "plt.tight_layout()\n",
    "plt.legend()\n",
    "plt.show()"
   ]
  },
  {
   "cell_type": "code",
   "execution_count": null,
   "id": "75ae5b51-6796-40e6-9865-2fd22debac86",
   "metadata": {},
   "outputs": [],
   "source": [
    "plt.figure(figsize=(12,6))\n",
    "for i, key in enumerate(d):\n",
    "    entry = d2[key]\n",
    "    Xs, Ys = entry.x, entry.y\n",
    "\n",
    "    # if \"_R_\" in key:\n",
    "    #     if \"95\" in key:\n",
    "    #         color='r'\n",
    "    #     elif \"96\" in key:\n",
    "    #         color='Brown'\n",
    "    # elif \"_S_\" in key:\n",
    "    #     if \"92\" in key:\n",
    "    #         color='m'\n",
    "    #     elif \"93\" in key:\n",
    "    #         color='b'\n",
    "    #     else:\n",
    "    #         color='b'\n",
    "\n",
    "    if \"_R_\" in key:\n",
    "        color='r'\n",
    "    elif \"_S_\" in key:\n",
    "        color='b'\n",
    "    else:\n",
    "        color='m'\n",
    "        \n",
    "    plt.plot(np.mean(Xs, axis=0), np.mean(Ys, axis=0), linewidth=1.0, color=color, label=key)\n",
    "    # plt.plot(np.mean(Ys, axis=0), linewidth=1.0, label=key)\n",
    "    \n",
    "# plt.hlines(0, 0, len(Ys[0]), colors='k')\n",
    "# plt.xlim(-10,1000)\n",
    "        \n",
    "plt.minorticks_on()\n",
    "plt.tight_layout()\n",
    "plt.legend()\n",
    "plt.show()"
   ]
  },
  {
   "cell_type": "code",
   "execution_count": null,
   "id": "33d161e6-cc92-4071-8b24-a470c3919083",
   "metadata": {},
   "outputs": [],
   "source": [
    "# import numpy as np\n",
    "# import mlgrad.inventory as inventory"
   ]
  },
  {
   "cell_type": "code",
   "execution_count": null,
   "id": "04ca3b7e-d0bf-4fd5-9bd8-712ff1b0dd15",
   "metadata": {},
   "outputs": [],
   "source": [
    "# a = np.array([[10, 7, 4], [3, 2, 1]], \"d\")\n",
    "# print(a)"
   ]
  },
  {
   "cell_type": "code",
   "execution_count": null,
   "id": "9f6ad8aa-31ee-4920-a036-f90e4bafddce",
   "metadata": {},
   "outputs": [],
   "source": [
    "#np.median(a, axis=0)"
   ]
  },
  {
   "cell_type": "code",
   "execution_count": null,
   "id": "60dc6037-aa8a-43ea-8438-05b265f5cb75",
   "metadata": {},
   "outputs": [],
   "source": [
    "#inventory.median_2d_t(a)"
   ]
  },
  {
   "cell_type": "code",
   "execution_count": null,
   "id": "8cbca566-a97e-4815-abc3-9633b755fe14",
   "metadata": {},
   "outputs": [],
   "source": []
  }
 ],
 "metadata": {
  "kernelspec": {
   "display_name": "Python 3 (ipykernel)",
   "language": "python",
   "name": "python3"
  },
  "language_info": {
   "codemirror_mode": {
    "name": "ipython",
    "version": 3
   },
   "file_extension": ".py",
   "mimetype": "text/x-python",
   "name": "python",
   "nbconvert_exporter": "python",
   "pygments_lexer": "ipython3",
   "version": "3.12.4"
  }
 },
 "nbformat": 4,
 "nbformat_minor": 5
}
