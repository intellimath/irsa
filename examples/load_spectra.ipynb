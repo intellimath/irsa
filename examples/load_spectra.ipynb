{
 "cells": [
  {
   "cell_type": "code",
   "execution_count": 1,
   "id": "898fd428-1d6f-4a87-9236-92339a17b458",
   "metadata": {
    "execution": {
     "iopub.execute_input": "2024-11-15T12:28:48.947960Z",
     "iopub.status.busy": "2024-11-15T12:28:48.947172Z",
     "iopub.status.idle": "2024-11-15T12:28:50.379436Z",
     "shell.execute_reply": "2024-11-15T12:28:50.378854Z",
     "shell.execute_reply.started": "2024-11-15T12:28:48.947909Z"
    }
   },
   "outputs": [],
   "source": [
    "import numpy as np\n",
    "import matplotlib.pyplot as plt\n",
    "\n",
    "from pprint import pprint\n",
    "\n",
    "import numpy as np\n",
    "from sklearn.preprocessing import scale\n",
    "import sklearn.metrics as metrics\n",
    "\n",
    "import matplotlib.pyplot as plt\n",
    "import matplotlib.animation as ani\n",
    "\n",
    "import mlgrad.models as models\n",
    "import mlgrad.regr as regr\n",
    "import mlgrad.cls as cls\n",
    "import mlgrad.plots as plots\n",
    "import mlgrad.funcs as funcs\n",
    "import mlgrad.funcs2 as funcs2\n",
    "import mlgrad.loss as loss\n",
    "import mlgrad.gd as gd\n",
    "import mlgrad.smooth as smooth\n",
    "import mlgrad.array_transform as at\n",
    "from mlgrad.af import averaging_function\n",
    "import mlgrad.avragg as avragg\n",
    "\n",
    "import rampy\n",
    "import pybaselines\n",
    "import random\n",
    "\n",
    "from irsa import io\n",
    "from irsa.preprocess import despike, utils\n",
    "import irsa.widgets as widgets\n",
    "\n",
    "import scipy.special as special\n",
    "\n",
    "import copy\n",
    "\n",
    "import ipywidgets\n",
    "from IPython.display import display\n",
    "\n",
    "# %matplotlib widget"
   ]
  },
  {
   "cell_type": "code",
   "execution_count": 2,
   "id": "13b62f4d-efe5-46ea-9657-d94b26f8948b",
   "metadata": {
    "execution": {
     "iopub.execute_input": "2024-11-15T12:28:50.380363Z",
     "iopub.status.busy": "2024-11-15T12:28:50.380029Z",
     "iopub.status.idle": "2024-11-15T12:28:50.385303Z",
     "shell.execute_reply": "2024-11-15T12:28:50.384553Z",
     "shell.execute_reply.started": "2024-11-15T12:28:50.380345Z"
    }
   },
   "outputs": [],
   "source": [
    "def plot_zscore_series(key, i, zval):\n",
    "    plt.figure(figsize=(12,2))\n",
    "    # plt.title(f\"Modified z-score: {key}: {i}\")\n",
    "    entry = d[key]\n",
    "    x = entry.x[i]\n",
    "    ys = entry.y[i]\n",
    "    zs = utils.modified_zscore2(ys)\n",
    "    abs_zs = abs(zs)\n",
    "    for z in abs_zs:\n",
    "        plt.plot(x, z, linewidth=0.5, alpha=0.5)\n",
    "    plt.plot(x, utils.robust_mean2(abs_zs, tau=zval), linewidth=2.0, color='k')\n",
    "    plt.hlines(0, 0, max(x), colors='k', linestyles='--')\n",
    "    plt.hlines(zval, 0, max(x), colors='k', linewidth=1.0)\n",
    "    plt.xlim(-10, max(x)+50)\n",
    "        \n",
    "    plt.minorticks_on()\n",
    "    plt.tight_layout()\n",
    "    plt.legend([\"Modified z-score\"])\n",
    "    plt.xticks([])\n",
    "    plt.show()"
   ]
  },
  {
   "cell_type": "code",
   "execution_count": 3,
   "id": "8c060415-7c41-4d50-aad6-b09e9b4f3b25",
   "metadata": {
    "execution": {
     "iopub.execute_input": "2024-11-15T12:28:50.386948Z",
     "iopub.status.busy": "2024-11-15T12:28:50.386465Z",
     "iopub.status.idle": "2024-11-15T12:28:50.453383Z",
     "shell.execute_reply": "2024-11-15T12:28:50.452606Z",
     "shell.execute_reply.started": "2024-11-15T12:28:50.386909Z"
    }
   },
   "outputs": [
    {
     "data": {
      "application/vnd.jupyter.widget-view+json": {
       "model_id": "7f80f8eb0e90498b88bee3ac8f55db52",
       "version_major": 2,
       "version_minor": 0
      },
      "text/plain": [
       "Box(children=(VBox(children=(Label(value='дата', style=LabelStyle(font_size='8pt', font_weight='bold')), Selec…"
      ]
     },
     "metadata": {},
     "output_type": "display_data"
    },
    {
     "data": {
      "application/vnd.jupyter.widget-view+json": {
       "model_id": "26554998e4884ea6924066dba8249cd5",
       "version_major": 2,
       "version_minor": 0
      },
      "text/plain": [
       "Button(description='Select', style=ButtonStyle())"
      ]
     },
     "metadata": {},
     "output_type": "display_data"
    },
    {
     "data": {
      "application/vnd.jupyter.widget-view+json": {
       "model_id": "1ecb393fcdc94e4f98fcd8a5535fbfd7",
       "version_major": 2,
       "version_minor": 0
      },
      "text/plain": [
       "Output()"
      ]
     },
     "metadata": {},
     "output_type": "display_data"
    },
    {
     "data": {
      "text/plain": [
       "{}"
      ]
     },
     "execution_count": 3,
     "metadata": {},
     "output_type": "execute_result"
    }
   ],
   "source": [
    "path = f\"/home/intellimath/repos/spectras/bacteria1024\"\n",
    "options = {}\n",
    "dd = {}\n",
    "widgets.load_spectras(path, dd, options)"
   ]
  },
  {
   "cell_type": "code",
   "execution_count": 4,
   "id": "775eccbc-67f2-4b29-b27f-863411136ac5",
   "metadata": {
    "execution": {
     "iopub.execute_input": "2024-11-14T09:01:27.987119Z",
     "iopub.status.busy": "2024-11-14T09:01:27.984868Z",
     "iopub.status.idle": "2024-11-14T09:01:28.014952Z",
     "shell.execute_reply": "2024-11-14T09:01:28.012156Z",
     "shell.execute_reply.started": "2024-11-14T09:01:27.987000Z"
    }
   },
   "outputs": [],
   "source": [
    "d_keys = list(dd.keys())\n",
    "sel_i = 0\n",
    "sel = ipywidgets.Select(options=d_keys,  description=\"Experiment:\", rows=len(dd)+1)\n",
    "sel.layout.width=\"50%\"\n",
    "\n",
    "# def sel_on_value_change(change):\n",
    "#     i_slider.value = 0\n",
    "#     i_slider.max = len(dd[sel.value].y)-1\n",
    "\n",
    "# def i_on_value_change(change):\n",
    "#     plot_spectra_series(sel.value, i_slider.value, f_slider.value)\n",
    "\n",
    "# def f_on_value_change(change):\n",
    "#     plot_spectra_series(sel.value, i_slider.value, f_slider.value)\n",
    "\n",
    "# def tau_on_value_change(change):\n",
    "#     plot_spectra_series(sel.value, i_slider.value, f_slider.value, tau_slider.value)\n",
    "\n",
    "# sel.on_trait_change(sel_on_value_change, name=\"value\")\n",
    "# i_slider.on_trait_change(i_on_value_change, name=\"value\")\n",
    "# f_slider.on_trait_change(f_on_value_change, name=\"value\")\n",
    "# tau_slider.on_trait_change(tau_on_value_change, name=\"value\")\n",
    "\n",
    "# ipywidgets.VBox([sel, i_slider, out])"
   ]
  },
  {
   "cell_type": "code",
   "execution_count": 5,
   "id": "173c07b1-1adf-4da3-a5a0-6d20c6e195ef",
   "metadata": {
    "execution": {
     "iopub.execute_input": "2024-11-14T09:01:28.851291Z",
     "iopub.status.busy": "2024-11-14T09:01:28.850370Z",
     "iopub.status.idle": "2024-11-14T09:01:28.957275Z",
     "shell.execute_reply": "2024-11-14T09:01:28.955540Z",
     "shell.execute_reply.started": "2024-11-14T09:01:28.851218Z"
    }
   },
   "outputs": [],
   "source": [
    "for i, key in enumerate(dd):\n",
    "    entry1 = dd[key]\n",
    "    entry1.crop(50)\n",
    "    entry1.allign_bottom()\n"
   ]
  },
  {
   "cell_type": "code",
   "execution_count": 6,
   "id": "01ad13cb-4a81-448d-8e26-235e3dfbfb2c",
   "metadata": {
    "execution": {
     "iopub.execute_input": "2024-11-14T09:01:29.918637Z",
     "iopub.status.busy": "2024-11-14T09:01:29.917817Z",
     "iopub.status.idle": "2024-11-14T09:01:29.930267Z",
     "shell.execute_reply": "2024-11-14T09:01:29.927455Z",
     "shell.execute_reply.started": "2024-11-14T09:01:29.918567Z"
    }
   },
   "outputs": [],
   "source": [
    "# for i, key in enumerate(dd):\n",
    "#     entry1 = dd[key]\n",
    "\n",
    "    # entry1.remove_overflow_spectras(y_max=2000.0, y_max_count=30)\n",
    "    # entry1.remove_outlier_spectras(delta=0.10, tau=3.5)\n",
    "    # entry1.remove_by_zscore_spectras(tau=3.5, max_count=50)\n",
    "    # print(len(entry1.y))"
   ]
  },
  {
   "cell_type": "code",
   "execution_count": 7,
   "id": "905e4399-696f-4c23-a381-7ab8766361d6",
   "metadata": {
    "execution": {
     "iopub.execute_input": "2024-11-14T09:01:30.916104Z",
     "iopub.status.busy": "2024-11-14T09:01:30.914797Z",
     "iopub.status.idle": "2024-11-14T09:01:31.605211Z",
     "shell.execute_reply": "2024-11-14T09:01:31.604339Z",
     "shell.execute_reply.started": "2024-11-14T09:01:30.916058Z"
    }
   },
   "outputs": [
    {
     "data": {
      "application/vnd.jupyter.widget-view+json": {
       "model_id": "1b9b453e04974dac85a33132e12cf681",
       "version_major": 2,
       "version_minor": 0
      },
      "text/plain": [
       "interactive(children=(Select(description='Experiment:', layout=Layout(width='50%'), options=('SA_63_S_less100_…"
      ]
     },
     "metadata": {},
     "output_type": "display_data"
    }
   ],
   "source": [
    "@ipywidgets.interact(key=sel)\n",
    "def plot_spectra_for_key(key):\n",
    "    entry = dd[key]\n",
    "    entry.plot_spectras()"
   ]
  },
  {
   "cell_type": "code",
   "execution_count": 8,
   "id": "62d67ee2-6bfb-448d-ae49-3ac0e77e7bf4",
   "metadata": {
    "execution": {
     "iopub.execute_input": "2024-11-14T09:01:53.120610Z",
     "iopub.status.busy": "2024-11-14T09:01:53.118177Z",
     "iopub.status.idle": "2024-11-14T09:01:53.670194Z",
     "shell.execute_reply": "2024-11-14T09:01:53.668859Z",
     "shell.execute_reply.started": "2024-11-14T09:01:53.120492Z"
    }
   },
   "outputs": [],
   "source": [
    "d2 = {}\n",
    "for i, key in enumerate(dd):\n",
    "    entry2 = dd[key]\n",
    "    d2[key] = entry2.robust_averaging(tau=3.0)\n"
   ]
  },
  {
   "cell_type": "code",
   "execution_count": 9,
   "id": "4877a41c-1dd0-490d-b939-1935937220eb",
   "metadata": {
    "execution": {
     "iopub.execute_input": "2024-11-14T09:01:54.523223Z",
     "iopub.status.busy": "2024-11-14T09:01:54.521226Z",
     "iopub.status.idle": "2024-11-14T09:01:54.535409Z",
     "shell.execute_reply": "2024-11-14T09:01:54.533041Z",
     "shell.execute_reply.started": "2024-11-14T09:01:54.523097Z"
    }
   },
   "outputs": [],
   "source": [
    "for key in d2:\n",
    "    entry = d2[key]\n",
    "    # entry.scale(scale=1)\n",
    "    # entry.apply_func(y_func=np.log, x_func=np.log, b=1)\n",
    "    "
   ]
  },
  {
   "cell_type": "code",
   "execution_count": 21,
   "id": "2bbc9ef9-6334-4e2e-b1f3-89f2543ef001",
   "metadata": {
    "execution": {
     "iopub.execute_input": "2024-11-14T09:06:41.030173Z",
     "iopub.status.busy": "2024-11-14T09:06:41.028779Z",
     "iopub.status.idle": "2024-11-14T09:06:41.591543Z",
     "shell.execute_reply": "2024-11-14T09:06:41.590458Z",
     "shell.execute_reply.started": "2024-11-14T09:06:41.030055Z"
    }
   },
   "outputs": [
    {
     "data": {
      "application/vnd.jupyter.widget-view+json": {
       "model_id": "c7cc2265a84a4d63b14915ea38c7c981",
       "version_major": 2,
       "version_minor": 0
      },
      "text/plain": [
       "interactive(children=(Select(description='Experiment:', index=1, layout=Layout(width='50%'), options=('SA_63_S…"
      ]
     },
     "metadata": {},
     "output_type": "display_data"
    }
   ],
   "source": [
    "# def func1(E):\n",
    "#     return (1 - E / np.sqrt(1 + E*E)) / 2\n",
    "#     return special.expit(-E)\n",
    "\n",
    "# def func2(E,D):    \n",
    "#     return (1 + E / np.sqrt(1 + E*E))\n",
    "#     E = abs(E)\n",
    "#     return E / E.max() \n",
    "\n",
    "@ipywidgets.interact(key=sel)\n",
    "def plot_spectra_for_key(key):\n",
    "    entry = d2[key]\n",
    "    entry.select_baselines(tau=1.0e3, bs_scale=2.5, solver=\"fast\", d=2, \n",
    "                           func=funcs.Hinge(1.0), \n",
    "                           func2=funcs.Hinge(0.0))"
   ]
  },
  {
   "cell_type": "code",
   "execution_count": null,
   "id": "db5c2e2a-733b-4774-b204-d84f41da652e",
   "metadata": {},
   "outputs": [],
   "source": [
    "for i, key in enumerate(d2):\n",
    "    entry3 = d2[key]\n",
    "    # entry3.smooth(method=\"irsa\", tau=1.)\n",
    "    # entry3.allign_bottom()\n",
    "    # entry3.normalize_area_under_curve()\n",
    "    # entry3.remove_by_zscore_spectras(tau=3.5, max_count=40)\n",
    "    entry3.subtract_baseline(\"irsa\", lam=100.0)\n",
    "    # entry3.replace_small_values(0.01)\n",
    "    # entry3.normalize_area_under_curve()\n",
    "    # print(entry3.x.shape, entry3.y.shape)\n",
    "    # entry3.y = entry3.remove_outlier_spectras(tau=3.5)\n",
    "    # Is = [i for i,ys in enumerate(entry3.y) if np.any(np.isnan(ys))]\n",
    "    # print(Is)            \n"
   ]
  },
  {
   "cell_type": "code",
   "execution_count": null,
   "id": "46505c89-c4a3-4c91-8c31-2f7493d6e0e1",
   "metadata": {},
   "outputs": [],
   "source": [
    "for i, key in enumerate(d2):\n",
    "    entry = d2[key]\n",
    "    Xs, Ys = entry.x, entry.y\n",
    "\n",
    "    plt.figure(figsize=(12,4))\n",
    "    plt.title(key)\n",
    "    for xs, ys in zip(Xs, Ys):\n",
    "        plt.plot(xs, ys, linewidth=0.5)\n",
    "    plt.hlines(0, min(xs), max(xs), colors='k', linestyles='--')\n",
    "    plt.xlim(min(xs)-20, max(xs))\n",
    "        \n",
    "    plt.minorticks_on()\n",
    "    plt.tight_layout()\n",
    "    # plt.legend()\n",
    "    plt.show()\n",
    "    \n",
    "    # plt.figure(figsize=(12,3))\n",
    "    # Zs = utils.modified_zscore2(Ys)\n",
    "    # for xs,zs in zip(Xs,Zs):\n",
    "    #     plt.plot(xs,abs(zs), linewidth=0.5, marker='s', markersize=1)\n",
    "    # plt.hlines(3.5, 0, max(xs), colors='k', linestyle='--')\n",
    "    # plt.minorticks_on()\n",
    "    # plt.tight_layout()\n",
    "    # plt.show()\n",
    "    "
   ]
  },
  {
   "cell_type": "code",
   "execution_count": null,
   "id": "69258dbb-9677-4452-8548-8c4ff696b504",
   "metadata": {},
   "outputs": [],
   "source": [
    "from sklearn.decomposition import PCA\n",
    "from numpy.linalg import det, inv\n",
    "\n",
    "plt.figure(figsize=(10,6))\n",
    "for i, key in enumerate(d2):\n",
    "    entry = d2[key]\n",
    "    Xs, Ys = entry.x, entry.y\n",
    "\n",
    "    pca = PCA(5)\n",
    "    pca.fit(Ys)\n",
    "    Us = pca.transform(Ys)\n",
    "\n",
    "    S = Us.T @ Us\n",
    "    S /= np.sqrt(det(S))\n",
    "    S = inv(S)\n",
    "    # print(S)\n",
    "\n",
    "\n",
    "    sc = plt.scatter(Us[:,0], Us[:,1], label=key)\n",
    "    c = sc.get_facecolor()\n",
    "\n",
    "    # x_min, x_max = min(Us[:,0]), max(Us[:,0])\n",
    "    # y_min, y_max = min(Us[:,1]), max(Us[:,1])\n",
    "\n",
    "    # xr = np.linspace(x_min, x_max, 50)\n",
    "    # yr = np.linspace(y_min, y_max, 50)\n",
    "    # xx, yy = np.meshgrid(xr, yr)\n",
    "    # xy = np.c_[xx.ravel(), yy.ravel()]\n",
    "    # dd = np.sqrt([0.5*((t @ S) @ t) for t in xy])\n",
    "    # dd = dd.reshape(xx.shape)\n",
    "    # plt.contour(dd, levels=[4.0], colors=c)\n",
    "    \n",
    "\n",
    "plt.minorticks_on()\n",
    "plt.tight_layout()\n",
    "plt.legend()\n",
    "plt.show()"
   ]
  },
  {
   "cell_type": "code",
   "execution_count": null,
   "id": "683e5bae-1103-4abf-839d-c6cd40a44df4",
   "metadata": {},
   "outputs": [],
   "source": [
    "from mlgrad.pca import location, find_pc_all, find_pc_l1_all\n",
    "\n",
    "plt.figure(figsize=(10,6))\n",
    "for i, key in enumerate(d2):\n",
    "    entry = d2[key]\n",
    "    Xs, Ys = entry.x, entry.y\n",
    "\n",
    "    C = location(Ys)\n",
    "    As, Ls, Us = find_pc_all(Ys - C, 2)\n",
    "    plt.plot(Ls, marker='o', label=key)\n",
    "    # plt.scatter(Us[0], Us[1], label=key)\n",
    "\n",
    "plt.tight_layout()\n",
    "plt.legend()\n",
    "plt.show()"
   ]
  },
  {
   "cell_type": "code",
   "execution_count": null,
   "id": "75ae5b51-6796-40e6-9865-2fd22debac86",
   "metadata": {},
   "outputs": [],
   "source": [
    "plt.figure(figsize=(12,6))\n",
    "for i, key in enumerate(d2):\n",
    "    entry = d2[key]\n",
    "    Xs, Ys = entry.x, entry.y\n",
    "\n",
    "    # if \"_R_\" in key:\n",
    "    #     if \"95\" in key:\n",
    "    #         color='r'\n",
    "    #     elif \"96\" in key:\n",
    "    #         color='Brown'\n",
    "    # elif \"_S_\" in key:\n",
    "    #     if \"92\" in key:\n",
    "    #         color='m'\n",
    "    #     elif \"93\" in key:\n",
    "    #         color='b'\n",
    "    #     else:\n",
    "    #         color='b'\n",
    "\n",
    "    if \"_R_\" in key:\n",
    "        color='r'\n",
    "    elif \"_S_\" in key:\n",
    "        color='b'\n",
    "    else:\n",
    "        color='m'\n",
    "        \n",
    "    # plt.plot(np.mean(Xs, axis=0), np.mean(Ys, axis=0), linewidth=1.0, color=color, label=key)\n",
    "    plt.plot(np.mean(Ys, axis=0), linewidth=1.0, label=key)\n",
    "    \n",
    "# plt.hlines(0, 0, len(Ys[0]), colors='k')\n",
    "# plt.xlim(-10,1000)\n",
    "        \n",
    "plt.minorticks_on()\n",
    "plt.tight_layout()\n",
    "plt.legend()\n",
    "plt.show()"
   ]
  },
  {
   "cell_type": "code",
   "execution_count": 1,
   "id": "f76ddf49-794b-4bbb-887e-e7edfd0c925c",
   "metadata": {
    "execution": {
     "iopub.execute_input": "2024-11-15T08:45:03.896913Z",
     "iopub.status.busy": "2024-11-15T08:45:03.895258Z",
     "iopub.status.idle": "2024-11-15T08:45:04.903366Z",
     "shell.execute_reply": "2024-11-15T08:45:04.902597Z",
     "shell.execute_reply.started": "2024-11-15T08:45:03.896799Z"
    }
   },
   "outputs": [],
   "source": [
    "import sympy\n",
    "from sympy import MatrixSymbol, Identity, latex"
   ]
  },
  {
   "cell_type": "code",
   "execution_count": 4,
   "id": "0d19b43a-2f49-4038-8e69-c21baff8cd3f",
   "metadata": {
    "execution": {
     "iopub.execute_input": "2024-11-15T08:45:13.346715Z",
     "iopub.status.busy": "2024-11-15T08:45:13.344230Z",
     "iopub.status.idle": "2024-11-15T08:45:13.358773Z",
     "shell.execute_reply": "2024-11-15T08:45:13.356198Z",
     "shell.execute_reply.started": "2024-11-15T08:45:13.346598Z"
    }
   },
   "outputs": [],
   "source": [
    "#D = MatrixSymbol('D', 10, 10)\n",
    "# W = sympy.DiagonalMatrix(MatrixSymbol('w', 8, 8))\n",
    "w = sympy.symarray(\"w\", (8,), )\n",
    "W = np.diag(w[1:-1])"
   ]
  },
  {
   "cell_type": "code",
   "execution_count": 5,
   "id": "2ad29945-4d83-414f-8540-ccf251aedf1a",
   "metadata": {
    "execution": {
     "iopub.execute_input": "2024-11-15T08:45:15.185649Z",
     "iopub.status.busy": "2024-11-15T08:45:15.184263Z",
     "iopub.status.idle": "2024-11-15T08:45:15.211224Z",
     "shell.execute_reply": "2024-11-15T08:45:15.208594Z",
     "shell.execute_reply.started": "2024-11-15T08:45:15.185519Z"
    }
   },
   "outputs": [
    {
     "name": "stdout",
     "output_type": "stream",
     "text": [
      "[[ 1 -2  1  0  0  0  0  0]\n",
      " [ 0  1 -2  1  0  0  0  0]\n",
      " [ 0  0  1 -2  1  0  0  0]\n",
      " [ 0  0  0  1 -2  1  0  0]\n",
      " [ 0  0  0  0  1 -2  1  0]\n",
      " [ 0  0  0  0  0  1 -2  1]]\n",
      "[[ 1 -2  1  0  0  0  0  0]\n",
      " [-2  5 -4  1  0  0  0  0]\n",
      " [ 1 -4  6 -4  1  0  0  0]\n",
      " [ 0  1 -4  6 -4  1  0  0]\n",
      " [ 0  0  1 -4  6 -4  1  0]\n",
      " [ 0  0  0  1 -4  6 -4  1]\n",
      " [ 0  0  0  0  1 -4  5 -2]\n",
      " [ 0  0  0  0  0  1 -2  1]]\n"
     ]
    }
   ],
   "source": [
    "D2 = np.diff(np.eye(8, dtype=\"i\"), 2, axis=0)\n",
    "print(D2)\n",
    "print(D2.T @ D2)"
   ]
  },
  {
   "cell_type": "code",
   "execution_count": 6,
   "id": "6909f7f9-b2cb-4772-beb9-58f5264d9f66",
   "metadata": {
    "execution": {
     "iopub.execute_input": "2024-11-15T08:45:20.731142Z",
     "iopub.status.busy": "2024-11-15T08:45:20.729808Z",
     "iopub.status.idle": "2024-11-15T08:45:20.912834Z",
     "shell.execute_reply": "2024-11-15T08:45:20.910324Z",
     "shell.execute_reply.started": "2024-11-15T08:45:20.731059Z"
    }
   },
   "outputs": [],
   "source": [
    "DD2 = (D2.T @ W) @ D2"
   ]
  },
  {
   "cell_type": "code",
   "execution_count": 7,
   "id": "80370102-12b0-47f6-a7a0-a2355bff197b",
   "metadata": {
    "execution": {
     "iopub.execute_input": "2024-11-15T08:45:21.855352Z",
     "iopub.status.busy": "2024-11-15T08:45:21.854292Z",
     "iopub.status.idle": "2024-11-15T08:45:21.866315Z",
     "shell.execute_reply": "2024-11-15T08:45:21.863994Z",
     "shell.execute_reply.started": "2024-11-15T08:45:21.855278Z"
    }
   },
   "outputs": [],
   "source": [
    "from IPython.display import display, Latex"
   ]
  },
  {
   "cell_type": "code",
   "execution_count": 8,
   "id": "9ae749f0-3426-4875-b0ef-7c815e296ad9",
   "metadata": {
    "execution": {
     "iopub.execute_input": "2024-11-15T08:45:22.493114Z",
     "iopub.status.busy": "2024-11-15T08:45:22.492601Z",
     "iopub.status.idle": "2024-11-15T08:45:22.533977Z",
     "shell.execute_reply": "2024-11-15T08:45:22.532477Z",
     "shell.execute_reply.started": "2024-11-15T08:45:22.493071Z"
    }
   },
   "outputs": [
    {
     "data": {
      "text/latex": [
       "$$\\left(\\begin{array}{llllllll}w_{1}&- 2 w_{1}&w_{1}&0&0&0&0&0\\\\- 2 w_{1}&4 w_{1} + w_{2}&- 2 w_{1} - 2 w_{2}&w_{2}&0&0&0&0\\\\w_{1}&- 2 w_{1} - 2 w_{2}&w_{1} + 4 w_{2} + w_{3}&- 2 w_{2} - 2 w_{3}&w_{3}&0&0&0\\\\0&w_{2}&- 2 w_{2} - 2 w_{3}&w_{2} + 4 w_{3} + w_{4}&- 2 w_{3} - 2 w_{4}&w_{4}&0&0\\\\0&0&w_{3}&- 2 w_{3} - 2 w_{4}&w_{3} + 4 w_{4} + w_{5}&- 2 w_{4} - 2 w_{5}&w_{5}&0\\\\0&0&0&w_{4}&- 2 w_{4} - 2 w_{5}&w_{4} + 4 w_{5} + w_{6}&- 2 w_{5} - 2 w_{6}&w_{6}\\\\0&0&0&0&w_{5}&- 2 w_{5} - 2 w_{6}&w_{5} + 4 w_{6}&- 2 w_{6}\\\\0&0&0&0&0&w_{6}&- 2 w_{6}&w_{6}\\\\\\end{array}\\right)$$"
      ],
      "text/plain": [
       "<IPython.core.display.Latex object>"
      ]
     },
     "metadata": {},
     "output_type": "display_data"
    }
   ],
   "source": [
    "s = r\"$$\\left(\\begin{array}{llllllll}\"\n",
    "for i in range(8):\n",
    "    for j in range(8):\n",
    "        s += latex(DD2[i,j])\n",
    "        if j < 7:\n",
    "            s += r\"&\"\n",
    "        else:\n",
    "            s += r\"\\\\\"\n",
    "s += r\"\\end{array}\\right)$$\"\n",
    "# print(s)\n",
    "display(Latex(s))"
   ]
  },
  {
   "cell_type": "code",
   "execution_count": 15,
   "id": "1556fee2-8677-4885-9c91-d3598ce637e3",
   "metadata": {
    "execution": {
     "iopub.execute_input": "2024-11-15T09:18:32.332795Z",
     "iopub.status.busy": "2024-11-15T09:18:32.329990Z",
     "iopub.status.idle": "2024-11-15T09:18:32.352900Z",
     "shell.execute_reply": "2024-11-15T09:18:32.350223Z",
     "shell.execute_reply.started": "2024-11-15T09:18:32.332663Z"
    }
   },
   "outputs": [
    {
     "name": "stdout",
     "output_type": "stream",
     "text": [
      "[[-1.  1.  0.  0.  0.  0.  0.  0.]\n",
      " [ 0. -1.  1.  0.  0.  0.  0.  0.]\n",
      " [ 0.  0. -1.  1.  0.  0.  0.  0.]\n",
      " [ 0.  0.  0. -1.  1.  0.  0.  0.]\n",
      " [ 0.  0.  0.  0. -1.  1.  0.  0.]\n",
      " [ 0.  0.  0.  0.  0. -1.  1.  0.]\n",
      " [ 0.  0.  0.  0.  0.  0. -1.  1.]]\n",
      "[[ 1. -1.  0.  0.  0.  0.  0.  0.]\n",
      " [-1.  2. -1.  0.  0.  0.  0.  0.]\n",
      " [ 0. -1.  2. -1.  0.  0.  0.  0.]\n",
      " [ 0.  0. -1.  2. -1.  0.  0.  0.]\n",
      " [ 0.  0.  0. -1.  2. -1.  0.  0.]\n",
      " [ 0.  0.  0.  0. -1.  2. -1.  0.]\n",
      " [ 0.  0.  0.  0.  0. -1.  2. -1.]\n",
      " [ 0.  0.  0.  0.  0.  0. -1.  1.]]\n"
     ]
    }
   ],
   "source": [
    "D1 = np.diff(np.eye(8), 1, axis=0, )\n",
    "print(D1)\n",
    "print(D1.T @ D1)"
   ]
  },
  {
   "cell_type": "code",
   "execution_count": 19,
   "id": "78021d80-1216-4446-a3c6-a51fe88ef326",
   "metadata": {
    "execution": {
     "iopub.execute_input": "2024-11-15T09:20:27.847245Z",
     "iopub.status.busy": "2024-11-15T09:20:27.846592Z",
     "iopub.status.idle": "2024-11-15T09:20:27.905998Z",
     "shell.execute_reply": "2024-11-15T09:20:27.901230Z",
     "shell.execute_reply.started": "2024-11-15T09:20:27.847178Z"
    }
   },
   "outputs": [],
   "source": [
    "w = sympy.symarray(\"w\", (7,))\n",
    "W = np.diag(w)\n",
    "DD1 = np.dot(np.dot(D1.T, W), D1)"
   ]
  },
  {
   "cell_type": "code",
   "execution_count": 20,
   "id": "28249846-d2aa-4527-bd5e-320441c7425d",
   "metadata": {
    "execution": {
     "iopub.execute_input": "2024-11-15T09:20:28.553731Z",
     "iopub.status.busy": "2024-11-15T09:20:28.552782Z",
     "iopub.status.idle": "2024-11-15T09:20:28.594994Z",
     "shell.execute_reply": "2024-11-15T09:20:28.592224Z",
     "shell.execute_reply.started": "2024-11-15T09:20:28.553656Z"
    }
   },
   "outputs": [
    {
     "data": {
      "text/latex": [
       "$$\\left(\\begin{array}{llllllll}1.0 w_{0}&- 1.0 w_{0}&0&0&0&0&0&0\\\\- 1.0 w_{0}&1.0 w_{0} + 1.0 w_{1}&- 1.0 w_{1}&0&0&0&0&0\\\\0&- 1.0 w_{1}&1.0 w_{1} + 1.0 w_{2}&- 1.0 w_{2}&0&0&0&0\\\\0&0&- 1.0 w_{2}&1.0 w_{2} + 1.0 w_{3}&- 1.0 w_{3}&0&0&0\\\\0&0&0&- 1.0 w_{3}&1.0 w_{3} + 1.0 w_{4}&- 1.0 w_{4}&0&0\\\\0&0&0&0&- 1.0 w_{4}&1.0 w_{4} + 1.0 w_{5}&- 1.0 w_{5}&0\\\\0&0&0&0&0&- 1.0 w_{5}&1.0 w_{5} + 1.0 w_{6}&- 1.0 w_{6}\\\\0&0&0&0&0&0&- 1.0 w_{6}&1.0 w_{6}\\\\\\end{array}\\right)$$"
      ],
      "text/plain": [
       "<IPython.core.display.Latex object>"
      ]
     },
     "metadata": {},
     "output_type": "display_data"
    }
   ],
   "source": [
    "s = r\"$$\\left(\\begin{array}{llllllll}\"\n",
    "for i in range(8):\n",
    "    for j in range(8):\n",
    "        s += latex(DD1[i,j])\n",
    "        if j < 7:\n",
    "            s += r\"&\"\n",
    "        else:\n",
    "            s += r\"\\\\\"\n",
    "s += r\"\\end{array}\\right)$$\"\n",
    "# print(s)\n",
    "display(Latex(s))"
   ]
  },
  {
   "cell_type": "code",
   "execution_count": null,
   "id": "04e5ae9d-dbb4-4e05-b48e-969508653d37",
   "metadata": {},
   "outputs": [],
   "source": [
    "D3 = np.diff(np.eye(9), 3, axis=0, )\n",
    "print(D3)\n",
    "print(D3.T @ D3)"
   ]
  },
  {
   "cell_type": "code",
   "execution_count": null,
   "id": "7c96c689-fe7d-4099-b94b-35be401129ca",
   "metadata": {},
   "outputs": [],
   "source": []
  },
  {
   "cell_type": "code",
   "execution_count": 5,
   "id": "a6f3b7b7-cf6c-4ffc-a0b3-1bcf7cc08a7b",
   "metadata": {
    "execution": {
     "iopub.execute_input": "2024-11-15T11:59:11.459795Z",
     "iopub.status.busy": "2024-11-15T11:59:11.457604Z",
     "iopub.status.idle": "2024-11-15T11:59:11.469547Z",
     "shell.execute_reply": "2024-11-15T11:59:11.467512Z",
     "shell.execute_reply.started": "2024-11-15T11:59:11.459658Z"
    }
   },
   "outputs": [],
   "source": [
    "import ipywidgets as widgets"
   ]
  },
  {
   "cell_type": "code",
   "execution_count": 13,
   "id": "79b6c29a-4e36-4c3a-a007-4eb791e7ba27",
   "metadata": {
    "execution": {
     "iopub.execute_input": "2024-11-15T12:07:05.543576Z",
     "iopub.status.busy": "2024-11-15T12:07:05.540683Z",
     "iopub.status.idle": "2024-11-15T12:07:05.576365Z",
     "shell.execute_reply": "2024-11-15T12:07:05.575540Z",
     "shell.execute_reply.started": "2024-11-15T12:07:05.543488Z"
    }
   },
   "outputs": [
    {
     "data": {
      "application/vnd.jupyter.widget-view+json": {
       "model_id": "32cf39ed441146bea4e16a3e42f098f5",
       "version_major": 2,
       "version_minor": 0
      },
      "text/plain": [
       "Box(children=(Button(description='  The button 0  ', style=ButtonStyle()), Button(description='  The button 1 …"
      ]
     },
     "execution_count": 13,
     "metadata": {},
     "output_type": "execute_result"
    }
   ],
   "source": [
    "buttons = []\n",
    "for i in range(10):\n",
    "    buttons.append(widgets.Button(description=f\"  The button {i}  \"))\n",
    "box = ipywidgets.Box(buttons)\n",
    "box.layout = widgets.Layout(flex_flow=\"row wrap\")\n",
    "box"
   ]
  },
  {
   "cell_type": "code",
   "execution_count": null,
   "id": "e3d265b2-0646-4091-ac20-0226ea42721f",
   "metadata": {},
   "outputs": [],
   "source": []
  }
 ],
 "metadata": {
  "kernelspec": {
   "display_name": "Python 3 (ipykernel)",
   "language": "python",
   "name": "python3"
  },
  "language_info": {
   "codemirror_mode": {
    "name": "ipython",
    "version": 3
   },
   "file_extension": ".py",
   "mimetype": "text/x-python",
   "name": "python",
   "nbconvert_exporter": "python",
   "pygments_lexer": "ipython3",
   "version": "3.12.7"
  }
 },
 "nbformat": 4,
 "nbformat_minor": 5
}
