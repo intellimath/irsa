{
 "cells": [
  {
   "cell_type": "code",
   "execution_count": 1,
   "id": "898fd428-1d6f-4a87-9236-92339a17b458",
   "metadata": {
    "execution": {
     "iopub.execute_input": "2025-03-18T13:58:36.579391Z",
     "iopub.status.busy": "2025-03-18T13:58:36.578989Z",
     "iopub.status.idle": "2025-03-18T13:58:38.212555Z",
     "shell.execute_reply": "2025-03-18T13:58:38.211779Z",
     "shell.execute_reply.started": "2025-03-18T13:58:36.579353Z"
    }
   },
   "outputs": [
    {
     "name": "stdout",
     "output_type": "stream",
     "text": [
      "3.13.2 (main, Feb  5 2025, 01:23:35) [GCC 14.2.0]\n"
     ]
    }
   ],
   "source": [
    "import numpy as np\n",
    "import matplotlib.pyplot as plt\n",
    "\n",
    "from pprint import pprint\n",
    "\n",
    "from functools import partial\n",
    "\n",
    "import numpy as np\n",
    "from sklearn.preprocessing import scale\n",
    "import sklearn.metrics as metrics\n",
    "\n",
    "import matplotlib.pyplot as plt\n",
    "import matplotlib.animation as ani\n",
    "\n",
    "import mlgrad.models as models\n",
    "import mlgrad.regr as regr\n",
    "import mlgrad.cls as cls\n",
    "import mlgrad.pca as pca\n",
    "import mlgrad.plots as plots\n",
    "import mlgrad.funcs as funcs\n",
    "import mlgrad.funcs2 as funcs2\n",
    "import mlgrad.loss as loss\n",
    "import mlgrad.gd as gd\n",
    "import mlgrad.smooth as smooth\n",
    "import mlgrad.inventory as inventory\n",
    "from mlgrad.af import averaging_function\n",
    "import mlgrad.avragg as avragg\n",
    "\n",
    "import rampy\n",
    "import pybaselines\n",
    "import random\n",
    "\n",
    "from irsa import io\n",
    "from irsa.preprocess import despike, utils\n",
    "import irsa.widgets as widgets\n",
    "import irsa.spectra as spectra\n",
    "import irsa.io as io\n",
    "\n",
    "import scipy.special as special\n",
    "\n",
    "import copy\n",
    "\n",
    "import ipywidgets\n",
    "from IPython.display import display\n",
    "\n",
    "import sys\n",
    "print(sys.version)\n",
    "\n",
    "# %matplotlib widget"
   ]
  },
  {
   "cell_type": "code",
   "execution_count": 16,
   "id": "8c060415-7c41-4d50-aad6-b09e9b4f3b25",
   "metadata": {
    "execution": {
     "iopub.execute_input": "2025-03-18T14:10:54.267079Z",
     "iopub.status.busy": "2025-03-18T14:10:54.266445Z",
     "iopub.status.idle": "2025-03-18T14:10:54.336678Z",
     "shell.execute_reply": "2025-03-18T14:10:54.335886Z",
     "shell.execute_reply.started": "2025-03-18T14:10:54.267044Z"
    }
   },
   "outputs": [
    {
     "data": {
      "application/vnd.jupyter.widget-view+json": {
       "model_id": "d2f7b0d0a0794b8f9c8a9358c220be65",
       "version_major": 2,
       "version_minor": 0
      },
      "text/plain": [
       "Box(children=(VBox(children=(Label(value='дата:', style=LabelStyle(font_size='8pt', font_weight='bold')), Sele…"
      ]
     },
     "metadata": {},
     "output_type": "display_data"
    },
    {
     "data": {
      "application/vnd.jupyter.widget-view+json": {
       "model_id": "92c9f2eaf2a346fd9d7f2706fc1fc181",
       "version_major": 2,
       "version_minor": 0
      },
      "text/plain": [
       "Button(description='Select', style=ButtonStyle())"
      ]
     },
     "metadata": {},
     "output_type": "display_data"
    },
    {
     "data": {
      "application/vnd.jupyter.widget-view+json": {
       "model_id": "924b93530a1e45d4bf87a13314c97cf4",
       "version_major": 2,
       "version_minor": 0
      },
      "text/plain": [
       "Output()"
      ]
     },
     "metadata": {},
     "output_type": "display_data"
    },
    {
     "data": {
      "text/plain": [
       "{}"
      ]
     },
     "execution_count": 16,
     "metadata": {},
     "output_type": "execute_result"
    }
   ],
   "source": [
    "# path = f\"/home/intellimath/repos/spectra/bacteria1024\"\n",
    "# path = f\"/home/intellimath/repos/spectra/bacteria250310\"\n",
    "path = f\"/home/intellimath/repos/spectra/mechanical_lysis\"\n",
    "# path = f\"/home/intellimath/repos/spectra/thermal_lysis\"\n",
    "options = {}\n",
    "dd = {}\n",
    "widgets.load_spectras(path, dd, options)"
   ]
  },
  {
   "cell_type": "code",
   "execution_count": 17,
   "id": "363ff852-b298-4225-8bfd-5b4820b65562",
   "metadata": {
    "execution": {
     "iopub.execute_input": "2025-03-18T14:11:01.888923Z",
     "iopub.status.busy": "2025-03-18T14:11:01.888477Z",
     "iopub.status.idle": "2025-03-18T14:11:01.901103Z",
     "shell.execute_reply": "2025-03-18T14:11:01.899452Z",
     "shell.execute_reply.started": "2025-03-18T14:11:01.888885Z"
    }
   },
   "outputs": [
    {
     "name": "stdout",
     "output_type": "stream",
     "text": [
      "['20241219_SA_95_R_less100_6_1_5_mechanical lysis, drop 2', '20241219_SA_36_S_less100_6_1_5_mechanical lysis, drop 1', '20241219_SA_95_R_less100_6_1_5_mechanical lysis, drop 3', '20241219_SA_36_S_less100_6_1_5_mechanical lysis, drop 2', '20241219_SA_95_R_less100_6_1_5_mechanical lysis, drop 1', '20241219_SA_36_S_less100_6_1_5_mechanical lysis, drop 3']\n"
     ]
    }
   ],
   "source": [
    "# dd = io.load_spectras(path, {\"вид_бактерий\":\"STR\", \"отсечки_по_молекулярной_массе\":\"less30more10\"})\n",
    "# dd = io.load_spectras(path, {\"штамм_бактерий\":[\"36\", \"95\"]})\n",
    "# dd = io.load_spectras(path, {})\n",
    "print(list(dd.keys()))\n",
    "\n",
    "d_keys = list(sorted(dd.keys()))\n",
    "sel_i = 0\n",
    "sel = ipywidgets.Dropdown(options=d_keys,  description=\"Experiment:\", rows=len(dd)+1)\n",
    "sel.layout.width=\"50%\""
   ]
  },
  {
   "cell_type": "code",
   "execution_count": 18,
   "id": "173c07b1-1adf-4da3-a5a0-6d20c6e195ef",
   "metadata": {
    "execution": {
     "iopub.execute_input": "2025-03-18T14:11:02.808480Z",
     "iopub.status.busy": "2025-03-18T14:11:02.807385Z",
     "iopub.status.idle": "2025-03-18T14:11:02.822890Z",
     "shell.execute_reply": "2025-03-18T14:11:02.821404Z",
     "shell.execute_reply.started": "2025-03-18T14:11:02.808424Z"
    }
   },
   "outputs": [],
   "source": [
    "for i, key in enumerate(dd):\n",
    "    entry1 = dd[key]\n",
    "    # entry1.allign_bottom()\n",
    "    entry1.crop(50)"
   ]
  },
  {
   "cell_type": "code",
   "execution_count": 19,
   "id": "806a9af9-fc26-4bc0-b025-252074de5236",
   "metadata": {
    "execution": {
     "iopub.execute_input": "2025-03-18T14:11:04.012842Z",
     "iopub.status.busy": "2025-03-18T14:11:04.012530Z",
     "iopub.status.idle": "2025-03-18T14:11:04.705677Z",
     "shell.execute_reply": "2025-03-18T14:11:04.705042Z",
     "shell.execute_reply.started": "2025-03-18T14:11:04.012819Z"
    }
   },
   "outputs": [
    {
     "data": {
      "application/vnd.jupyter.widget-view+json": {
       "model_id": "026c5371790746a480c03be2fe894c81",
       "version_major": 2,
       "version_minor": 0
      },
      "text/plain": [
       "interactive(children=(Dropdown(description='Experiment:', layout=Layout(width='50%'), options=('20241219_SA_36…"
      ]
     },
     "metadata": {},
     "output_type": "display_data"
    }
   ],
   "source": [
    "@ipywidgets.interact(key=sel)\n",
    "def plot_spectra_for_key(key):\n",
    "    entry = dd[key]\n",
    "    entry.plot_spectra()"
   ]
  },
  {
   "cell_type": "code",
   "execution_count": 20,
   "id": "97d2ffc2-fa98-4a35-a213-f28c255452a5",
   "metadata": {
    "execution": {
     "iopub.execute_input": "2025-03-18T14:11:04.706828Z",
     "iopub.status.busy": "2025-03-18T14:11:04.706623Z",
     "iopub.status.idle": "2025-03-18T14:11:05.415055Z",
     "shell.execute_reply": "2025-03-18T14:11:05.413497Z",
     "shell.execute_reply.started": "2025-03-18T14:11:04.706808Z"
    }
   },
   "outputs": [
    {
     "data": {
      "application/vnd.jupyter.widget-view+json": {
       "model_id": "ad0bb4cf223645a3b63f50bc9132c828",
       "version_major": 2,
       "version_minor": 0
      },
      "text/plain": [
       "interactive(children=(Dropdown(description='Experiment:', layout=Layout(width='50%'), options=('20241219_SA_36…"
      ]
     },
     "metadata": {},
     "output_type": "display_data"
    }
   ],
   "source": [
    "@ipywidgets.interact(key=sel)\n",
    "def plot_sigma_mu_for_key(key):\n",
    "    entry = dd[key]\n",
    "    entry.plot_sigma_mu()"
   ]
  },
  {
   "cell_type": "markdown",
   "id": "998907ab-d4ff-45b4-82b4-bcf3d702348c",
   "metadata": {},
   "source": [
    "$$\n",
    "\\mu = \\text{median}(X)\n",
    "$$\n",
    "$$\n",
    "\\sigma = \\text{median}(|X-\\mu|)\n",
    "$$\n",
    "$$\n",
    "\\text{modified-zscore}(X) = 0.6748 \\frac{X - \\mu}{\\sigma}\n",
    "$$"
   ]
  },
  {
   "cell_type": "code",
   "execution_count": 21,
   "id": "fe7c36aa-6967-42db-ba40-a5a72ece9f12",
   "metadata": {
    "execution": {
     "iopub.execute_input": "2025-03-18T14:11:05.417058Z",
     "iopub.status.busy": "2025-03-18T14:11:05.416559Z",
     "iopub.status.idle": "2025-03-18T14:11:06.253084Z",
     "shell.execute_reply": "2025-03-18T14:11:06.252312Z",
     "shell.execute_reply.started": "2025-03-18T14:11:05.417021Z"
    }
   },
   "outputs": [
    {
     "data": {
      "application/vnd.jupyter.widget-view+json": {
       "model_id": "22cdc04397da4dd6834f09fb97feb71f",
       "version_major": 2,
       "version_minor": 0
      },
      "text/plain": [
       "interactive(children=(Dropdown(description='Experiment:', layout=Layout(width='50%'), options=('20241219_SA_36…"
      ]
     },
     "metadata": {},
     "output_type": "display_data"
    }
   ],
   "source": [
    "@ipywidgets.interact(key=sel)\n",
    "def plots_zscore_for_key(key):\n",
    "    entry = dd[key]\n",
    "    entry.plot_zscore()"
   ]
  },
  {
   "cell_type": "code",
   "execution_count": 22,
   "id": "58f6918d-e720-4610-b968-b1212b65cceb",
   "metadata": {
    "execution": {
     "iopub.execute_input": "2025-03-18T14:11:06.262854Z",
     "iopub.status.busy": "2025-03-18T14:11:06.262365Z",
     "iopub.status.idle": "2025-03-18T14:11:07.631998Z",
     "shell.execute_reply": "2025-03-18T14:11:07.630619Z",
     "shell.execute_reply.started": "2025-03-18T14:11:06.262814Z"
    }
   },
   "outputs": [
    {
     "data": {
      "application/vnd.jupyter.widget-view+json": {
       "model_id": "fc5a42b9d4f64620a71959b6fe87d693",
       "version_major": 2,
       "version_minor": 0
      },
      "text/plain": [
       "interactive(children=(Dropdown(description='Experiment:', layout=Layout(width='50%'), options=('20241219_SA_36…"
      ]
     },
     "metadata": {},
     "output_type": "display_data"
    }
   ],
   "source": [
    "@ipywidgets.interact(key=sel)\n",
    "def plots_zscore_hist_for_key(key):\n",
    "    entry = dd[key]\n",
    "    entry.plot_zscore_hist()"
   ]
  },
  {
   "cell_type": "code",
   "execution_count": 23,
   "id": "9da9c507-fd5b-4111-b9f0-cbac7e780525",
   "metadata": {
    "execution": {
     "iopub.execute_input": "2025-03-18T14:11:07.635813Z",
     "iopub.status.busy": "2025-03-18T14:11:07.634879Z",
     "iopub.status.idle": "2025-03-18T14:11:08.911692Z",
     "shell.execute_reply": "2025-03-18T14:11:08.910135Z",
     "shell.execute_reply.started": "2025-03-18T14:11:07.635735Z"
    }
   },
   "outputs": [
    {
     "data": {
      "application/vnd.jupyter.widget-view+json": {
       "model_id": "00f565a9814f4f558d9ed3a0a4da403b",
       "version_major": 2,
       "version_minor": 0
      },
      "text/plain": [
       "interactive(children=(Dropdown(description='Experiment:', layout=Layout(width='50%'), options=('20241219_SA_36…"
      ]
     },
     "metadata": {},
     "output_type": "display_data"
    }
   ],
   "source": [
    "@ipywidgets.interact(key=sel)\n",
    "def check_spectra_for_key(key):\n",
    "    entry = dd[key]\n",
    "    entry.check_spectra()"
   ]
  },
  {
   "cell_type": "code",
   "execution_count": 24,
   "id": "f6d46e30-5f12-4cfd-ad57-274105dac958",
   "metadata": {
    "execution": {
     "iopub.execute_input": "2025-03-18T14:11:08.927496Z",
     "iopub.status.busy": "2025-03-18T14:11:08.927096Z",
     "iopub.status.idle": "2025-03-18T14:11:08.932220Z",
     "shell.execute_reply": "2025-03-18T14:11:08.930843Z",
     "shell.execute_reply.started": "2025-03-18T14:11:08.927460Z"
    }
   },
   "outputs": [],
   "source": [
    "# for i, key in enumerate(dd):\n",
    "#     entry = dd[key]\n",
    "#     entry.exclude_checked()    "
   ]
  },
  {
   "cell_type": "code",
   "execution_count": 8,
   "id": "c0431741-72a2-412c-b49a-c7ca03b0357d",
   "metadata": {
    "execution": {
     "iopub.execute_input": "2025-03-15T12:37:13.244444Z",
     "iopub.status.busy": "2025-03-15T12:37:13.244128Z",
     "iopub.status.idle": "2025-03-15T12:37:14.038767Z",
     "shell.execute_reply": "2025-03-15T12:37:14.038175Z",
     "shell.execute_reply.started": "2025-03-15T12:37:13.244410Z"
    }
   },
   "outputs": [
    {
     "data": {
      "application/vnd.jupyter.widget-view+json": {
       "model_id": "6ace1654008a497ab94db8ed52109fcf",
       "version_major": 2,
       "version_minor": 0
      },
      "text/plain": [
       "interactive(children=(Select(description='Experiment:', layout=Layout(width='50%'), options=('SA_36_S_less100_…"
      ]
     },
     "metadata": {},
     "output_type": "display_data"
    }
   ],
   "source": [
    "# @ipywidgets.interact(key=sel)\n",
    "# def plot_spectra_for_key(key):\n",
    "#     entry = dd[key]\n",
    "#     entry.plot_spectra()"
   ]
  },
  {
   "cell_type": "code",
   "execution_count": 9,
   "id": "62d67ee2-6bfb-448d-ae49-3ac0e77e7bf4",
   "metadata": {
    "execution": {
     "iopub.execute_input": "2025-03-18T13:39:09.903523Z",
     "iopub.status.busy": "2025-03-18T13:39:09.902938Z",
     "iopub.status.idle": "2025-03-18T13:39:10.079901Z",
     "shell.execute_reply": "2025-03-18T13:39:10.078496Z",
     "shell.execute_reply.started": "2025-03-18T13:39:09.903466Z"
    }
   },
   "outputs": [],
   "source": [
    "d2 = spectra.SpectraCollection()\n",
    "for i, key in enumerate(dd):\n",
    "    entry2 = dd[key]\n",
    "    d2[key] = entry2.robust_averaging(tau=3.0)"
   ]
  },
  {
   "cell_type": "code",
   "execution_count": 10,
   "id": "4877a41c-1dd0-490d-b939-1935937220eb",
   "metadata": {
    "execution": {
     "iopub.execute_input": "2025-03-18T13:39:12.054700Z",
     "iopub.status.busy": "2025-03-18T13:39:12.053889Z",
     "iopub.status.idle": "2025-03-18T13:39:12.081694Z",
     "shell.execute_reply": "2025-03-18T13:39:12.080364Z",
     "shell.execute_reply.started": "2025-03-18T13:39:12.054630Z"
    }
   },
   "outputs": [],
   "source": [
    "for key in d2:\n",
    "    entry = d2[key]\n",
    "    entry.allign_bottom()\n",
    "    entry.scale_by_robust_mean(scale=1.0)\n",
    "    # entry.apply_func(y_func=np.log, x_func=np.log, b=1)\n"
   ]
  },
  {
   "cell_type": "code",
   "execution_count": 11,
   "id": "852c3cd7-d75d-4205-894a-ad4fd6bf755b",
   "metadata": {
    "execution": {
     "iopub.execute_input": "2025-03-15T12:37:14.205803Z",
     "iopub.status.busy": "2025-03-15T12:37:14.205373Z",
     "iopub.status.idle": "2025-03-15T12:37:14.210088Z",
     "shell.execute_reply": "2025-03-15T12:37:14.209144Z",
     "shell.execute_reply.started": "2025-03-15T12:37:14.205763Z"
    }
   },
   "outputs": [],
   "source": [
    "# for key in d2:\n",
    "#     entry = d2[key]\n",
    "#     entry.smooth(tau=10.0, func2=funcs.RectExp(w=10.0, p=1.0).evaluate_array)"
   ]
  },
  {
   "cell_type": "code",
   "execution_count": 11,
   "id": "0df98a58-c987-4904-9452-9e786c47995c",
   "metadata": {
    "execution": {
     "iopub.execute_input": "2025-03-18T13:39:17.552178Z",
     "iopub.status.busy": "2025-03-18T13:39:17.551791Z",
     "iopub.status.idle": "2025-03-18T13:39:17.564840Z",
     "shell.execute_reply": "2025-03-18T13:39:17.563670Z",
     "shell.execute_reply.started": "2025-03-18T13:39:17.552146Z"
    }
   },
   "outputs": [
    {
     "data": {
      "application/vnd.jupyter.widget-view+json": {
       "model_id": "450e468b8f3b4ff1b6788a91a732a88e",
       "version_major": 2,
       "version_minor": 0
      },
      "text/plain": [
       "interactive(children=(Dropdown(description='Experiment:', layout=Layout(width='50%'), options=('20241210_SA_36…"
      ]
     },
     "metadata": {},
     "output_type": "display_data"
    }
   ],
   "source": [
    "@ipywidgets.interact(key=sel)\n",
    "def select_windows_for_key(key):\n",
    "    entry = d2[key]\n",
    "    entry.windows = [(1560.0,2690.0), (3010.0,3790.0)]\n",
    "    # entry.select_windows()"
   ]
  },
  {
   "cell_type": "code",
   "execution_count": 13,
   "id": "bb28eef6-1042-4a6d-a1d7-daf745346954",
   "metadata": {
    "execution": {
     "iopub.execute_input": "2025-03-15T12:37:14.228208Z",
     "iopub.status.busy": "2025-03-15T12:37:14.227984Z",
     "iopub.status.idle": "2025-03-15T12:37:14.233298Z",
     "shell.execute_reply": "2025-03-15T12:37:14.232362Z",
     "shell.execute_reply.started": "2025-03-15T12:37:14.228186Z"
    }
   },
   "outputs": [],
   "source": [
    "# @ipywidgets.interact(key=sel)\n",
    "# def plot_spectra_for_key(key):\n",
    "#     entry = d2[key]\n",
    "#     entry.plot_spectras()"
   ]
  },
  {
   "cell_type": "code",
   "execution_count": 12,
   "id": "8dc9953d-3052-41f2-b8fb-3ff39a02ce5a",
   "metadata": {
    "execution": {
     "iopub.execute_input": "2025-03-18T13:39:22.027065Z",
     "iopub.status.busy": "2025-03-18T13:39:22.026362Z",
     "iopub.status.idle": "2025-03-18T13:39:22.050384Z",
     "shell.execute_reply": "2025-03-18T13:39:22.049643Z",
     "shell.execute_reply.started": "2025-03-18T13:39:22.027028Z"
    }
   },
   "outputs": [
    {
     "data": {
      "application/vnd.jupyter.widget-view+json": {
       "model_id": "3e605688d74f4bebb0edbd0d34f29154",
       "version_major": 2,
       "version_minor": 0
      },
      "text/plain": [
       "interactive(children=(Dropdown(description='Experiment:', layout=Layout(width='50%'), options=('20241210_SA_36…"
      ]
     },
     "metadata": {},
     "output_type": "display_data"
    }
   ],
   "source": [
    "@ipywidgets.interact(key=sel)\n",
    "def select_windows_for_key(key):\n",
    "    entry = d2[key]\n",
    "    entry.smooth_by_windows(windows=entry.windows)"
   ]
  },
  {
   "cell_type": "code",
   "execution_count": 15,
   "id": "3939dc02-173e-4a0f-b257-86439ae85b50",
   "metadata": {
    "execution": {
     "iopub.execute_input": "2025-03-15T12:37:14.258096Z",
     "iopub.status.busy": "2025-03-15T12:37:14.257489Z",
     "iopub.status.idle": "2025-03-15T12:37:14.263006Z",
     "shell.execute_reply": "2025-03-15T12:37:14.261631Z",
     "shell.execute_reply.started": "2025-03-15T12:37:14.258031Z"
    }
   },
   "outputs": [],
   "source": [
    "# @ipywidgets.interact(key=sel)\n",
    "# def plot_spectra_for_key(key):\n",
    "#     entry = d2[key]\n",
    "#     entry.plot_spectra()"
   ]
  },
  {
   "cell_type": "code",
   "execution_count": 16,
   "id": "bab65ab8-e8f6-413d-9d22-453ba1f414db",
   "metadata": {
    "execution": {
     "iopub.execute_input": "2025-03-15T12:37:14.265769Z",
     "iopub.status.busy": "2025-03-15T12:37:14.265074Z",
     "iopub.status.idle": "2025-03-15T12:37:14.274031Z",
     "shell.execute_reply": "2025-03-15T12:37:14.272698Z",
     "shell.execute_reply.started": "2025-03-15T12:37:14.265707Z"
    }
   },
   "outputs": [],
   "source": [
    "# plt.figure(figsize=(14,5))\n",
    "# for j,key in enumerate(d2):\n",
    "#     # print(key)\n",
    "#     entry = d2[key]\n",
    "#     xs, ys = entry.x, entry.y\n",
    "#     if \"95\" in key:\n",
    "#         color=\"b\"\n",
    "#     elif \"36\" in key:\n",
    "#         color=\"r\"\n",
    "#     plt.plot(xs, np.mean(ys, axis=0), label=key[1:], c=color)\n",
    "# plt.legend()\n",
    "# plt.show()    "
   ]
  },
  {
   "cell_type": "code",
   "execution_count": 17,
   "id": "d6a2f630-0954-46d3-8162-eb11c3fc1784",
   "metadata": {
    "execution": {
     "iopub.execute_input": "2025-03-15T12:37:14.275515Z",
     "iopub.status.busy": "2025-03-15T12:37:14.275084Z",
     "iopub.status.idle": "2025-03-15T12:37:14.280810Z",
     "shell.execute_reply": "2025-03-15T12:37:14.278925Z",
     "shell.execute_reply.started": "2025-03-15T12:37:14.275471Z"
    }
   },
   "outputs": [],
   "source": [
    "# @ipywidgets.interact(key=sel)\n",
    "# def plot_spectra_for_key(key):\n",
    "#     entry = d2[key]\n",
    "#     entry.select_baseline_param(tau2=1.0, bs_scale=2.5, d=2, func2_mode=\"e\",\n",
    "#                            ww=10, tau_smooth=100, n_iter=100, tol=1.0e-6,\n",
    "#                            func=funcs.Step(0.01),\n",
    "#                            # func2=inventory.relative_abs_max,\n",
    "#                            override_tau2=True,\n",
    "#                           )\n"
   ]
  },
  {
   "cell_type": "code",
   "execution_count": 18,
   "id": "786573f4-3cdd-48a9-b0d4-a65f796ef663",
   "metadata": {
    "execution": {
     "iopub.execute_input": "2025-03-15T12:37:14.282378Z",
     "iopub.status.busy": "2025-03-15T12:37:14.281916Z",
     "iopub.status.idle": "2025-03-15T12:37:14.289841Z",
     "shell.execute_reply": "2025-03-15T12:37:14.287972Z",
     "shell.execute_reply.started": "2025-03-15T12:37:14.282334Z"
    }
   },
   "outputs": [],
   "source": [
    "# for key in d2:\n",
    "#     entry = d2[key]\n",
    "#     entry.subtract_baselines(\n",
    "#         d=2, func2_mode=\"e\",\n",
    "#         func=funcs.Step(0.01),\n",
    "#         # func2=inventory.relative_abs_max,        \n",
    "#     )"
   ]
  },
  {
   "cell_type": "code",
   "execution_count": 19,
   "id": "2bbc9ef9-6334-4e2e-b1f3-89f2543ef001",
   "metadata": {
    "execution": {
     "iopub.execute_input": "2025-03-15T12:37:14.291204Z",
     "iopub.status.busy": "2025-03-15T12:37:14.290810Z",
     "iopub.status.idle": "2025-03-15T12:37:14.299138Z",
     "shell.execute_reply": "2025-03-15T12:37:14.298292Z",
     "shell.execute_reply.started": "2025-03-15T12:37:14.291156Z"
    }
   },
   "outputs": [],
   "source": [
    "# def func2(E):\n",
    "#     E_abs = abs(E)\n",
    "#     return E_abs / np.max(E_abs)\n",
    "\n",
    "# @ipywidgets.interact(key=sel)\n",
    "# def plot_spectra_for_key(key):\n",
    "#     entry = d2[key]\n",
    "#     entry.select_baselines(tau2=1000.0, tau1=0, bs_scale=2.5, d=2, func2_mode=\"e\",\n",
    "#                            ww=10, tau_smooth=100, n_iter=100, tol=1.0e-6,\n",
    "#                            func=funcs.Step(0.001),\n",
    "#                            func2=func2,\n",
    "#                            override_tau2=True\n",
    "#                           )\n"
   ]
  },
  {
   "cell_type": "code",
   "execution_count": 20,
   "id": "e9749e23-fa13-4315-8b03-db4e892a9a73",
   "metadata": {
    "execution": {
     "iopub.execute_input": "2025-03-15T12:37:14.300431Z",
     "iopub.status.busy": "2025-03-15T12:37:14.300143Z",
     "iopub.status.idle": "2025-03-15T12:37:14.304430Z",
     "shell.execute_reply": "2025-03-15T12:37:14.303623Z",
     "shell.execute_reply.started": "2025-03-15T12:37:14.300404Z"
    }
   },
   "outputs": [],
   "source": [
    "# for key in d2:\n",
    "#     entry = d2[key]\n",
    "#     entry.subtract_selected_baselines()"
   ]
  },
  {
   "cell_type": "code",
   "execution_count": 21,
   "id": "c5f9d007-6889-47fd-8a06-56010b7c4607",
   "metadata": {
    "execution": {
     "iopub.execute_input": "2025-03-15T12:37:14.305683Z",
     "iopub.status.busy": "2025-03-15T12:37:14.305394Z",
     "iopub.status.idle": "2025-03-15T12:37:14.309602Z",
     "shell.execute_reply": "2025-03-15T12:37:14.308751Z",
     "shell.execute_reply.started": "2025-03-15T12:37:14.305647Z"
    }
   },
   "outputs": [],
   "source": [
    "# @ipywidgets.interact(key=sel)\n",
    "# def plot_spectra_for_key(key):\n",
    "#     entry = d2[key]\n",
    "#     entry.plot_corrected_spectra()"
   ]
  },
  {
   "cell_type": "code",
   "execution_count": 22,
   "id": "15b3df59-7b08-473f-8d25-6795c8cd9acd",
   "metadata": {
    "execution": {
     "iopub.execute_input": "2025-03-15T12:37:14.314487Z",
     "iopub.status.busy": "2025-03-15T12:37:14.314130Z",
     "iopub.status.idle": "2025-03-15T12:37:14.319257Z",
     "shell.execute_reply": "2025-03-15T12:37:14.317545Z",
     "shell.execute_reply.started": "2025-03-15T12:37:14.314461Z"
    }
   },
   "outputs": [],
   "source": [
    "# for i, key in enumerate(d2):\n",
    "#     entry = d2[key]\n",
    "#     entry.replace_spectra_with_corrected()"
   ]
  },
  {
   "cell_type": "code",
   "execution_count": 23,
   "id": "46505c89-c4a3-4c91-8c31-2f7493d6e0e1",
   "metadata": {
    "execution": {
     "iopub.execute_input": "2025-03-15T12:37:14.320603Z",
     "iopub.status.busy": "2025-03-15T12:37:14.320276Z",
     "iopub.status.idle": "2025-03-15T12:37:14.325109Z",
     "shell.execute_reply": "2025-03-15T12:37:14.324290Z",
     "shell.execute_reply.started": "2025-03-15T12:37:14.320567Z"
    }
   },
   "outputs": [],
   "source": [
    "# for i, key in enumerate(d2):\n",
    "#     entry = d2[key]\n",
    "#     plt.figure(figsize=(12,4))\n",
    "#     plt.title(key)\n",
    "#     xs = entry.x\n",
    "#     for ys in entry.y:\n",
    "#         plt.plot(xs, ys, linewidth=0.5)\n",
    "#     plt.hlines(0, min(xs), max(xs), colors='k', linestyles='--')\n",
    "#     plt.xlim(min(xs)-20, max(xs))\n",
    "        \n",
    "#     plt.minorticks_on()\n",
    "#     plt.tight_layout()\n",
    "#     # plt.legend()\n",
    "#     plt.show()\n",
    "    "
   ]
  },
  {
   "cell_type": "code",
   "execution_count": 21,
   "id": "3bd37abf-a10a-4a47-bf54-b15316dd3ad1",
   "metadata": {
    "execution": {
     "iopub.execute_input": "2025-03-18T13:54:52.966226Z",
     "iopub.status.busy": "2025-03-18T13:54:52.965746Z",
     "iopub.status.idle": "2025-03-18T13:54:53.798080Z",
     "shell.execute_reply": "2025-03-18T13:54:53.797461Z",
     "shell.execute_reply.started": "2025-03-18T13:54:52.966188Z"
    }
   },
   "outputs": [
    {
     "name": "stdout",
     "output_type": "stream",
     "text": [
      "36: (60, 974) 95: (60, 974)\n"
     ]
    },
    {
     "data": {
      "image/png": "[encoded data removed]",
      "text/plain": [
       "<Figure size 1000x600 with 2 Axes>"
      ]
     },
     "metadata": {},
     "output_type": "display_data"
    }
   ],
   "source": [
    "from mlgrad.pca import location, find_pc_all, find_pc_l1_all, find_pc_smoothed_all\n",
    "\n",
    "ys36 = np.concatenate(\n",
    "    tuple(d2.select_y_by_attr_value(\"штамм_бактерий\", \"36\")), axis=0)\n",
    "ys95 = np.concatenate(\n",
    "    tuple(d2.select_y_by_attr_value(\"штамм_бактерий\", \"95\")), axis=0)\n",
    "\n",
    "print(\"36:\", ys36.shape, \"95:\", ys95.shape)\n",
    "\n",
    "c36 = location(ys36)\n",
    "as36, ls36, us36 = find_pc_all(ys36 - c36, 2, verbose=0)\n",
    "us36 = (ys36-c36) @ as36.T\n",
    "us36_95 = (ys95-c36) @ as36.T\n",
    "# S36 = np.linalg.inv(us36 @ us36.T)\n",
    "\n",
    "def dist(S, X):\n",
    "    return np.sqrt([((S@x)@x) for x in X])\n",
    "\n",
    "# plt.figure(figsize=(10,6))\n",
    "us36_01 = us36[:,0:2]\n",
    "S36_01 = np.linalg.inv(us36_01.T @ us36_01)\n",
    "# plt.scatter(us36_01[:,0], us36_01[:,1], c='r', label=\"36\")\n",
    "# plots.plot_contour(partial(dist, S36_01), \n",
    "#                    (-12,8),\n",
    "#                    (-5,5),\n",
    "#                    colors='r',\n",
    "#                    levels=[0.3]\n",
    "#                   )\n",
    "us36_95_01 = us36_95[:,0:2]\n",
    "# plt.scatter(us36_95_01[:,0], us36_95_01[:,1], c='b', label=\"95\")\n",
    "\n",
    "c36_95_01 = location(us36_95_01)\n",
    "as36_95_01, as36_95_01, uu36_95_01 = find_pc_all(us36_95_01 - c36_95_01, 2, verbose=0)\n",
    "\n",
    "\n",
    "S36_95_01 = np.linalg.inv(uu36_95_01.T @ uu36_95_01)\n",
    "# plots.plot_contour(partial(dist, S36_95_01), \n",
    "#                    (-12,8),\n",
    "#                    (-5,5),\n",
    "#                    colors='b',\n",
    "#                    levels=[0.3]\n",
    "#                   )\n",
    "# plt.legend()\n",
    "# plt.show()\n",
    "\n",
    "c95 = location(ys95)\n",
    "as95, ls95, us95 = find_pc_all(ys95 - c95, 3, verbose=0)\n",
    "us95_s36 = (ys36-c95) @ as95.T\n",
    "S95 = np.linalg.inv(us95 @ us95.T)\n",
    "\n",
    "# plt.figure(figsize=(10,6))\n",
    "# plt.plot(ls36, marker='o', label=\"36\")\n",
    "# plt.plot(ls95, marker='o', label=\"95\")\n",
    "# plt.minorticks_on()\n",
    "# plt.grid(1)\n",
    "# plt.show()\n",
    "\n",
    "plt.figure(figsize=(10,6))\n",
    "plt.subplot(2,1,1)\n",
    "plt.scatter((ys36-c36) @ as36[0], (ys36-c36) @ as36[1], s=25, label=\"36\")\n",
    "plt.scatter((ys95-c36) @ as36[0], (ys95-c36) @ as36[1], s=25, label=\"95\")\n",
    "plt.minorticks_on()\n",
    "plt.grid(1)\n",
    "plt.legend()\n",
    "plt.subplot(2,1,2)\n",
    "plt.scatter((ys36-c95) @ as95[0], (ys36-c95) @ as95[1], s=25, label=\"36\")\n",
    "plt.scatter((ys95-c95) @ as95[0], (ys95-c95) @ as95[1], s=25, label=\"95\")\n",
    "plt.minorticks_on()\n",
    "plt.grid(1)\n",
    "plt.tight_layout()\n",
    "plt.legend()\n",
    "plt.show()"
   ]
  },
  {
   "cell_type": "code",
   "execution_count": 14,
   "id": "bcfea743-9f13-4d8f-b76b-bbb600d24111",
   "metadata": {
    "execution": {
     "iopub.execute_input": "2025-03-18T13:40:06.982867Z",
     "iopub.status.busy": "2025-03-18T13:40:06.982046Z",
     "iopub.status.idle": "2025-03-18T13:40:11.489449Z",
     "shell.execute_reply": "2025-03-18T13:40:11.487357Z",
     "shell.execute_reply.started": "2025-03-18T13:40:06.982799Z"
    }
   },
   "outputs": [
    {
     "data": {
      "image/png": "[encoded data removed]",
      "text/plain": [
       "<Figure size 1000x600 with 1 Axes>"
      ]
     },
     "metadata": {},
     "output_type": "display_data"
    },
    {
     "data": {
      "image/png": "[encoded data removed]",
      "text/plain": [
       "<Figure size 1000x600 with 2 Axes>"
      ]
     },
     "metadata": {},
     "output_type": "display_data"
    }
   ],
   "source": [
    "from mlgrad.af import averaging_function\n",
    "from mlgrad.pca import robust_location, find_robust_pc_all\n",
    "\n",
    "wma = averaging_function(\"WMZ\", kwds={\"alpha\":3.5})\n",
    "\n",
    "c36_r = robust_location(ys36, wma)\n",
    "as36_r, ls36_r, us36_r = find_robust_pc_all(ys36 - c36_r, wma, 3, verbose=0)\n",
    "us36_r_95 = (ys95-c36_r) @ as36_r.T\n",
    "\n",
    "c95_r = robust_location(ys95, wma)\n",
    "as95_r, ls95_r, us95_r = find_robust_pc_all(ys95 - c95_r, wma, 3, verbose=0)\n",
    "\n",
    "plt.figure(figsize=(10,6))\n",
    "us36_r_01 = us36_r[:,0:2]\n",
    "S36_r_01 = np.linalg.inv(us36_r_01.T @ us36_r_01)\n",
    "plt.scatter(us36_r_01[:,0], us36_r_01[:,1], c='r', label=\"36\")\n",
    "plots.plot_contour(partial(dist, S36_r_01), \n",
    "                   (-12,12),\n",
    "                   (-5,5),\n",
    "                   colors='r',\n",
    "                   levels=[0.3]\n",
    "                  )\n",
    "us36_r_95_01 = us36_r_95[:,0:2]\n",
    "S36_r_95_01 = np.linalg.inv(us36_r_95_01.T @ us36_r_95_01)\n",
    "plt.scatter(us36_r_95_01[:,0], us36_r_95_01[:,1], c='b', label=\"95\")\n",
    "plots.plot_contour(partial(dist, S36_r_95_01), \n",
    "                   (-12,12),\n",
    "                   (-5,5),\n",
    "                   colors='b',\n",
    "                   levels=[0.3]\n",
    "                  )\n",
    "plt.legend()\n",
    "plt.show()\n",
    "\n",
    "\n",
    "plt.figure(figsize=(10,6))\n",
    "plt.subplot(2,1,1)\n",
    "plt.title(\"36\")\n",
    "plt.scatter((ys36-c36_r) @ as36_r[0], (ys36-c36_r) @ as36_r[1], s=25, label=\"36\")\n",
    "plt.scatter((ys95-c36_r) @ as36_r[0], (ys95-c36_r) @ as36_r[1], s=25, label=\"95\")\n",
    "plt.minorticks_on()\n",
    "plt.grid(1)\n",
    "plt.legend()\n",
    "plt.subplot(2,1,2)\n",
    "plt.title(\"95\")\n",
    "plt.scatter((ys36-c95_r) @ as95_r[0], (ys36-c95_r) @ as95_r[1], s=25, label=\"36\")\n",
    "plt.scatter((ys95-c95_r) @ as95_r[0], (ys95-c95_r) @ as95_r[1], s=25, label=\"95\")\n",
    "plt.minorticks_on()\n",
    "plt.grid(1)\n",
    "plt.tight_layout()\n",
    "plt.legend()\n",
    "plt.show()"
   ]
  },
  {
   "cell_type": "code",
   "execution_count": null,
   "id": "683e5bae-1103-4abf-839d-c6cd40a44df4",
   "metadata": {},
   "outputs": [],
   "source": [
    "# from mlgrad.pca import location, find_pc_all, find_pc_l1_all, find_pc_smoothed_all\n",
    "\n",
    "# plt.figure(figsize=(10,5))\n",
    "# for i, key in enumerate(d2):\n",
    "#     entry = d2[key]\n",
    "#     Xs, Ys = entry.x, entry.y\n",
    "\n",
    "#     C = location(Ys)\n",
    "#     C = smooth.whittaker_smooth(C, tau2=1.0)\n",
    "#     # As, Ls, Us = find_pc_all(Ys - C, 2)\n",
    "#     As2, Ls2, Us2 = find_pc_smoothed_all(Ys - C, 10, tau=1.0)\n",
    "#     # print(As2)\n",
    "#     # plt.plot(Ls, marker='o', label=key)\n",
    "#     plt.figure(figsize=(12,4))\n",
    "#     # plt.plot(Ls_r, marker='o', label=key)\n",
    "#     # plt.scatter(Us[0], Us[1], label=key)\n",
    "#     plt.plot(As2[0], label=key+\"-0\")\n",
    "#     plt.plot(As2[1], label=key+\"-1\")\n",
    "#     plt.plot(As2[2], label=key+\"-2\")\n",
    "#     plt.legend()\n",
    "#     plt.show()\n",
    "\n",
    "#     plt.scatter(Us2[0], Us2[1], label=key)\n",
    "#     plt.tight_layout()\n",
    "#     plt.legend()\n",
    "#     plt.show()\n",
    "#     plt.figure()\n",
    "#     plt.scatter(Us2[1], Us2[2], label=key)\n",
    "#     plt.tight_layout()\n",
    "#     plt.legend()\n",
    "#     plt.show()\n"
   ]
  },
  {
   "cell_type": "code",
   "execution_count": null,
   "id": "7271d211-2e66-40b3-a15a-4d5e2166a3d6",
   "metadata": {},
   "outputs": [],
   "source": [
    "plt.plot(Ls1, marker='o', label='pca')\n",
    "plt.plot(Ls2, marker='o', label='pca smoothed')\n",
    "plt.grid()\n",
    "plt.legend()\n",
    "plt.show()"
   ]
  },
  {
   "cell_type": "code",
   "execution_count": null,
   "id": "b21386b2-7106-456d-8460-df177848bafd",
   "metadata": {},
   "outputs": [],
   "source": [
    "plt.figure(figsize=(12,5))\n",
    "for i, A in enumerate(As1[:3]):\n",
    "    plt.plot(A, label=str(i+1))\n",
    "plt.legend()\n",
    "plt.show()\n",
    "plt.figure(figsize=(12,5))\n",
    "for i, A in enumerate(As2[:3]):\n",
    "    plt.plot(A, label=str(i+1))\n",
    "plt.legend()\n",
    "plt.show()"
   ]
  },
  {
   "cell_type": "code",
   "execution_count": null,
   "id": "75ae5b51-6796-40e6-9865-2fd22debac86",
   "metadata": {},
   "outputs": [],
   "source": [
    "plt.figure(figsize=(12,6))\n",
    "for i, key in enumerate(d2):\n",
    "    entry = d2[key]\n",
    "    Xs, Ys = entry.x, entry.y\n",
    "\n",
    "    # if \"_R_\" in key:\n",
    "    #     if \"95\" in key:\n",
    "    #         color='r'\n",
    "    #     elif \"96\" in key:\n",
    "    #         color='Brown'\n",
    "    # elif \"_S_\" in key:\n",
    "    #     if \"92\" in key:\n",
    "    #         color='m'\n",
    "    #     elif \"93\" in key:\n",
    "    #         color='b'\n",
    "    #     else:\n",
    "    #         color='b'\n",
    "\n",
    "    if \"_R_\" in key:\n",
    "        color='r'\n",
    "    elif \"_S_\" in key:\n",
    "        color='b'\n",
    "    else:\n",
    "        color='m'\n",
    "        \n",
    "    # plt.plot(np.mean(Xs, axis=0), np.mean(Ys, axis=0), linewidth=1.0, color=color, label=key)\n",
    "    plt.plot(np.mean(Ys, axis=0), linewidth=1.0, label=key)\n",
    "    \n",
    "# plt.hlines(0, 0, len(Ys[0]), colors='k')\n",
    "# plt.xlim(-10,1000)\n",
    "        \n",
    "plt.minorticks_on()\n",
    "plt.tight_layout()\n",
    "plt.legend()\n",
    "plt.show()"
   ]
  },
  {
   "cell_type": "code",
   "execution_count": null,
   "id": "f76ddf49-794b-4bbb-887e-e7edfd0c925c",
   "metadata": {},
   "outputs": [],
   "source": [
    "import sympy\n",
    "from sympy import MatrixSymbol, Identity, latex"
   ]
  },
  {
   "cell_type": "code",
   "execution_count": null,
   "id": "80370102-12b0-47f6-a7a0-a2355bff197b",
   "metadata": {},
   "outputs": [],
   "source": [
    "from IPython.display import display, Latex"
   ]
  },
  {
   "cell_type": "code",
   "execution_count": null,
   "id": "8af36947-8fe6-46ae-a4a2-d293965a4cb2",
   "metadata": {},
   "outputs": [],
   "source": [
    "def latex_matrix(DD):\n",
    "    n = DD.shape[0]\n",
    "    s = r\"$$\\left(\\begin{array}{\" + n*\"l\" + \"}\"\n",
    "    for i in range(10):\n",
    "        for j in range(10):\n",
    "            s += latex(DD[i,j])\n",
    "            if j < n-1:\n",
    "                s += r\"&\"\n",
    "            else:\n",
    "                s += r\"\\\\\"\n",
    "    s += r\"\\end{array}\\right)$$\"\n",
    "    # print(s)\n",
    "    return s"
   ]
  },
  {
   "cell_type": "code",
   "execution_count": null,
   "id": "2ad29945-4d83-414f-8540-ccf251aedf1a",
   "metadata": {},
   "outputs": [],
   "source": [
    "E = np.eye(10, dtype=\"i\")\n",
    "D2 = np.diff(E, 2, axis=0)\n",
    "print(D2)\n",
    "print(D2.T @ D2)"
   ]
  },
  {
   "cell_type": "code",
   "execution_count": null,
   "id": "0d19b43a-2f49-4038-8e69-c21baff8cd3f",
   "metadata": {},
   "outputs": [],
   "source": [
    "w2 = sympy.symarray(\"w\", (10,), )\n",
    "W2 = np.diag(w2[0:-2])"
   ]
  },
  {
   "cell_type": "code",
   "execution_count": null,
   "id": "6909f7f9-b2cb-4772-beb9-58f5264d9f66",
   "metadata": {},
   "outputs": [],
   "source": [
    "DD2 = np.dot(np.dot(D2.T, W2), D2)"
   ]
  },
  {
   "cell_type": "code",
   "execution_count": null,
   "id": "9ae749f0-3426-4875-b0ef-7c815e296ad9",
   "metadata": {},
   "outputs": [],
   "source": [
    "display(Latex(latex_matrix(DD2)))"
   ]
  },
  {
   "cell_type": "code",
   "execution_count": null,
   "id": "1556fee2-8677-4885-9c91-d3598ce637e3",
   "metadata": {},
   "outputs": [],
   "source": [
    "D1 = np.diff(np.eye(10, dtype=\"i\"), 1, axis=0, )\n",
    "print(D1)\n",
    "print(D1.T @ D1)"
   ]
  },
  {
   "cell_type": "code",
   "execution_count": null,
   "id": "78021d80-1216-4446-a3c6-a51fe88ef326",
   "metadata": {},
   "outputs": [],
   "source": [
    "w = sympy.symarray(\"w\", (10,))\n",
    "W = np.diag(w[:-1])\n",
    "DD1 = np.dot(np.dot(D1.T, W), D1)"
   ]
  },
  {
   "cell_type": "code",
   "execution_count": null,
   "id": "28249846-d2aa-4527-bd5e-320441c7425d",
   "metadata": {},
   "outputs": [],
   "source": [
    "display(Latex(latex_matrix(DD1)))"
   ]
  },
  {
   "cell_type": "code",
   "execution_count": null,
   "id": "34e73500-df8e-44b6-b5ac-28ad9066a8d3",
   "metadata": {},
   "outputs": [],
   "source": []
  },
  {
   "cell_type": "code",
   "execution_count": null,
   "id": "08dd2903-64f0-45da-8407-52a1be43a129",
   "metadata": {},
   "outputs": [],
   "source": [
    "D3 = np.diff(np.eye(10, dtype=\"i\"), 3, axis=0, )\n",
    "print(D3)\n",
    "print(D3.T @ D3)"
   ]
  },
  {
   "cell_type": "code",
   "execution_count": null,
   "id": "d8fd31b7-5103-4fdc-9632-cd8e1cfc5b48",
   "metadata": {},
   "outputs": [],
   "source": [
    "w3 = sympy.symarray(\"w\", (10,), )\n",
    "W3 = np.diag(w3[0:-3])"
   ]
  },
  {
   "cell_type": "code",
   "execution_count": null,
   "id": "f06d82b5-22d5-40d5-9336-82f826bb40ec",
   "metadata": {},
   "outputs": [],
   "source": [
    "DD3 = np.dot(np.dot(D3.T, W3), D3)"
   ]
  },
  {
   "cell_type": "code",
   "execution_count": null,
   "id": "1f365c71-a228-43ff-8224-ff771f8a0b0b",
   "metadata": {},
   "outputs": [],
   "source": [
    "display(Latex(latex_matrix(DD3)))"
   ]
  },
  {
   "cell_type": "code",
   "execution_count": null,
   "id": "04e5ae9d-dbb4-4e05-b48e-969508653d37",
   "metadata": {},
   "outputs": [],
   "source": [
    "D4 = np.diff(np.eye(10, dtype=\"i\"), 4, axis=0, )\n",
    "print(D4)\n",
    "print(D4.T @ D4)"
   ]
  },
  {
   "cell_type": "code",
   "execution_count": null,
   "id": "86015665-da2c-4dc1-8925-0b34fca44555",
   "metadata": {},
   "outputs": [],
   "source": [
    "w4 = sympy.symarray(\"w\", (10,), )\n",
    "W4 = np.diag(w4[0:-4])"
   ]
  },
  {
   "cell_type": "code",
   "execution_count": null,
   "id": "971ded05-5aee-4474-b35f-4c1287906ba0",
   "metadata": {},
   "outputs": [],
   "source": [
    "DD4 = np.dot(np.dot(D4.T, W4), D4)"
   ]
  },
  {
   "cell_type": "code",
   "execution_count": null,
   "id": "7c96c689-fe7d-4099-b94b-35be401129ca",
   "metadata": {},
   "outputs": [],
   "source": [
    "display(Latex(latex_matrix(DD4)))"
   ]
  },
  {
   "cell_type": "code",
   "execution_count": null,
   "id": "a6f3b7b7-cf6c-4ffc-a0b3-1bcf7cc08a7b",
   "metadata": {},
   "outputs": [],
   "source": [
    "import ipywidgets as widgets\n",
    "import os, time"
   ]
  },
  {
   "cell_type": "code",
   "execution_count": null,
   "id": "79b6c29a-4e36-4c3a-a007-4eb791e7ba27",
   "metadata": {},
   "outputs": [],
   "source": [
    "buttons = []\n",
    "for i in range(10):\n",
    "    buttons.append(widgets.Button(description=f\"  The button {i}  \"))\n",
    "box = ipywidgets.Box(buttons)\n",
    "box.layout = widgets.Layout(flex_flow=\"row wrap\")\n",
    "box"
   ]
  },
  {
   "cell_type": "code",
   "execution_count": null,
   "id": "15224421-2cd9-47fc-b9a7-9e1435532a1d",
   "metadata": {},
   "outputs": [],
   "source": [
    "fp = widgets.FloatProgress(min=0, max=10, value=0, bar_style=\"success\", description=\"abcdefghijklmnopqrstuv\")\n",
    "fp.style.width=32\n",
    "display(fp)\n",
    "for i in range(11):\n",
    "    time.sleep(1)\n",
    "    fp.value=i"
   ]
  },
  {
   "cell_type": "code",
   "execution_count": null,
   "id": "59810839-dd44-4879-b409-fd3b69c60603",
   "metadata": {},
   "outputs": [],
   "source": []
  }
 ],
 "metadata": {
  "kernelspec": {
   "display_name": "Python 3 (ipykernel)",
   "language": "python",
   "name": "python3"
  },
  "language_info": {
   "codemirror_mode": {
    "name": "ipython",
    "version": 3
   },
   "file_extension": ".py",
   "mimetype": "text/x-python",
   "name": "python",
   "nbconvert_exporter": "python",
   "pygments_lexer": "ipython3",
   "version": "3.13.2"
  }
 },
 "nbformat": 4,
 "nbformat_minor": 5
}
