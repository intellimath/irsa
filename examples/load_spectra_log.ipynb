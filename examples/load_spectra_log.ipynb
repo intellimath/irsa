{
 "cells": [
  {
   "cell_type": "code",
   "execution_count": 1,
   "id": "898fd428-1d6f-4a87-9236-92339a17b458",
   "metadata": {
    "execution": {
     "iopub.execute_input": "2024-10-31T16:07:37.836488Z",
     "iopub.status.busy": "2024-10-31T16:07:37.836247Z",
     "iopub.status.idle": "2024-10-31T16:07:39.203407Z",
     "shell.execute_reply": "2024-10-31T16:07:39.202506Z",
     "shell.execute_reply.started": "2024-10-31T16:07:37.836464Z"
    }
   },
   "outputs": [],
   "source": [
    "import numpy as np\n",
    "import matplotlib.pyplot as plt\n",
    "\n",
    "from pprint import pprint\n",
    "\n",
    "import numpy as np\n",
    "from sklearn.preprocessing import scale\n",
    "import sklearn.metrics as metrics\n",
    "\n",
    "import matplotlib.pyplot as plt\n",
    "import matplotlib.animation as ani\n",
    "\n",
    "import mlgrad.models as models\n",
    "import mlgrad.regr as regr\n",
    "import mlgrad.cls as cls\n",
    "import mlgrad.plots as plots\n",
    "import mlgrad.funcs as funcs\n",
    "import mlgrad.funcs2 as funcs2\n",
    "import mlgrad.loss as loss\n",
    "import mlgrad.gd as gd\n",
    "import mlgrad.smooth as smooth\n",
    "import mlgrad.array_transform as at\n",
    "from mlgrad.af import averaging_function\n",
    "# import mlgrad.avragg as avragg\n",
    "\n",
    "import rampy\n",
    "import pybaselines\n",
    "import random\n",
    "\n",
    "from irsa import io\n",
    "from irsa.preprocess import despike, utils\n",
    "import irsa.widgets as widgets\n",
    "\n",
    "from scipy.special import expit\n",
    "\n",
    "import copy\n",
    "\n",
    "import ipywidgets\n",
    "from IPython.display import display\n",
    "\n",
    "%matplotlib widget"
   ]
  },
  {
   "cell_type": "code",
   "execution_count": 2,
   "id": "8c060415-7c41-4d50-aad6-b09e9b4f3b25",
   "metadata": {
    "execution": {
     "iopub.execute_input": "2024-10-31T16:07:39.204325Z",
     "iopub.status.busy": "2024-10-31T16:07:39.204043Z",
     "iopub.status.idle": "2024-10-31T16:07:39.245674Z",
     "shell.execute_reply": "2024-10-31T16:07:39.244892Z",
     "shell.execute_reply.started": "2024-10-31T16:07:39.204305Z"
    }
   },
   "outputs": [
    {
     "data": {
      "application/vnd.jupyter.widget-view+json": {
       "model_id": "f1caa6d417654b1b8fac78e47c72f04d",
       "version_major": 2,
       "version_minor": 0
      },
      "text/plain": [
       "SelectMultiple(description='штамм_бактерий', options=('100', '40', '52', '63'), value=())"
      ]
     },
     "metadata": {},
     "output_type": "display_data"
    },
    {
     "data": {
      "application/vnd.jupyter.widget-view+json": {
       "model_id": "035caa4fee4d4a3cbdf00436495f9f5e",
       "version_major": 2,
       "version_minor": 0
      },
      "text/plain": [
       "SelectMultiple(description='резистентность', options=('R', 'S'), value=())"
      ]
     },
     "metadata": {},
     "output_type": "display_data"
    },
    {
     "data": {
      "application/vnd.jupyter.widget-view+json": {
       "model_id": "0e38ceb930194487a9a06896da6cfb08",
       "version_major": 2,
       "version_minor": 0
      },
      "text/plain": [
       "SelectMultiple(description='начальная_концентрация_клеток_в_пробе', options=('6',), value=())"
      ]
     },
     "metadata": {},
     "output_type": "display_data"
    },
    {
     "data": {
      "application/vnd.jupyter.widget-view+json": {
       "model_id": "2fe00e0430f945c5b85e220e174b665d",
       "version_major": 2,
       "version_minor": 0
      },
      "text/plain": [
       "SelectMultiple(description='отсечки_по_молекулярной_массе', options=('less100', 'less100more50', 'less30', 'le…"
      ]
     },
     "metadata": {},
     "output_type": "display_data"
    },
    {
     "data": {
      "application/vnd.jupyter.widget-view+json": {
       "model_id": "bba55f23055e422c9bdcfe0dbb8fc532",
       "version_major": 2,
       "version_minor": 0
      },
      "text/plain": [
       "SelectMultiple(description='номер_эксперимента_в_цикле', options=('12', '13', '15', '16', '17', '18', '19', '2…"
      ]
     },
     "metadata": {},
     "output_type": "display_data"
    },
    {
     "data": {
      "application/vnd.jupyter.widget-view+json": {
       "model_id": "7f7a006bf0d84dcc8493742bddeed54e",
       "version_major": 2,
       "version_minor": 0
      },
      "text/plain": [
       "SelectMultiple(description='дата', options=('20241017', '20241018', '20241021', '20241022', '20241024'), value…"
      ]
     },
     "metadata": {},
     "output_type": "display_data"
    },
    {
     "data": {
      "application/vnd.jupyter.widget-view+json": {
       "model_id": "97b53a071f6046eb8a335c68a2dec5a7",
       "version_major": 2,
       "version_minor": 0
      },
      "text/plain": [
       "Button(description='Select', style=ButtonStyle())"
      ]
     },
     "metadata": {},
     "output_type": "display_data"
    },
    {
     "data": {
      "application/vnd.jupyter.widget-view+json": {
       "model_id": "71ba94e5cf8d47a78694cd8dcff67b3e",
       "version_major": 2,
       "version_minor": 0
      },
      "text/plain": [
       "Output()"
      ]
     },
     "metadata": {},
     "output_type": "display_data"
    },
    {
     "data": {
      "text/plain": [
       "{}"
      ]
     },
     "execution_count": 2,
     "metadata": {},
     "output_type": "execute_result"
    }
   ],
   "source": [
    "path = f\"/home/intellimath/repos/spectras/bacteria1024\"\n",
    "options = {}\n",
    "dd = {}\n",
    "widgets.load_spectras(path, dd, options)"
   ]
  },
  {
   "cell_type": "code",
   "execution_count": 8,
   "id": "775eccbc-67f2-4b29-b27f-863411136ac5",
   "metadata": {
    "execution": {
     "iopub.execute_input": "2024-10-31T16:12:41.783627Z",
     "iopub.status.busy": "2024-10-31T16:12:41.783387Z",
     "iopub.status.idle": "2024-10-31T16:12:41.789512Z",
     "shell.execute_reply": "2024-10-31T16:12:41.788901Z",
     "shell.execute_reply.started": "2024-10-31T16:12:41.783610Z"
    }
   },
   "outputs": [],
   "source": [
    "d_keys = list(dd.keys())\n",
    "sel_i = 0\n",
    "sel = ipywidgets.Select(options=d_keys,  description=\"Experiment:\", rows=len(dd)+1)\n",
    "sel.layout.width=\"50%\"\n",
    "\n",
    "# def sel_on_value_change(change):\n",
    "#     i_slider.value = 0\n",
    "#     i_slider.max = len(dd[sel.value].y)-1\n",
    "\n",
    "# def i_on_value_change(change):\n",
    "#     plot_spectra_series(sel.value, i_slider.value, f_slider.value)\n",
    "\n",
    "# def f_on_value_change(change):\n",
    "#     plot_spectra_series(sel.value, i_slider.value, f_slider.value)\n",
    "\n",
    "# def tau_on_value_change(change):\n",
    "#     plot_spectra_series(sel.value, i_slider.value, f_slider.value, tau_slider.value)\n",
    "\n",
    "# sel.on_trait_change(sel_on_value_change, name=\"value\")\n",
    "# i_slider.on_trait_change(i_on_value_change, name=\"value\")\n",
    "# f_slider.on_trait_change(f_on_value_change, name=\"value\")\n",
    "# tau_slider.on_trait_change(tau_on_value_change, name=\"value\")\n",
    "\n",
    "# ipywidgets.VBox([sel, i_slider, out])"
   ]
  },
  {
   "cell_type": "code",
   "execution_count": 9,
   "id": "173c07b1-1adf-4da3-a5a0-6d20c6e195ef",
   "metadata": {
    "execution": {
     "iopub.execute_input": "2024-10-31T16:12:42.257729Z",
     "iopub.status.busy": "2024-10-31T16:12:42.257520Z",
     "iopub.status.idle": "2024-10-31T16:12:42.276693Z",
     "shell.execute_reply": "2024-10-31T16:12:42.275941Z",
     "shell.execute_reply.started": "2024-10-31T16:12:42.257712Z"
    }
   },
   "outputs": [],
   "source": [
    "for i, key in enumerate(dd):\n",
    "    entry1 = dd[key]\n",
    "    entry1.crop(40)\n",
    "    # entry1.allign_bottom()"
   ]
  },
  {
   "cell_type": "code",
   "execution_count": 10,
   "id": "62d67ee2-6bfb-448d-ae49-3ac0e77e7bf4",
   "metadata": {
    "execution": {
     "iopub.execute_input": "2024-10-31T16:12:42.662530Z",
     "iopub.status.busy": "2024-10-31T16:12:42.662288Z",
     "iopub.status.idle": "2024-10-31T16:12:42.925823Z",
     "shell.execute_reply": "2024-10-31T16:12:42.925269Z",
     "shell.execute_reply.started": "2024-10-31T16:12:42.662512Z"
    }
   },
   "outputs": [],
   "source": [
    "d2 = {}\n",
    "for i, key in enumerate(dd):\n",
    "    entry2 = dd[key]\n",
    "    d2[key] = entry2.robust_averaging(tau=3.0)\n"
   ]
  },
  {
   "cell_type": "code",
   "execution_count": 11,
   "id": "4877a41c-1dd0-490d-b939-1935937220eb",
   "metadata": {
    "execution": {
     "iopub.execute_input": "2024-10-31T16:12:43.107502Z",
     "iopub.status.busy": "2024-10-31T16:12:43.106808Z",
     "iopub.status.idle": "2024-10-31T16:12:43.126354Z",
     "shell.execute_reply": "2024-10-31T16:12:43.125764Z",
     "shell.execute_reply.started": "2024-10-31T16:12:43.107455Z"
    }
   },
   "outputs": [],
   "source": [
    "for key in d2:\n",
    "    entry = d2[key]\n",
    "    entry.apply_func(y_func=lambda x: np.log(x+1.0e-6), x_func=lambda x: np.log(x+1.0e-6), b=1)\n"
   ]
  },
  {
   "cell_type": "code",
   "execution_count": 12,
   "id": "905e4399-696f-4c23-a381-7ab8766361d6",
   "metadata": {
    "execution": {
     "iopub.execute_input": "2024-10-31T16:12:43.942682Z",
     "iopub.status.busy": "2024-10-31T16:12:43.942470Z",
     "iopub.status.idle": "2024-10-31T16:12:44.342331Z",
     "shell.execute_reply": "2024-10-31T16:12:44.341820Z",
     "shell.execute_reply.started": "2024-10-31T16:12:43.942665Z"
    }
   },
   "outputs": [
    {
     "data": {
      "application/vnd.jupyter.widget-view+json": {
       "model_id": "d583cf4f522c4d608ed3bf9c9531a14e",
       "version_major": 2,
       "version_minor": 0
      },
      "text/plain": [
       "interactive(children=(Select(description='Experiment:', layout=Layout(width='50%'), options=('SA_63_S_less100_…"
      ]
     },
     "metadata": {},
     "output_type": "display_data"
    }
   ],
   "source": [
    "@ipywidgets.interact(key=sel)\n",
    "def plot_spectra_for_key(key):\n",
    "    entry = d2[key]\n",
    "    entry.plot_spectras(baseline=False)"
   ]
  },
  {
   "cell_type": "code",
   "execution_count": null,
   "id": "2bbc9ef9-6334-4e2e-b1f3-89f2543ef001",
   "metadata": {},
   "outputs": [],
   "source": [
    "@ipywidgets.interact(key=sel)\n",
    "def plot_spectra_for_key(key):\n",
    "    entry = d2[key]\n",
    "    entry.select_baselines(tau=1.0e5, solver=\"fast\", )"
   ]
  },
  {
   "cell_type": "code",
   "execution_count": null,
   "id": "db5c2e2a-733b-4774-b204-d84f41da652e",
   "metadata": {},
   "outputs": [],
   "source": [
    "for i, key in enumerate(d2):\n",
    "    entry3 = d2[key]\n",
    "    # entry3.smooth(method=\"irsa\", tau=1.)\n",
    "    # entry3.allign_bottom()\n",
    "    # entry3.normalize_area_under_curve()\n",
    "    # entry3.remove_by_zscore_spectras(tau=3.5, max_count=40)\n",
    "    entry3.subtract_baseline(\"irsa\", lam=100.0)\n",
    "    # entry3.replace_small_values(0.01)\n",
    "    # entry3.normalize_area_under_curve()\n",
    "    # print(entry3.x.shape, entry3.y.shape)\n",
    "    # entry3.y = entry3.remove_outlier_spectras(tau=3.5)\n",
    "    # Is = [i for i,ys in enumerate(entry3.y) if np.any(np.isnan(ys))]\n",
    "    # print(Is)            \n"
   ]
  },
  {
   "cell_type": "code",
   "execution_count": null,
   "id": "46505c89-c4a3-4c91-8c31-2f7493d6e0e1",
   "metadata": {},
   "outputs": [],
   "source": [
    "for i, key in enumerate(d2):\n",
    "    entry = d2[key]\n",
    "    Xs, Ys = entry.x, entry.y\n",
    "\n",
    "    plt.figure(figsize=(12,4))\n",
    "    plt.title(key)\n",
    "    for xs, ys in zip(Xs, Ys):\n",
    "        plt.plot(xs, ys, linewidth=0.5)\n",
    "    plt.hlines(0, min(xs), max(xs), colors='k', linestyles='--')\n",
    "    plt.xlim(min(xs)-20, max(xs))\n",
    "        \n",
    "    plt.minorticks_on()\n",
    "    plt.tight_layout()\n",
    "    # plt.legend()\n",
    "    plt.show()\n",
    "    \n",
    "    # plt.figure(figsize=(12,3))\n",
    "    # Zs = utils.modified_zscore2(Ys)\n",
    "    # for xs,zs in zip(Xs,Zs):\n",
    "    #     plt.plot(xs,abs(zs), linewidth=0.5, marker='s', markersize=1)\n",
    "    # plt.hlines(3.5, 0, max(xs), colors='k', linestyle='--')\n",
    "    # plt.minorticks_on()\n",
    "    # plt.tight_layout()\n",
    "    # plt.show()\n",
    "    "
   ]
  },
  {
   "cell_type": "code",
   "execution_count": null,
   "id": "69258dbb-9677-4452-8548-8c4ff696b504",
   "metadata": {},
   "outputs": [],
   "source": [
    "from sklearn.decomposition import PCA\n",
    "from numpy.linalg import det, inv\n",
    "\n",
    "plt.figure(figsize=(10,6))\n",
    "for i, key in enumerate(d2):\n",
    "    entry = d2[key]\n",
    "    Xs, Ys = entry.x, entry.y\n",
    "\n",
    "    pca = PCA(5)\n",
    "    pca.fit(Ys)\n",
    "    Us = pca.transform(Ys)\n",
    "\n",
    "    S = Us.T @ Us\n",
    "    S /= np.sqrt(det(S))\n",
    "    S = inv(S)\n",
    "    # print(S)\n",
    "\n",
    "\n",
    "    sc = plt.scatter(Us[:,0], Us[:,1], label=key)\n",
    "    c = sc.get_facecolor()\n",
    "\n",
    "    # x_min, x_max = min(Us[:,0]), max(Us[:,0])\n",
    "    # y_min, y_max = min(Us[:,1]), max(Us[:,1])\n",
    "\n",
    "    # xr = np.linspace(x_min, x_max, 50)\n",
    "    # yr = np.linspace(y_min, y_max, 50)\n",
    "    # xx, yy = np.meshgrid(xr, yr)\n",
    "    # xy = np.c_[xx.ravel(), yy.ravel()]\n",
    "    # dd = np.sqrt([0.5*((t @ S) @ t) for t in xy])\n",
    "    # dd = dd.reshape(xx.shape)\n",
    "    # plt.contour(dd, levels=[4.0], colors=c)\n",
    "    \n",
    "\n",
    "plt.minorticks_on()\n",
    "plt.tight_layout()\n",
    "plt.legend()\n",
    "plt.show()"
   ]
  },
  {
   "cell_type": "code",
   "execution_count": null,
   "id": "683e5bae-1103-4abf-839d-c6cd40a44df4",
   "metadata": {},
   "outputs": [],
   "source": [
    "from mlgrad.pca import location, find_pc_all, find_pc_l1_all\n",
    "\n",
    "plt.figure(figsize=(10,6))\n",
    "for i, key in enumerate(d2):\n",
    "    entry = d2[key]\n",
    "    Xs, Ys = entry.x, entry.y\n",
    "\n",
    "    C = location(Ys)\n",
    "    As, Ls, Us = find_pc_all(Ys - C, 2)\n",
    "    plt.plot(Ls, marker='o', label=key)\n",
    "    # plt.scatter(Us[0], Us[1], label=key)\n",
    "\n",
    "plt.tight_layout()\n",
    "plt.legend()\n",
    "plt.show()"
   ]
  },
  {
   "cell_type": "code",
   "execution_count": null,
   "id": "75ae5b51-6796-40e6-9865-2fd22debac86",
   "metadata": {},
   "outputs": [],
   "source": [
    "plt.figure(figsize=(12,6))\n",
    "for i, key in enumerate(d2):\n",
    "    entry = d2[key]\n",
    "    Xs, Ys = entry.x, entry.y\n",
    "\n",
    "    # if \"_R_\" in key:\n",
    "    #     if \"95\" in key:\n",
    "    #         color='r'\n",
    "    #     elif \"96\" in key:\n",
    "    #         color='Brown'\n",
    "    # elif \"_S_\" in key:\n",
    "    #     if \"92\" in key:\n",
    "    #         color='m'\n",
    "    #     elif \"93\" in key:\n",
    "    #         color='b'\n",
    "    #     else:\n",
    "    #         color='b'\n",
    "\n",
    "    if \"_R_\" in key:\n",
    "        color='r'\n",
    "    elif \"_S_\" in key:\n",
    "        color='b'\n",
    "    else:\n",
    "        color='m'\n",
    "        \n",
    "    # plt.plot(np.mean(Xs, axis=0), np.mean(Ys, axis=0), linewidth=1.0, color=color, label=key)\n",
    "    plt.plot(np.mean(Ys, axis=0), linewidth=1.0, label=key)\n",
    "    \n",
    "# plt.hlines(0, 0, len(Ys[0]), colors='k')\n",
    "# plt.xlim(-10,1000)\n",
    "        \n",
    "plt.minorticks_on()\n",
    "plt.tight_layout()\n",
    "plt.legend()\n",
    "plt.show()"
   ]
  },
  {
   "cell_type": "code",
   "execution_count": null,
   "id": "f76ddf49-794b-4bbb-887e-e7edfd0c925c",
   "metadata": {},
   "outputs": [],
   "source": [
    "import sympy\n",
    "from sympy import MatrixSymbol, Identity, latex"
   ]
  },
  {
   "cell_type": "code",
   "execution_count": null,
   "id": "0d19b43a-2f49-4038-8e69-c21baff8cd3f",
   "metadata": {},
   "outputs": [],
   "source": [
    "#D = MatrixSymbol('D', 10, 10)\n",
    "# W = sympy.DiagonalMatrix(MatrixSymbol('w', 8, 8))\n",
    "w = sympy.symarray(\"w\", (8,), )\n",
    "W = np.diag(w[1:-1])"
   ]
  },
  {
   "cell_type": "code",
   "execution_count": null,
   "id": "2ad29945-4d83-414f-8540-ccf251aedf1a",
   "metadata": {},
   "outputs": [],
   "source": [
    "D2 = np.diff(np.eye(8, dtype=\"i\"), 2, axis=0)\n",
    "print(D2)\n",
    "print(D2.T @ D2)"
   ]
  },
  {
   "cell_type": "code",
   "execution_count": null,
   "id": "6909f7f9-b2cb-4772-beb9-58f5264d9f66",
   "metadata": {},
   "outputs": [],
   "source": [
    "DD2 = np.dot(np.dot(D2.T, W), D2)"
   ]
  },
  {
   "cell_type": "code",
   "execution_count": null,
   "id": "80370102-12b0-47f6-a7a0-a2355bff197b",
   "metadata": {},
   "outputs": [],
   "source": [
    "from IPython.display import display, Latex"
   ]
  },
  {
   "cell_type": "code",
   "execution_count": null,
   "id": "9ae749f0-3426-4875-b0ef-7c815e296ad9",
   "metadata": {},
   "outputs": [],
   "source": [
    "s = r\"$$\\left(\\begin{array}{llllllll}\"\n",
    "for i in range(8):\n",
    "    for j in range(8):\n",
    "        s += latex(DD2[i,j])\n",
    "        if j < 7:\n",
    "            s += r\"&\"\n",
    "        else:\n",
    "            s += r\"\\\\\"\n",
    "s += r\"\\end{array}\\right)$$\"\n",
    "# print(s)\n",
    "display(Latex(s))"
   ]
  },
  {
   "cell_type": "code",
   "execution_count": null,
   "id": "1556fee2-8677-4885-9c91-d3598ce637e3",
   "metadata": {},
   "outputs": [],
   "source": [
    "D1 = np.diff(np.eye(8), 1, axis=0, )\n",
    "print(D1)\n",
    "print(D1.T @ D1)"
   ]
  },
  {
   "cell_type": "code",
   "execution_count": null,
   "id": "78021d80-1216-4446-a3c6-a51fe88ef326",
   "metadata": {},
   "outputs": [],
   "source": [
    "w = sympy.symarray(\"w\", (7,))\n",
    "W = np.diag(w)\n",
    "DD1 = np.dot(np.dot(D1.T, W), D1)"
   ]
  },
  {
   "cell_type": "code",
   "execution_count": null,
   "id": "28249846-d2aa-4527-bd5e-320441c7425d",
   "metadata": {},
   "outputs": [],
   "source": [
    "s = r\"$$\\left(\\begin{array}{llllllll}\"\n",
    "for i in range(8):\n",
    "    for j in range(8):\n",
    "        s += latex(DD1[i,j])\n",
    "        if j < 7:\n",
    "            s += r\"&\"\n",
    "        else:\n",
    "            s += r\"\\\\\"\n",
    "s += r\"\\end{array}\\right)$$\"\n",
    "# print(s)\n",
    "display(Latex(s))"
   ]
  },
  {
   "cell_type": "code",
   "execution_count": null,
   "id": "04e5ae9d-dbb4-4e05-b48e-969508653d37",
   "metadata": {},
   "outputs": [],
   "source": [
    "D3 = np.diff(np.eye(9), 3, axis=0, )\n",
    "print(D3)\n",
    "print(D3.T @ D3)"
   ]
  },
  {
   "cell_type": "code",
   "execution_count": null,
   "id": "7c96c689-fe7d-4099-b94b-35be401129ca",
   "metadata": {},
   "outputs": [],
   "source": []
  },
  {
   "cell_type": "code",
   "execution_count": null,
   "id": "a6f3b7b7-cf6c-4ffc-a0b3-1bcf7cc08a7b",
   "metadata": {},
   "outputs": [],
   "source": []
  }
 ],
 "metadata": {
  "kernelspec": {
   "display_name": "Python 3 (ipykernel)",
   "language": "python",
   "name": "python3"
  },
  "language_info": {
   "codemirror_mode": {
    "name": "ipython",
    "version": 3
   },
   "file_extension": ".py",
   "mimetype": "text/x-python",
   "name": "python",
   "nbconvert_exporter": "python",
   "pygments_lexer": "ipython3",
   "version": "3.12.6"
  }
 },
 "nbformat": 4,
 "nbformat_minor": 5
}
