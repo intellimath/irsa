{
 "cells": [
  {
   "cell_type": "code",
   "execution_count": 1,
   "id": "898fd428-1d6f-4a87-9236-92339a17b458",
   "metadata": {
    "execution": {
     "iopub.execute_input": "2025-04-05T16:39:55.874231Z",
     "iopub.status.busy": "2025-04-05T16:39:55.873075Z",
     "iopub.status.idle": "2025-04-05T16:39:58.709486Z",
     "shell.execute_reply": "2025-04-05T16:39:58.708813Z",
     "shell.execute_reply.started": "2025-04-05T16:39:55.874164Z"
    }
   },
   "outputs": [
    {
     "name": "stdout",
     "output_type": "stream",
     "text": [
      "3.13.2 (main, Mar 29 2025, 10:04:43) [GCC 14.2.0]\n"
     ]
    },
    {
     "data": {
      "text/plain": [
       "<contextlib.ExitStack at 0x7f7d16225f90>"
      ]
     },
     "execution_count": 1,
     "metadata": {},
     "output_type": "execute_result"
    }
   ],
   "source": [
    "import numpy as np\n",
    "import matplotlib.pyplot as plt\n",
    "import scipy.stats as stats\n",
    "\n",
    "from pprint import pprint\n",
    "\n",
    "from functools import partial\n",
    "\n",
    "import numpy as np\n",
    "from sklearn.preprocessing import scale\n",
    "import sklearn.metrics as metrics\n",
    "\n",
    "import matplotlib.pyplot as plt\n",
    "import matplotlib.animation as ani\n",
    "\n",
    "import mlgrad.models as models\n",
    "import mlgrad.regr as regr\n",
    "import mlgrad.cls as cls\n",
    "import mlgrad.pca as pca\n",
    "import mlgrad.plots as plots\n",
    "import mlgrad.funcs as funcs\n",
    "import mlgrad.funcs2 as funcs2\n",
    "import mlgrad.loss as loss\n",
    "import mlgrad.gd as gd\n",
    "import mlgrad.smooth as smooth\n",
    "import mlgrad.inventory as inventory\n",
    "from mlgrad.af import averaging_function\n",
    "import mlgrad.avragg as avragg\n",
    "\n",
    "import rampy\n",
    "import pybaselines\n",
    "import random\n",
    "\n",
    "from irsa import io\n",
    "from irsa.preprocess import despike, utils\n",
    "import irsa.widgets as widgets\n",
    "import irsa.spectra as spectra\n",
    "import irsa.io as io\n",
    "\n",
    "import scipy.special as special\n",
    "\n",
    "import copy\n",
    "\n",
    "import ipywidgets\n",
    "from IPython.display import display\n",
    "\n",
    "import sys\n",
    "print(sys.version)\n",
    "\n",
    "%matplotlib widget\n",
    "plt.ion()"
   ]
  },
  {
   "cell_type": "code",
   "execution_count": null,
   "id": "8c060415-7c41-4d50-aad6-b09e9b4f3b25",
   "metadata": {},
   "outputs": [],
   "source": [
    "# path = f\"/home/intellimath/repos/spectra/bacteria1024\"\n",
    "# path = f\"/home/intellimath/repos/spectra/bacteria25_6\"\n",
    "# path = f\"/home/intellimath/repos/spectra/mechanical_lysis\"\n",
    "# path = f\"/home/intellimath/repos/spectra/thermal_lysis\"\n",
    "path = f\"/home/intellimath/repos/spectra/bacteria25_7\"\n",
    "options = {}\n",
    "dd = {}\n",
    "# widgets.load_spectra(path, dd, options)"
   ]
  },
  {
   "cell_type": "code",
   "execution_count": null,
   "id": "363ff852-b298-4225-8bfd-5b4820b65562",
   "metadata": {},
   "outputs": [],
   "source": [
    "# dd = io.load_spectra(path, {\"вид_бактерий\":\"STR\", \"отсечки_по_молекулярной_массе\":\"less30more10\"})\n",
    "# dd = io.load_spectra(path, {\"штамм_бактерий\":[\"36\", \"95\", \"B\", \"C\"], \"тип_измерения_спектров\":[\"SE\"],\n",
    "#                             \"отсечки_по_молекулярной_массе\": [\"less100\"],})\n",
    "# dd = io.load_spectra(path, {\"штамм_бактерий\":[\"36\", \"95\"], #\"A\", \"B\", \"C\", \"D\"], \n",
    "#                              \"отсечки_по_молекулярной_массе\": \"less100\",\n",
    "#                              \"тип_измерения_спектров\":\"SE\"})\n",
    "# dd = io.load_spectra(path, {})\n",
    "dd = io.load_spectra(path, {\"вид_бактерий\":[\"SA\", \"SH\", \"SS\"], \n",
    "                            \"номер_цикла\":[\"7\"], \"номер_эксперимента_в_цикле\":[\"5\"],\n",
    "                            \"отсечки_по_молекулярной_массе\": [\"more100\"],\n",
    "                           })\n",
    "print(list(dd.keys()))\n",
    "\n",
    "d_keys = list(sorted(dd.keys()))\n",
    "sel_i = 0\n",
    "sel = ipywidgets.Dropdown(options=d_keys,  description=\"Experiment:\", rows=len(dd)+1)\n",
    "sel.layout.width=\"50%\""
   ]
  },
  {
   "cell_type": "code",
   "execution_count": null,
   "id": "173c07b1-1adf-4da3-a5a0-6d20c6e195ef",
   "metadata": {},
   "outputs": [],
   "source": [
    "for i, key in enumerate(dd):\n",
    "    entry1 = dd[key]\n",
    "    entry1.allign_bottom()\n",
    "    # entry1.scale_by_max(scale=10.0)\n",
    "    entry1.crop(100)"
   ]
  },
  {
   "cell_type": "code",
   "execution_count": null,
   "id": "806a9af9-fc26-4bc0-b025-252074de5236",
   "metadata": {},
   "outputs": [],
   "source": [
    "@ipywidgets.interact(key=sel)\n",
    "def plot_spectra_for_key(key):\n",
    "    entry = dd[key]\n",
    "    entry.plot_spectra()"
   ]
  },
  {
   "cell_type": "code",
   "execution_count": null,
   "id": "9da9c507-fd5b-4111-b9f0-cbac7e780525",
   "metadata": {},
   "outputs": [],
   "source": [
    "# @ipywidgets.interact(key=sel)\n",
    "# def check_spectra_for_key(key):\n",
    "#     entry = dd[key]\n",
    "#     entry.check_spectra()"
   ]
  },
  {
   "cell_type": "code",
   "execution_count": null,
   "id": "f6d46e30-5f12-4cfd-ad57-274105dac958",
   "metadata": {},
   "outputs": [],
   "source": [
    "# for i, key in enumerate(dd):\n",
    "#     entry = dd[key]\n",
    "#     entry.exclude_checked()    "
   ]
  },
  {
   "cell_type": "code",
   "execution_count": null,
   "id": "c0431741-72a2-412c-b49a-c7ca03b0357d",
   "metadata": {},
   "outputs": [],
   "source": [
    "# @ipywidgets.interact(key=sel)\n",
    "# def plot_spectra_for_key(key):\n",
    "#     entry = dd[key]\n",
    "#     entry.plot_spectra()"
   ]
  },
  {
   "cell_type": "code",
   "execution_count": null,
   "id": "62d67ee2-6bfb-448d-ae49-3ac0e77e7bf4",
   "metadata": {},
   "outputs": [],
   "source": [
    "d2 = spectra.SpectraCollection()\n",
    "for i, key in enumerate(dd):\n",
    "    entry2 = dd[key]\n",
    "    d2[key] = entry2.robust_averaging(tau=3.0)"
   ]
  },
  {
   "cell_type": "code",
   "execution_count": null,
   "id": "4877a41c-1dd0-490d-b939-1935937220eb",
   "metadata": {},
   "outputs": [],
   "source": [
    "for key in d2:\n",
    "    entry = d2[key]\n",
    "    entry.allign_bottom()\n",
    "    entry.scale_by_max(scale=10.0)\n",
    "    # entry.apply_func(y_func=np.log, x_func=np.log, b=1)\n"
   ]
  },
  {
   "cell_type": "code",
   "execution_count": null,
   "id": "e9f2ae9f-a8f4-4aa7-870d-2e6af41a170e",
   "metadata": {},
   "outputs": [],
   "source": [
    "d2.save(\"/home/intellimath/work/spectra/spectra_7_5_SA_SH_SS\", \"origin\")"
   ]
  },
  {
   "cell_type": "code",
   "execution_count": 6,
   "id": "b6cde82a-739c-4fc8-b10a-29f9edcb40e4",
   "metadata": {
    "execution": {
     "iopub.execute_input": "2025-04-05T16:40:58.905923Z",
     "iopub.status.busy": "2025-04-05T16:40:58.905433Z",
     "iopub.status.idle": "2025-04-05T16:40:58.934843Z",
     "shell.execute_reply": "2025-04-05T16:40:58.934222Z",
     "shell.execute_reply.started": "2025-04-05T16:40:58.905875Z"
    }
   },
   "outputs": [
    {
     "name": "stdout",
     "output_type": "stream",
     "text": [
      "20250401_SS_17_no_date_more100_7_5_1_SE_no_date_1_H2O(HPLC)_да_ (924,) (21, 924)\n",
      "20250401_SS_17_no_date_more100_7_5_1_SE_no_date_3_H2O(HPLC)_да_ (924,) (24, 924)\n",
      "20250401_SH_15_no_date_more100_7_5_1_SE_no_date_3_H2O(HPLC)_да_ (924,) (20, 924)\n",
      "20250401_SA_95_R_more100_7_5_1_SE_no_date_1_H2O(HPLC)_да_ (924,) (20, 924)\n",
      "20250401_SA_95_R_more100_7_5_1_SE_no_date_2_H2O(HPLC)_да_ (924,) (20, 924)\n",
      "20250401_SH_15_no_date_more100_7_5_1_SE_no_date_2_H2O(HPLC)_да_ (924,) (20, 924)\n",
      "20250401_SS_17_no_date_more100_7_5_1_SE_no_date_2_H2O(HPLC)_да_ (924,) (21, 924)\n",
      "20250401_SA_95_R_more100_7_5_1_SE_no_date_3_H2O(HPLC)_да_ (924,) (20, 924)\n",
      "20250401_SH_15_no_date_more100_7_5_1_SE_no_date_1_H2O(HPLC)_да_ (924,) (20, 924)\n"
     ]
    }
   ],
   "source": [
    "d3 = spectra.SpectraCollection()\n",
    "d3.load(\"/home/intellimath/work/spectra/spectra_7_5_SA_SH_SS\", \"origin\")\n",
    "for key in d3:\n",
    "    sp = d3[key]\n",
    "    print(key, sp.x.shape, sp.y.shape)\n",
    "    # print(sp.attrs)\n"
   ]
  },
  {
   "cell_type": "code",
   "execution_count": 7,
   "id": "048b7319-7b10-4d93-bed9-d03418e10b22",
   "metadata": {
    "execution": {
     "iopub.execute_input": "2025-04-05T16:40:59.486465Z",
     "iopub.status.busy": "2025-04-05T16:40:59.484175Z",
     "iopub.status.idle": "2025-04-05T16:40:59.504013Z",
     "shell.execute_reply": "2025-04-05T16:40:59.502241Z",
     "shell.execute_reply.started": "2025-04-05T16:40:59.486354Z"
    }
   },
   "outputs": [],
   "source": [
    "d_keys = list(sorted(d3.keys()))\n",
    "sel_i = 0\n",
    "sel = ipywidgets.Dropdown(options=d_keys,  description=\"Experiment:\", rows=len(d3)+1)\n",
    "sel.layout.width=\"50%\""
   ]
  },
  {
   "cell_type": "code",
   "execution_count": null,
   "id": "bb28eef6-1042-4a6d-a1d7-daf745346954",
   "metadata": {},
   "outputs": [],
   "source": [
    "@ipywidgets.interact(key=sel)\n",
    "def plot_spectra_for_key(key):\n",
    "    entry = d3[key]\n",
    "    entry.plot_spectra()"
   ]
  },
  {
   "cell_type": "code",
   "execution_count": null,
   "id": "852c3cd7-d75d-4205-894a-ad4fd6bf755b",
   "metadata": {},
   "outputs": [],
   "source": [
    "# for key in d2:\n",
    "#     entry = d2[key]\n",
    "#     entry.smooth(tau=10.0, func2=funcs.RectExp(w=10.0, p=1.0).evaluate_array)"
   ]
  },
  {
   "cell_type": "code",
   "execution_count": 8,
   "id": "0df98a58-c987-4904-9452-9e786c47995c",
   "metadata": {
    "execution": {
     "iopub.execute_input": "2025-04-05T16:41:07.559414Z",
     "iopub.status.busy": "2025-04-05T16:41:07.558975Z",
     "iopub.status.idle": "2025-04-05T16:41:07.602236Z",
     "shell.execute_reply": "2025-04-05T16:41:07.601610Z",
     "shell.execute_reply.started": "2025-04-05T16:41:07.559388Z"
    }
   },
   "outputs": [
    {
     "data": {
      "application/vnd.jupyter.widget-view+json": {
       "model_id": "901388d05f36424997a3f6900703e00e",
       "version_major": 2,
       "version_minor": 0
      },
      "text/plain": [
       "interactive(children=(Dropdown(description='Experiment:', layout=Layout(width='50%'), options=('20250401_SA_95…"
      ]
     },
     "metadata": {},
     "output_type": "display_data"
    }
   ],
   "source": [
    "@ipywidgets.interact(key=sel)\n",
    "def select_windows_for_key(key):\n",
    "    entry = d3[key]\n",
    "    # entry.windows = [(1560.0,2690.0), (3010.0,3790.0)]\n",
    "    # entry.smooth_by_windows(windows=entry.windows, tau=10)\n",
    "    entry.select_windows()"
   ]
  },
  {
   "cell_type": "code",
   "execution_count": null,
   "id": "8dc9953d-3052-41f2-b8fb-3ff39a02ce5a",
   "metadata": {},
   "outputs": [],
   "source": [
    "# for key in d2:\n",
    "#     entry = d2[key]\n",
    "#     entry.smooth_by_windows(windows=entry.windows, tau=10)"
   ]
  },
  {
   "cell_type": "code",
   "execution_count": null,
   "id": "3939dc02-173e-4a0f-b257-86439ae85b50",
   "metadata": {},
   "outputs": [],
   "source": [
    "# @ipywidgets.interact(key=sel)\n",
    "# def plot_spectra_for_key(key):\n",
    "#     entry = d2[key]\n",
    "#     entry.plot_spectra()"
   ]
  },
  {
   "cell_type": "code",
   "execution_count": null,
   "id": "eac9612e-8fd2-4114-973e-52ab3717bfa9",
   "metadata": {},
   "outputs": [],
   "source": []
  },
  {
   "cell_type": "code",
   "execution_count": null,
   "id": "bab65ab8-e8f6-413d-9d22-453ba1f414db",
   "metadata": {},
   "outputs": [],
   "source": [
    "# plt.figure(figsize=(14,5))\n",
    "# for j,key in enumerate(d2):\n",
    "#     # print(key)\n",
    "#     entry = d2[key]\n",
    "#     xs, ys = entry.x, entry.y\n",
    "#     if \"95\" in key:\n",
    "#         color=\"b\"\n",
    "#     elif \"36\" in key:\n",
    "#         color=\"r\"\n",
    "#     plt.plot(xs, np.mean(ys, axis=0), label=key[1:], c=color)\n",
    "# plt.legend()\n",
    "# plt.show()    "
   ]
  },
  {
   "cell_type": "code",
   "execution_count": null,
   "id": "d6a2f630-0954-46d3-8162-eb11c3fc1784",
   "metadata": {},
   "outputs": [],
   "source": [
    "@ipywidgets.interact(key=sel)\n",
    "def select_baseline_param_for_key(key):\n",
    "    entry = d3[key]\n",
    "    entry.select_baseline_param(tau2=1.0e5, bs_scale=2.5, d=2, func2_mode=\"e\",\n",
    "                           ww=10, tau_smooth=100, n_iter=100, tol=1.0e-6,\n",
    "                           func=funcs.Step(0.1), tau_z=0,\n",
    "                           func2=inventory.relative_abs_max,\n",
    "                           override_tau2=True,\n",
    "                          )\n"
   ]
  },
  {
   "cell_type": "code",
   "execution_count": null,
   "id": "786573f4-3cdd-48a9-b0d4-a65f796ef663",
   "metadata": {},
   "outputs": [],
   "source": [
    "for key in d3:\n",
    "    entry = d3[key]\n",
    "    entry.subtract_baselines(\n",
    "        d=2, func2_mode=\"e\",\n",
    "        func=funcs.Step(0.1),\n",
    "        func2=inventory.relative_abs_max,        \n",
    "    )\n",
    "    entry.replace_spectra_with_corrected()"
   ]
  },
  {
   "cell_type": "code",
   "execution_count": null,
   "id": "2bbc9ef9-6334-4e2e-b1f3-89f2543ef001",
   "metadata": {},
   "outputs": [],
   "source": [
    "# def func2(E):\n",
    "#     E_abs = abs(E)\n",
    "#     return E_abs / np.max(E_abs)\n",
    "\n",
    "@ipywidgets.interact(key=sel)\n",
    "def plot_spectra_for_key(key):\n",
    "    entry = d3[key]\n",
    "    entry.select_baselines(tau2=1.0e5, tau1=0, bs_scale=2.5, d=2, func2_mode=\"e\",\n",
    "                           ww=10, tau_smooth=100, n_iter=100, tol=1.0e-6,\n",
    "                           func=funcs.Step(0.1),\n",
    "                           func2=inventory.relative_abs_max,        \n",
    "                           override_tau2=True\n",
    "                          )\n"
   ]
  },
  {
   "cell_type": "code",
   "execution_count": null,
   "id": "e9749e23-fa13-4315-8b03-db4e892a9a73",
   "metadata": {},
   "outputs": [],
   "source": [
    "# for key in d2:\n",
    "#     entry = d2[key]\n",
    "#     entry.subtract_selected_baselines()"
   ]
  },
  {
   "cell_type": "code",
   "execution_count": null,
   "id": "5a34d26c-160e-4bdd-b784-c04c77602d9b",
   "metadata": {},
   "outputs": [],
   "source": [
    "d3.save(\"/home/intellimath/work/spectra/spectra_7_5_SA_SH_SS\", \"ys-bs-1\")"
   ]
  },
  {
   "cell_type": "code",
   "execution_count": null,
   "id": "c5f9d007-6889-47fd-8a06-56010b7c4607",
   "metadata": {},
   "outputs": [],
   "source": [
    "# @ipywidgets.interact(key=sel)\n",
    "# def plot_spectra_for_key(key):\n",
    "#     entry = d2[key]\n",
    "#     entry.plot_corrected_spectra()"
   ]
  },
  {
   "cell_type": "code",
   "execution_count": null,
   "id": "15b3df59-7b08-473f-8d25-6795c8cd9acd",
   "metadata": {},
   "outputs": [],
   "source": [
    "# for i, key in enumerate(d2):\n",
    "#     entry = d2[key]\n",
    "#     entry.replace_spectra_with_corrected()"
   ]
  },
  {
   "cell_type": "code",
   "execution_count": null,
   "id": "c569af4b-e305-4a2f-8cf5-2b85d45f842e",
   "metadata": {},
   "outputs": [],
   "source": [
    "for key in d2:\n",
    "    entry = d2[key]\n",
    "    entry.allign_bottom()\n",
    "    entry.scale_by_max(scale=10.0)"
   ]
  },
  {
   "cell_type": "code",
   "execution_count": null,
   "id": "46505c89-c4a3-4c91-8c31-2f7493d6e0e1",
   "metadata": {},
   "outputs": [],
   "source": [
    "for i, key in enumerate(d3):\n",
    "    entry = d3[key]\n",
    "    plt.figure(figsize=(12,4))\n",
    "    plt.title(key)\n",
    "    xs = entry.x\n",
    "    Ys = entry.y\n",
    "    for ys in Ys:\n",
    "        plt.plot(xs, ys, linewidth=0.5)\n",
    "    plt.hlines(0, min(xs), max(xs), colors='k', linestyles='--')\n",
    "    plt.xlim(min(xs)-20, max(xs))\n",
    "        \n",
    "    plt.minorticks_on()\n",
    "    plt.tight_layout()\n",
    "    # plt.legend()\n",
    "    plt.show()\n"
   ]
  },
  {
   "cell_type": "code",
   "execution_count": null,
   "id": "3bd37abf-a10a-4a47-bf54-b15316dd3ad1",
   "metadata": {},
   "outputs": [],
   "source": [
    "from irsa.analytics.pca import pca_compare_2d\n",
    "\n",
    "ys36 = np.concatenate(\n",
    "    tuple(d2.select_y_by_attr_value(\"штамм_бактерий\", \"36\")), axis=0)\n",
    "ys95 = np.concatenate(\n",
    "    tuple(d2.select_y_by_attr_value(\"штамм_бактерий\", \"95\")), axis=0)\n",
    "ysB = np.concatenate(\n",
    "    tuple(d2.select_y_by_attr_value(\"штамм_бактерий\", \"B\")), axis=0)\n",
    "ysC = np.concatenate(\n",
    "    tuple(d2.select_y_by_attr_value(\"штамм_бактерий\", \"C\")), axis=0)\n",
    "\n",
    "print(\"36:\", ys36.shape, \"95:\", ys95.shape)\n",
    "\n",
    "pca_compare_2d(ys36, ys95, \"36\", \"95\", 0.975)\n",
    "pca_compare_2d(ys36, ysB, \"36\", \"B\", 0.975)\n",
    "pca_compare_2d(ys95, ysC, \"95\", \"C\", 0.975)\n",
    "pca_compare_2d(ysB, ysC, \"B\", \"C\", 0.975)\n"
   ]
  },
  {
   "cell_type": "code",
   "execution_count": null,
   "id": "ef52d96b-4b03-42ca-9ce2-3cd407f0c411",
   "metadata": {},
   "outputs": [],
   "source": [
    "import mlgrad.models as models\n",
    "import mlgrad.funcs as funcs\n",
    "import mlgrad.funcs2 as funcs2\n",
    "import mlgrad.loss as loss\n",
    "\n",
    "import mlgrad.cls as cls\n",
    "import mlgrad.af as af\n",
    "\n",
    "zs36 = np.ones(ys36.shape[0], \"d\")\n",
    "zs95 = -np.ones(ys95.shape[0], \"d\")\n",
    "zsB = np.ones(ysB.shape[0], \"d\")\n",
    "zsC = -np.ones(ysC.shape[0], \"d\")\n",
    "\n",
    "# print(ys36.shape, zs36.shape)\n",
    "# print(ys95.shape, zs95.shape)\n",
    "\n",
    "ys = np.concatenate((ys36,ys95), axis=0)\n",
    "zs = np.concatenate((zs36,zs95), axis=0)\n",
    "ys = np.ascontiguousarray(ys, dtype=\"d\")\n",
    "zs = np.ascontiguousarray(zs, dtype=\"d\")\n",
    "\n",
    "ysBC = np.concatenate((ysB,ysC), axis=0)\n",
    "zsBC = np.concatenate((zsB,zsC), axis=0)\n",
    "ysBC = np.ascontiguousarray(ysBC, dtype=\"d\")\n",
    "zsBC = np.ascontiguousarray(zsBC, dtype=\"d\")"
   ]
  },
  {
   "cell_type": "code",
   "execution_count": null,
   "id": "2f8eb06c-ea5c-45b4-8ec9-14a867bf7e44",
   "metadata": {},
   "outputs": [],
   "source": [
    "\n",
    "# print(ys.shape, zs.shape)\n",
    "\n",
    "# body = models.FFNetworkModel()\n",
    "# body.add(models.LinearLayer(ys.shape[1], 100))\n",
    "# body.add(models.ScaleLayer(funcs.Logistic(1.0), 100))\n",
    "# head = models.LinearModel(100)\n",
    "# nnmod = models.FFNetworkFuncModel(head, body)\n",
    "# nnmod.allocate()\n",
    "# nnmod.init_param()\n",
    "\n",
    "mod = models.SigmaNeuronModel(funcs.Sigmoidal(1.0), ys.shape[1])\n",
    "mod.allocate()\n",
    "mod.init_param()"
   ]
  },
  {
   "cell_type": "code",
   "execution_count": null,
   "id": "244c2395-51f7-4401-ab03-4a25c80c2df8",
   "metadata": {},
   "outputs": [],
   "source": [
    "alg = cls.classification_as_regr(ys, zs, mod, regnorm=funcs2.AbsoluteNorm(),\n",
    "                                 normalizer=gd.Masked(mod.n_param, 1.0e-5), \n",
    "                                 h=0.001, tau=0.01, n_iter=5000)\n",
    "\n",
    "plt.figure(figsize=(10,3))\n",
    "plt.plot(alg.lvals)\n",
    "plt.show()\n",
    "\n",
    "from sklearn.metrics import accuracy_score\n",
    "print(accuracy_score(zs, np.sign(mod.evaluate(ys))))"
   ]
  },
  {
   "cell_type": "code",
   "execution_count": null,
   "id": "16c153b9-2738-41a9-bef5-564eea9b9db6",
   "metadata": {},
   "outputs": [],
   "source": [
    "param = np.asarray(mod.param[1:])\n",
    "print(param[0])\n",
    "param_p = param.copy()\n",
    "param_m = param.copy()\n",
    "param_p[param < 0] = 0\n",
    "param_m[param > 0] = 0\n",
    "plt.figure(figsize=(10,5))\n",
    "plt.plot(ys36.mean(axis=0), label=\"36\")\n",
    "plt.plot(ys95.mean(axis=0), label=\"95\")\n",
    "plt.vlines(range(ys.shape[1]), 10*param_m, 10*param_p, color='k')\n",
    "plt.show()"
   ]
  },
  {
   "cell_type": "code",
   "execution_count": null,
   "id": "77c4b2c9-21d7-446f-aaf2-e6d96fc1be75",
   "metadata": {},
   "outputs": [],
   "source": [
    "plots.plot_cls_function(mod, ys, zs)"
   ]
  },
  {
   "cell_type": "code",
   "execution_count": null,
   "id": "044443df-3fd4-473a-acb2-5c3cb84b3d47",
   "metadata": {},
   "outputs": [],
   "source": [
    "mod2 = models.SigmaNeuronModel(funcs.Sigmoidal(1.0), ysBC.shape[1])\n",
    "mod2.allocate()\n",
    "mod2.init_param()"
   ]
  },
  {
   "cell_type": "code",
   "execution_count": null,
   "id": "c52399dc-9374-412c-bbef-cf85124cdc32",
   "metadata": {},
   "outputs": [],
   "source": [
    "alg2 = cls.classification_as_regr(ysBC, zsBC, mod2, regnorm=funcs2.AbsoluteNorm(),\n",
    "                                 normalizer=gd.Masked(mod.n_param, 1.0e-5), \n",
    "                                 h=0.01, tau=0.01, n_iter=5000)\n",
    "\n",
    "plt.figure(figsize=(10,3))\n",
    "plt.plot(alg2.lvals)\n",
    "plt.show()\n",
    "\n",
    "from sklearn.metrics import accuracy_score\n",
    "print(accuracy_score(zsBC, np.sign(mod2.evaluate(ysBC))))"
   ]
  },
  {
   "cell_type": "code",
   "execution_count": null,
   "id": "056e39dd-17d8-4bf6-aea7-61e7b250c752",
   "metadata": {},
   "outputs": [],
   "source": [
    "param2 = np.asarray(mod2.param[1:])\n",
    "param2_p = param2.copy()\n",
    "param2_m = param2.copy()\n",
    "param2_p[param2 < 0] = 0\n",
    "param2_m[param2 > 0] = 0\n",
    "plt.figure(figsize=(12,5))\n",
    "plt.plot(ysBC.mean(axis=0))\n",
    "plt.vlines(range(ysBC.shape[1]), 10*param2_m, 10*param2_p, color='k')\n",
    "plt.show()"
   ]
  },
  {
   "cell_type": "code",
   "execution_count": null,
   "id": "8fd205a1-e6a2-4277-8473-5b028fb6875c",
   "metadata": {},
   "outputs": [],
   "source": [
    "plots.plot_cls_function(mod2, ysBC, zsBC)"
   ]
  },
  {
   "cell_type": "code",
   "execution_count": null,
   "id": "bcfea743-9f13-4d8f-b76b-bbb600d24111",
   "metadata": {},
   "outputs": [],
   "source": [
    "# from mlgrad.af import averaging_function\n",
    "# from mlgrad.pca import robust_location, find_robust_pc_all\n",
    "# from irsa.analytics.pca import robust_pca_compare_2d\n",
    "\n",
    "# # wma = averaging_function(\"WMZ\", kwds={\"alpha\":3.5})\n",
    "\n",
    "# robust_pca_compare_2d(ys36, ys95, \"36\", \"95\", kind=\"WZ\")\n",
    "\n",
    "# robust_pca_compare_2d(ys95, ys36, \"95\", \"36\", kind=\"WZ\")"
   ]
  },
  {
   "cell_type": "code",
   "execution_count": null,
   "id": "683e5bae-1103-4abf-839d-c6cd40a44df4",
   "metadata": {},
   "outputs": [],
   "source": [
    "# from mlgrad.pca import location, find_pc_all, find_pc_l1_all, find_pc_smoothed_all\n",
    "\n",
    "# plt.figure(figsize=(10,5))\n",
    "# for i, key in enumerate(d2):\n",
    "#     entry = d2[key]\n",
    "#     Xs, Ys = entry.x, entry.y\n",
    "\n",
    "#     C = location(Ys)\n",
    "#     C = smooth.whittaker_smooth(C, tau2=1.0)\n",
    "#     # As, Ls, Us = find_pc_all(Ys - C, 2)\n",
    "#     As2, Ls2, Us2 = find_pc_smoothed_all(Ys - C, 10, tau=1.0)\n",
    "#     # print(As2)\n",
    "#     # plt.plot(Ls, marker='o', label=key)\n",
    "#     plt.figure(figsize=(12,4))\n",
    "#     # plt.plot(Ls_r, marker='o', label=key)\n",
    "#     # plt.scatter(Us[0], Us[1], label=key)\n",
    "#     plt.plot(As2[0], label=key+\"-0\")\n",
    "#     plt.plot(As2[1], label=key+\"-1\")\n",
    "#     plt.plot(As2[2], label=key+\"-2\")\n",
    "#     plt.legend()\n",
    "#     plt.show()\n",
    "\n",
    "#     plt.scatter(Us2[0], Us2[1], label=key)\n",
    "#     plt.tight_layout()\n",
    "#     plt.legend()\n",
    "#     plt.show()\n",
    "#     plt.figure()\n",
    "#     plt.scatter(Us2[1], Us2[2], label=key)\n",
    "#     plt.tight_layout()\n",
    "#     plt.legend()\n",
    "#     plt.show()\n"
   ]
  },
  {
   "cell_type": "code",
   "execution_count": null,
   "id": "7271d211-2e66-40b3-a15a-4d5e2166a3d6",
   "metadata": {},
   "outputs": [],
   "source": [
    "plt.plot(Ls1, marker='o', label='pca')\n",
    "plt.plot(Ls2, marker='o', label='pca smoothed')\n",
    "plt.grid()\n",
    "plt.legend()\n",
    "plt.show()"
   ]
  },
  {
   "cell_type": "code",
   "execution_count": null,
   "id": "b21386b2-7106-456d-8460-df177848bafd",
   "metadata": {},
   "outputs": [],
   "source": [
    "plt.figure(figsize=(12,5))\n",
    "for i, A in enumerate(As1[:3]):\n",
    "    plt.plot(A, label=str(i+1))\n",
    "plt.legend()\n",
    "plt.show()\n",
    "plt.figure(figsize=(12,5))\n",
    "for i, A in enumerate(As2[:3]):\n",
    "    plt.plot(A, label=str(i+1))\n",
    "plt.legend()\n",
    "plt.show()"
   ]
  },
  {
   "cell_type": "code",
   "execution_count": null,
   "id": "75ae5b51-6796-40e6-9865-2fd22debac86",
   "metadata": {},
   "outputs": [],
   "source": [
    "plt.figure(figsize=(12,6))\n",
    "for i, key in enumerate(d2):\n",
    "    entry = d2[key]\n",
    "    Xs, Ys = entry.x, entry.y\n",
    "\n",
    "    # if \"_R_\" in key:\n",
    "    #     if \"95\" in key:\n",
    "    #         color='r'\n",
    "    #     elif \"96\" in key:\n",
    "    #         color='Brown'\n",
    "    # elif \"_S_\" in key:\n",
    "    #     if \"92\" in key:\n",
    "    #         color='m'\n",
    "    #     elif \"93\" in key:\n",
    "    #         color='b'\n",
    "    #     else:\n",
    "    #         color='b'\n",
    "\n",
    "    if \"_R_\" in key:\n",
    "        color='r'\n",
    "    elif \"_S_\" in key:\n",
    "        color='b'\n",
    "    else:\n",
    "        color='m'\n",
    "        \n",
    "    # plt.plot(np.mean(Xs, axis=0), np.mean(Ys, axis=0), linewidth=1.0, color=color, label=key)\n",
    "    plt.plot(np.mean(Ys, axis=0), linewidth=1.0, label=key)\n",
    "    \n",
    "# plt.hlines(0, 0, len(Ys[0]), colors='k')\n",
    "# plt.xlim(-10,1000)\n",
    "        \n",
    "plt.minorticks_on()\n",
    "plt.tight_layout()\n",
    "plt.legend()\n",
    "plt.show()"
   ]
  },
  {
   "cell_type": "code",
   "execution_count": null,
   "id": "f76ddf49-794b-4bbb-887e-e7edfd0c925c",
   "metadata": {},
   "outputs": [],
   "source": [
    "import sympy\n",
    "from sympy import MatrixSymbol, Identity, latex"
   ]
  },
  {
   "cell_type": "code",
   "execution_count": null,
   "id": "80370102-12b0-47f6-a7a0-a2355bff197b",
   "metadata": {},
   "outputs": [],
   "source": [
    "from IPython.display import display, Latex"
   ]
  },
  {
   "cell_type": "code",
   "execution_count": null,
   "id": "8af36947-8fe6-46ae-a4a2-d293965a4cb2",
   "metadata": {},
   "outputs": [],
   "source": [
    "def latex_matrix(DD):\n",
    "    n = DD.shape[0]\n",
    "    s = r\"$$\\left(\\begin{array}{\" + n*\"l\" + \"}\"\n",
    "    for i in range(10):\n",
    "        for j in range(10):\n",
    "            s += latex(DD[i,j])\n",
    "            if j < n-1:\n",
    "                s += r\"&\"\n",
    "            else:\n",
    "                s += r\"\\\\\"\n",
    "    s += r\"\\end{array}\\right)$$\"\n",
    "    # print(s)\n",
    "    return s"
   ]
  },
  {
   "cell_type": "code",
   "execution_count": null,
   "id": "2ad29945-4d83-414f-8540-ccf251aedf1a",
   "metadata": {},
   "outputs": [],
   "source": [
    "E = np.eye(10, dtype=\"i\")\n",
    "D2 = np.diff(E, 2, axis=0)\n",
    "print(D2)\n",
    "print(D2.T @ D2)"
   ]
  },
  {
   "cell_type": "code",
   "execution_count": null,
   "id": "0d19b43a-2f49-4038-8e69-c21baff8cd3f",
   "metadata": {},
   "outputs": [],
   "source": [
    "w2 = sympy.symarray(\"w\", (10,), )\n",
    "W2 = np.diag(w2[0:-2])"
   ]
  },
  {
   "cell_type": "code",
   "execution_count": null,
   "id": "6909f7f9-b2cb-4772-beb9-58f5264d9f66",
   "metadata": {},
   "outputs": [],
   "source": [
    "DD2 = np.dot(np.dot(D2.T, W2), D2)"
   ]
  },
  {
   "cell_type": "code",
   "execution_count": null,
   "id": "9ae749f0-3426-4875-b0ef-7c815e296ad9",
   "metadata": {},
   "outputs": [],
   "source": [
    "display(Latex(latex_matrix(DD2)))"
   ]
  },
  {
   "cell_type": "code",
   "execution_count": null,
   "id": "1556fee2-8677-4885-9c91-d3598ce637e3",
   "metadata": {},
   "outputs": [],
   "source": [
    "D1 = np.diff(np.eye(10, dtype=\"i\"), 1, axis=0, )\n",
    "print(D1)\n",
    "print(D1.T @ D1)"
   ]
  },
  {
   "cell_type": "code",
   "execution_count": null,
   "id": "78021d80-1216-4446-a3c6-a51fe88ef326",
   "metadata": {},
   "outputs": [],
   "source": [
    "w = sympy.symarray(\"w\", (10,))\n",
    "W = np.diag(w[:-1])\n",
    "DD1 = np.dot(np.dot(D1.T, W), D1)"
   ]
  },
  {
   "cell_type": "code",
   "execution_count": null,
   "id": "28249846-d2aa-4527-bd5e-320441c7425d",
   "metadata": {},
   "outputs": [],
   "source": [
    "display(Latex(latex_matrix(DD1)))"
   ]
  },
  {
   "cell_type": "code",
   "execution_count": null,
   "id": "34e73500-df8e-44b6-b5ac-28ad9066a8d3",
   "metadata": {},
   "outputs": [],
   "source": []
  },
  {
   "cell_type": "code",
   "execution_count": null,
   "id": "08dd2903-64f0-45da-8407-52a1be43a129",
   "metadata": {},
   "outputs": [],
   "source": [
    "D3 = np.diff(np.eye(10, dtype=\"i\"), 3, axis=0, )\n",
    "print(D3)\n",
    "print(D3.T @ D3)"
   ]
  },
  {
   "cell_type": "code",
   "execution_count": null,
   "id": "d8fd31b7-5103-4fdc-9632-cd8e1cfc5b48",
   "metadata": {},
   "outputs": [],
   "source": [
    "w3 = sympy.symarray(\"w\", (10,), )\n",
    "W3 = np.diag(w3[0:-3])"
   ]
  },
  {
   "cell_type": "code",
   "execution_count": null,
   "id": "f06d82b5-22d5-40d5-9336-82f826bb40ec",
   "metadata": {},
   "outputs": [],
   "source": [
    "DD3 = np.dot(np.dot(D3.T, W3), D3)"
   ]
  },
  {
   "cell_type": "code",
   "execution_count": null,
   "id": "1f365c71-a228-43ff-8224-ff771f8a0b0b",
   "metadata": {},
   "outputs": [],
   "source": [
    "display(Latex(latex_matrix(DD3)))"
   ]
  },
  {
   "cell_type": "code",
   "execution_count": null,
   "id": "04e5ae9d-dbb4-4e05-b48e-969508653d37",
   "metadata": {},
   "outputs": [],
   "source": [
    "D4 = np.diff(np.eye(10, dtype=\"i\"), 4, axis=0, )\n",
    "print(D4)\n",
    "print(D4.T @ D4)"
   ]
  },
  {
   "cell_type": "code",
   "execution_count": null,
   "id": "86015665-da2c-4dc1-8925-0b34fca44555",
   "metadata": {},
   "outputs": [],
   "source": [
    "w4 = sympy.symarray(\"w\", (10,), )\n",
    "W4 = np.diag(w4[0:-4])"
   ]
  },
  {
   "cell_type": "code",
   "execution_count": null,
   "id": "971ded05-5aee-4474-b35f-4c1287906ba0",
   "metadata": {},
   "outputs": [],
   "source": [
    "DD4 = np.dot(np.dot(D4.T, W4), D4)"
   ]
  },
  {
   "cell_type": "code",
   "execution_count": null,
   "id": "7c96c689-fe7d-4099-b94b-35be401129ca",
   "metadata": {},
   "outputs": [],
   "source": [
    "display(Latex(latex_matrix(DD4)))"
   ]
  },
  {
   "cell_type": "code",
   "execution_count": null,
   "id": "a6f3b7b7-cf6c-4ffc-a0b3-1bcf7cc08a7b",
   "metadata": {},
   "outputs": [],
   "source": [
    "import ipywidgets as widgets\n",
    "import os, time"
   ]
  },
  {
   "cell_type": "code",
   "execution_count": null,
   "id": "79b6c29a-4e36-4c3a-a007-4eb791e7ba27",
   "metadata": {},
   "outputs": [],
   "source": [
    "buttons = []\n",
    "for i in range(10):\n",
    "    buttons.append(widgets.Button(description=f\"  The button {i}  \"))\n",
    "box = ipywidgets.Box(buttons)\n",
    "box.layout = widgets.Layout(flex_flow=\"row wrap\")\n",
    "box"
   ]
  },
  {
   "cell_type": "code",
   "execution_count": null,
   "id": "15224421-2cd9-47fc-b9a7-9e1435532a1d",
   "metadata": {},
   "outputs": [],
   "source": [
    "fp = widgets.FloatProgress(min=0, max=10, value=0, bar_style=\"success\", description=\"abcdefghijklmnopqrstuv\")\n",
    "fp.style.width=32\n",
    "display(fp)\n",
    "for i in range(11):\n",
    "    time.sleep(1)\n",
    "    fp.value=i"
   ]
  },
  {
   "cell_type": "code",
   "execution_count": null,
   "id": "59810839-dd44-4879-b409-fd3b69c60603",
   "metadata": {},
   "outputs": [],
   "source": []
  }
 ],
 "metadata": {
  "kernelspec": {
   "display_name": "Python 3 (ipykernel)",
   "language": "python",
   "name": "python3"
  },
  "language_info": {
   "codemirror_mode": {
    "name": "ipython",
    "version": 3
   },
   "file_extension": ".py",
   "mimetype": "text/x-python",
   "name": "python",
   "nbconvert_exporter": "python",
   "pygments_lexer": "ipython3",
   "version": "3.13.2"
  }
 },
 "nbformat": 4,
 "nbformat_minor": 5
}
